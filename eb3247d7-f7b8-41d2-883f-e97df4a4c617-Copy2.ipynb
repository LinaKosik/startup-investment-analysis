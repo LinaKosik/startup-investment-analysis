{
 "cells": [
  {
   "cell_type": "markdown",
   "metadata": {
    "id": "4mJbK1knrJgz"
   },
   "source": [
    "# Проект: Исследование стартапов"
   ]
  },
  {
   "cell_type": "markdown",
   "metadata": {},
   "source": [
    "- Автор: Косарева Алина\n",
    "- Дата: 08.06 - 13.06.2025"
   ]
  },
  {
   "cell_type": "markdown",
   "metadata": {
    "id": "P6j0r3worJg0"
   },
   "source": [
    "## Введение"
   ]
  },
  {
   "cell_type": "markdown",
   "metadata": {},
   "source": [
    "Заказчик - финансовая компания. Бэкграунд компании: предоставление льготных займов стартапам. \n",
    "\n",
    "Цель заказчика: расширить свой профиль и выйти на инвестиционный рынок для покупки, развития и перепродажи молодых и перспективных стартапов. \n",
    "Стратегическая задача: построение жизнеспособной бизнес-модели.\n",
    "\n",
    "Цель нашей работы: сформировать чистый, логически связный набор данных и получить на его основе первые бизнес‑выводы, которые помогут нам понять:\n",
    "- насколько текущие данные пригодны для построения модели отбора стартапов;\n",
    "- какие дополнительные данные нужно собирать и какова их ожидаемая ценность;\n",
    "- заложить фундамент для последующей разработки системы принятия инвестиционных решений.\n",
    "\n",
    "Задачи:\n",
    "1. подготовить единый датасет\n",
    "- выявить оптимальные столбцы для объединения и анализа\n",
    "- выявить и устранить ошибки, пропуски и противоречивые значения.\n",
    "\n",
    "2. оценить достоверность ключевых атрибутов\n",
    "- проверить корректность сведений\n",
    "- интерпретировать записи о сделках\n",
    "\n",
    "3. проанализировать факторы стоимости\n",
    "- исследовать зависимость цены покупки от отрасли стартапа \\ количество раундов финансирования до сделки\n",
    "- рассчитать и визуализировать числовые показатели и их динамику\n",
    "\n",
    "4. выявить признаки успешных сделок\n",
    "- определить метрики и критерии, повышающие вероятность удачной покупки и перепродажи\n",
    "- оценить достаточность метрик в датасетах"
   ]
  },
  {
   "cell_type": "markdown",
   "metadata": {
    "id": "xqr6uttCrJg0"
   },
   "source": [
    "\n",
    "## Шаг 1. Знакомство с данными: загрузка и первичная предобработка\n",
    "\n",
    "Названия файлов:\n",
    "\n",
    "\n",
    "acquisition.csv (информация о покупках одними компаниями других компаний)\n",
    "- `id` — идентификатор покупки.\n",
    "- `acquiring_company_id` — идентификатор покупающей компании.\n",
    "- `acquired_company_id` — идентификатор покупаемой компании.\n",
    "- `term_code` — варианты расчёта.\n",
    "- `price_amount` — сумма сделки.\n",
    "- `acquired_at` — дата сделки.\n",
    "\n",
    "\n",
    "company_and_rounds.csv (информация о компаниях и раундах финансирования)\n",
    "- `company ID` — идентификатор компании.\n",
    "- `name` — название компании.\n",
    "- `category code` — категория области деятельности компании.\n",
    "- `status` — статус компании.\n",
    "- `founded at` — дата инвестирования.\n",
    "- `closed at` — дата закрытия компании.\n",
    "- `domain` — официальный сайт компании.\n",
    "- `network username` — ник компании в сети.\n",
    "- `country code` — код страны компании.\n",
    "- `investment rounds` — число инвестиционных раундов.\n",
    "- `funding round` — число раундов финансирования.\n",
    "- `funding total` — сумма финансирования.\n",
    "- `milestones` — вехи финансирования.\n",
    "- `funding round id` — идентификатор этапа финансирования.\n",
    "- `company id` — идентификатор компании.\n",
    "- `funded at` — дата финансирования.\n",
    "- `funding round type` — тип финансирования.\n",
    "- `raised amount` — сумма финансирования.\n",
    "- `pre money valuation` — предварительная денежная оценка.\n",
    "- `participants` — число участников.\n",
    "- `is first round` — является ли раунд первым.\n",
    "- `is last round` — является раунд последним.\n",
    "\n",
    "\n",
    "people.csv (информация об образовании сотрудника)\n",
    "- `id` — идентификатор записи об образовании.\n",
    "- `person_id` — идентификатор работника.\n",
    "- `instituition` — название учебного заведения.\n",
    "- `graduated_at` — дата получения образования.\n",
    "\n",
    "\n",
    "education.csv (информация о сотрудниках)\n",
    "- `id` — идентификатор сотрудника.\n",
    "- `first_name` — имя сотрудника.\n",
    "- `last_name` — фамилия сотрудника.\n",
    "- `company_id` — идентификатор компании.\n",
    "- `network_username` — ник в социальных сетях.\n",
    "\n",
    "\n",
    "degrees.csv (информация о типе образования сотрудника)\n",
    "- `id` — идентификатор записи.\n",
    "- `object_id` — идентификатор сотрудника.\n",
    "- `degree_type` — тип образования.\n",
    "- `subject` — специальность.\n",
    "\n",
    "Опциональные датасеты:\n",
    "* fund.csv (информация о фондах)\n",
    "* investment.csv (информация о раундах инвестирования)\n",
    "\n",
    "\n",
    "### 1.1. Вывод общей информации, исправление названия столбцов\n",
    "\n"
   ]
  },
  {
   "cell_type": "code",
   "execution_count": 1,
   "metadata": {
    "colab": {
     "base_uri": "https://localhost:8080/"
    },
    "id": "W_W4jRazrJg0",
    "outputId": "d2409aad-233f-4bb4-ec71-7da96594f9df",
    "vscode": {
     "languageId": "plaintext"
    }
   },
   "outputs": [],
   "source": [
    "import pandas as pd\n",
    "\n",
    "import matplotlib.pyplot as plt\n",
    "import seaborn as sns"
   ]
  },
  {
   "cell_type": "markdown",
   "metadata": {},
   "source": [
    "#### Анализ датасета `acquisition`"
   ]
  },
  {
   "cell_type": "code",
   "execution_count": 2,
   "metadata": {
    "id": "2Tm4Pk__Felf"
   },
   "outputs": [
    {
     "name": "stdout",
     "output_type": "stream",
     "text": [
      "<class 'pandas.core.frame.DataFrame'>\n",
      "RangeIndex: 9407 entries, 0 to 9406\n",
      "Data columns (total 6 columns):\n",
      " #   Column                Non-Null Count  Dtype \n",
      "---  ------                --------------  ----- \n",
      " 0   id                    9407 non-null   int64 \n",
      " 1   acquiring_company_id  9407 non-null   int64 \n",
      " 2   acquired_company_id   9407 non-null   int64 \n",
      " 3   term_code             1831 non-null   object\n",
      " 4   price_amount          9407 non-null   int64 \n",
      " 5   acquired_at           9378 non-null   object\n",
      "dtypes: int64(4), object(2)\n",
      "memory usage: 441.1+ KB\n"
     ]
    },
    {
     "data": {
      "text/html": [
       "<div>\n",
       "<style scoped>\n",
       "    .dataframe tbody tr th:only-of-type {\n",
       "        vertical-align: middle;\n",
       "    }\n",
       "\n",
       "    .dataframe tbody tr th {\n",
       "        vertical-align: top;\n",
       "    }\n",
       "\n",
       "    .dataframe thead th {\n",
       "        text-align: right;\n",
       "    }\n",
       "</style>\n",
       "<table border=\"1\" class=\"dataframe\">\n",
       "  <thead>\n",
       "    <tr style=\"text-align: right;\">\n",
       "      <th></th>\n",
       "      <th>id</th>\n",
       "      <th>acquiring_company_id</th>\n",
       "      <th>acquired_company_id</th>\n",
       "      <th>term_code</th>\n",
       "      <th>price_amount</th>\n",
       "      <th>acquired_at</th>\n",
       "    </tr>\n",
       "  </thead>\n",
       "  <tbody>\n",
       "    <tr>\n",
       "      <th>0</th>\n",
       "      <td>1</td>\n",
       "      <td>11</td>\n",
       "      <td>10</td>\n",
       "      <td>NaN</td>\n",
       "      <td>20000000</td>\n",
       "      <td>2007-05-30</td>\n",
       "    </tr>\n",
       "    <tr>\n",
       "      <th>1</th>\n",
       "      <td>7</td>\n",
       "      <td>59</td>\n",
       "      <td>72</td>\n",
       "      <td>cash</td>\n",
       "      <td>60000000</td>\n",
       "      <td>2007-07-01</td>\n",
       "    </tr>\n",
       "    <tr>\n",
       "      <th>2</th>\n",
       "      <td>8</td>\n",
       "      <td>24</td>\n",
       "      <td>132</td>\n",
       "      <td>cash</td>\n",
       "      <td>280000000</td>\n",
       "      <td>2007-05-01</td>\n",
       "    </tr>\n",
       "  </tbody>\n",
       "</table>\n",
       "</div>"
      ],
      "text/plain": [
       "   id  acquiring_company_id  acquired_company_id term_code  price_amount  \\\n",
       "0   1                    11                   10       NaN      20000000   \n",
       "1   7                    59                   72      cash      60000000   \n",
       "2   8                    24                  132      cash     280000000   \n",
       "\n",
       "  acquired_at  \n",
       "0  2007-05-30  \n",
       "1  2007-07-01  \n",
       "2  2007-05-01  "
      ]
     },
     "execution_count": 2,
     "metadata": {},
     "output_type": "execute_result"
    }
   ],
   "source": [
    "acq = pd.read_csv('/datasets/acquisition.csv')\n",
    "acq.info()\n",
    "acq.head(3)"
   ]
  },
  {
   "cell_type": "markdown",
   "metadata": {},
   "source": [
    "Много пропусков в столбце с вариантами расчета, столбец можно исключить (необходимо в дальнейшем рассмотреть, понадобится ли он для анализа). Столбец `acquired_at` привести к временному типу данных, `term_code` - к категоральному            "
   ]
  },
  {
   "cell_type": "markdown",
   "metadata": {},
   "source": [
    "Проведем небольшой анализ:"
   ]
  },
  {
   "cell_type": "code",
   "execution_count": 3,
   "metadata": {},
   "outputs": [
    {
     "data": {
      "text/html": [
       "<style  type=\"text/css\" >\n",
       "#T_1a060_row0_col0,#T_1a060_row1_col0,#T_1a060_row2_col0,#T_1a060_row4_col0,#T_1a060_row5_col0{\n",
       "            background-color:  #3b4cc0;\n",
       "            color:  #f1f1f1;\n",
       "        }#T_1a060_row3_col0{\n",
       "            background-color:  #b40426;\n",
       "            color:  #f1f1f1;\n",
       "        }</style><table id=\"T_1a060_\" ><thead>    <tr>        <th class=\"blank level0\" ></th>        <th class=\"col_heading level0 col0\" >0</th>    </tr></thead><tbody>\n",
       "                <tr>\n",
       "                        <th id=\"T_1a060_level0_row0\" class=\"row_heading level0 row0\" >id</th>\n",
       "                        <td id=\"T_1a060_row0_col0\" class=\"data row0 col0\" >0.000000</td>\n",
       "            </tr>\n",
       "            <tr>\n",
       "                        <th id=\"T_1a060_level0_row1\" class=\"row_heading level0 row1\" >acquiring_company_id</th>\n",
       "                        <td id=\"T_1a060_row1_col0\" class=\"data row1 col0\" >0.000000</td>\n",
       "            </tr>\n",
       "            <tr>\n",
       "                        <th id=\"T_1a060_level0_row2\" class=\"row_heading level0 row2\" >acquired_company_id</th>\n",
       "                        <td id=\"T_1a060_row2_col0\" class=\"data row2 col0\" >0.000000</td>\n",
       "            </tr>\n",
       "            <tr>\n",
       "                        <th id=\"T_1a060_level0_row3\" class=\"row_heading level0 row3\" >term_code</th>\n",
       "                        <td id=\"T_1a060_row3_col0\" class=\"data row3 col0\" >80.540000</td>\n",
       "            </tr>\n",
       "            <tr>\n",
       "                        <th id=\"T_1a060_level0_row4\" class=\"row_heading level0 row4\" >price_amount</th>\n",
       "                        <td id=\"T_1a060_row4_col0\" class=\"data row4 col0\" >0.000000</td>\n",
       "            </tr>\n",
       "            <tr>\n",
       "                        <th id=\"T_1a060_level0_row5\" class=\"row_heading level0 row5\" >acquired_at</th>\n",
       "                        <td id=\"T_1a060_row5_col0\" class=\"data row5 col0\" >0.310000</td>\n",
       "            </tr>\n",
       "    </tbody></table>"
      ],
      "text/plain": [
       "<pandas.io.formats.style.Styler at 0x7f7ac633b0d0>"
      ]
     },
     "execution_count": 3,
     "metadata": {},
     "output_type": "execute_result"
    }
   ],
   "source": [
    "pd.DataFrame(round(acq.isna().mean() * 100, 2)).style.background_gradient(cmap='coolwarm')"
   ]
  },
  {
   "cell_type": "markdown",
   "metadata": {},
   "source": [
    "Большинство пропусков в столбце с вариантов расчета (наличные, акциии и т.п). Переведем к категоральному типу"
   ]
  },
  {
   "cell_type": "code",
   "execution_count": 4,
   "metadata": {},
   "outputs": [
    {
     "name": "stdout",
     "output_type": "stream",
     "text": [
      "Уникальные значения term_code: [NaN, 'cash', 'stock', 'cash_and_stock']\n",
      "Categories (3, object): ['cash', 'stock', 'cash_and_stock']\n"
     ]
    }
   ],
   "source": [
    "acq['term_code'] = acq['term_code'].astype('category')\n",
    "print(\"Уникальные значения term_code:\", acq['term_code'].unique())"
   ]
  },
  {
   "cell_type": "code",
   "execution_count": 5,
   "metadata": {},
   "outputs": [
    {
     "name": "stdout",
     "output_type": "stream",
     "text": [
      "count    9.407000e+03\n",
      "mean     3.932965e+08\n",
      "std      2.682198e+10\n",
      "min      0.000000e+00\n",
      "25%      0.000000e+00\n",
      "50%      0.000000e+00\n",
      "75%      2.343200e+04\n",
      "max      2.600000e+12\n",
      "Name: price_amount, dtype: float64\n",
      "Сколько нулевых price_amount: 6931\n"
     ]
    }
   ],
   "source": [
    "print(acq['price_amount'].describe())\n",
    "print(\"Сколько нулевых price_amount:\", (acq['price_amount'] == 0).sum())"
   ]
  },
  {
   "cell_type": "markdown",
   "metadata": {},
   "source": [
    "Изучен столбец с суммой сделки. Большая часть сделок указана в нулевой сумме (либо нет информации и она была заполнена как 0, либо сделки не имели суммы. Всего 6931 сделка имеет нулевую сумму, что очень много. Небольшая чатсь сделок (75й процентиль) были произведены на сумму более 23 тыс. долл. Максимальный выброс - 2.6 трлн, что является аномальным значением, учитывая, что самый дорогой стартап был оценен в 350 млрд долл (комапния SpaceX). Таким образом, среднее значение (~400 млн) сильно искажено выбросами. "
   ]
  },
  {
   "cell_type": "markdown",
   "metadata": {},
   "source": [
    "Выводы по датасету `acquisition`:\n",
    "1. В дальнейшем нужно будет преобразовать столбец `acquired_at` во временной тип.\n",
    "2. Работать со столбцом со стоимостью сделки необходимо аккуратно, так как значения аномальны. \n",
    "3. Столбец `term_code` содержит много пропусков, возможно по этой причине у нас такие искаженные данные по стоимости"
   ]
  },
  {
   "cell_type": "markdown",
   "metadata": {},
   "source": [
    "#### Анализ датасета `company_and_rounds`"
   ]
  },
  {
   "cell_type": "code",
   "execution_count": 6,
   "metadata": {
    "id": "oNqJ2qpRFebv"
   },
   "outputs": [
    {
     "name": "stdout",
     "output_type": "stream",
     "text": [
      "<class 'pandas.core.frame.DataFrame'>\n",
      "RangeIndex: 217774 entries, 0 to 217773\n",
      "Data columns (total 22 columns):\n",
      " #   Column                 Non-Null Count   Dtype  \n",
      "---  ------                 --------------   -----  \n",
      " 0   company  ID            217472 non-null  float64\n",
      " 1   name                   217472 non-null  object \n",
      " 2   category  code         143886 non-null  object \n",
      " 3   status                 217472 non-null  object \n",
      " 4   founded  at            109956 non-null  object \n",
      " 5   closed  at             3449 non-null    object \n",
      " 6   domain                 147159 non-null  object \n",
      " 7   network  username      95534 non-null   object \n",
      " 8   country  code          108607 non-null  object \n",
      " 9   investment  rounds     217472 non-null  float64\n",
      " 10  funding  rounds        217472 non-null  float64\n",
      " 11  funding  total         217472 non-null  float64\n",
      " 12  milestones             217472 non-null  float64\n",
      " 13  funding  round  id     52928 non-null   float64\n",
      " 14  company  id            52928 non-null   float64\n",
      " 15  funded  at             52680 non-null   object \n",
      " 16  funding  round  type   52928 non-null   object \n",
      " 17  raised  amount         52928 non-null   float64\n",
      " 18  pre  money  valuation  52928 non-null   float64\n",
      " 19  participants           52928 non-null   float64\n",
      " 20  is  first  round       52928 non-null   float64\n",
      " 21  is  last  round        52928 non-null   float64\n",
      "dtypes: float64(12), object(10)\n",
      "memory usage: 36.6+ MB\n"
     ]
    },
    {
     "data": {
      "text/html": [
       "<div>\n",
       "<style scoped>\n",
       "    .dataframe tbody tr th:only-of-type {\n",
       "        vertical-align: middle;\n",
       "    }\n",
       "\n",
       "    .dataframe tbody tr th {\n",
       "        vertical-align: top;\n",
       "    }\n",
       "\n",
       "    .dataframe thead th {\n",
       "        text-align: right;\n",
       "    }\n",
       "</style>\n",
       "<table border=\"1\" class=\"dataframe\">\n",
       "  <thead>\n",
       "    <tr style=\"text-align: right;\">\n",
       "      <th></th>\n",
       "      <th>company  ID</th>\n",
       "      <th>name</th>\n",
       "      <th>category  code</th>\n",
       "      <th>status</th>\n",
       "      <th>founded  at</th>\n",
       "      <th>closed  at</th>\n",
       "      <th>domain</th>\n",
       "      <th>network  username</th>\n",
       "      <th>country  code</th>\n",
       "      <th>investment  rounds</th>\n",
       "      <th>...</th>\n",
       "      <th>milestones</th>\n",
       "      <th>funding  round  id</th>\n",
       "      <th>company  id</th>\n",
       "      <th>funded  at</th>\n",
       "      <th>funding  round  type</th>\n",
       "      <th>raised  amount</th>\n",
       "      <th>pre  money  valuation</th>\n",
       "      <th>participants</th>\n",
       "      <th>is  first  round</th>\n",
       "      <th>is  last  round</th>\n",
       "    </tr>\n",
       "  </thead>\n",
       "  <tbody>\n",
       "    <tr>\n",
       "      <th>0</th>\n",
       "      <td>1.0</td>\n",
       "      <td>Wetpaint</td>\n",
       "      <td>web</td>\n",
       "      <td>operating</td>\n",
       "      <td>2005-10-17</td>\n",
       "      <td>NaN</td>\n",
       "      <td>wetpaint-inc.com</td>\n",
       "      <td>BachelrWetpaint</td>\n",
       "      <td>USA</td>\n",
       "      <td>0.0</td>\n",
       "      <td>...</td>\n",
       "      <td>5.0</td>\n",
       "      <td>888.0</td>\n",
       "      <td>1.0</td>\n",
       "      <td>2005-10-01</td>\n",
       "      <td>series-a</td>\n",
       "      <td>5250000.0</td>\n",
       "      <td>0.0</td>\n",
       "      <td>2.0</td>\n",
       "      <td>0.0</td>\n",
       "      <td>1.0</td>\n",
       "    </tr>\n",
       "    <tr>\n",
       "      <th>1</th>\n",
       "      <td>1.0</td>\n",
       "      <td>Wetpaint</td>\n",
       "      <td>web</td>\n",
       "      <td>operating</td>\n",
       "      <td>2005-10-17</td>\n",
       "      <td>NaN</td>\n",
       "      <td>wetpaint-inc.com</td>\n",
       "      <td>BachelrWetpaint</td>\n",
       "      <td>USA</td>\n",
       "      <td>0.0</td>\n",
       "      <td>...</td>\n",
       "      <td>5.0</td>\n",
       "      <td>889.0</td>\n",
       "      <td>1.0</td>\n",
       "      <td>2007-01-01</td>\n",
       "      <td>series-b</td>\n",
       "      <td>9500000.0</td>\n",
       "      <td>0.0</td>\n",
       "      <td>3.0</td>\n",
       "      <td>0.0</td>\n",
       "      <td>0.0</td>\n",
       "    </tr>\n",
       "    <tr>\n",
       "      <th>2</th>\n",
       "      <td>1.0</td>\n",
       "      <td>Wetpaint</td>\n",
       "      <td>web</td>\n",
       "      <td>operating</td>\n",
       "      <td>2005-10-17</td>\n",
       "      <td>NaN</td>\n",
       "      <td>wetpaint-inc.com</td>\n",
       "      <td>BachelrWetpaint</td>\n",
       "      <td>USA</td>\n",
       "      <td>0.0</td>\n",
       "      <td>...</td>\n",
       "      <td>5.0</td>\n",
       "      <td>2312.0</td>\n",
       "      <td>1.0</td>\n",
       "      <td>2008-05-19</td>\n",
       "      <td>series-c+</td>\n",
       "      <td>25000000.0</td>\n",
       "      <td>0.0</td>\n",
       "      <td>4.0</td>\n",
       "      <td>1.0</td>\n",
       "      <td>0.0</td>\n",
       "    </tr>\n",
       "  </tbody>\n",
       "</table>\n",
       "<p>3 rows × 22 columns</p>\n",
       "</div>"
      ],
      "text/plain": [
       "   company  ID      name category  code     status founded  at closed  at  \\\n",
       "0          1.0  Wetpaint            web  operating  2005-10-17        NaN   \n",
       "1          1.0  Wetpaint            web  operating  2005-10-17        NaN   \n",
       "2          1.0  Wetpaint            web  operating  2005-10-17        NaN   \n",
       "\n",
       "             domain network  username country  code  investment  rounds  ...  \\\n",
       "0  wetpaint-inc.com   BachelrWetpaint           USA                 0.0  ...   \n",
       "1  wetpaint-inc.com   BachelrWetpaint           USA                 0.0  ...   \n",
       "2  wetpaint-inc.com   BachelrWetpaint           USA                 0.0  ...   \n",
       "\n",
       "   milestones  funding  round  id  company  id  funded  at  \\\n",
       "0         5.0               888.0          1.0  2005-10-01   \n",
       "1         5.0               889.0          1.0  2007-01-01   \n",
       "2         5.0              2312.0          1.0  2008-05-19   \n",
       "\n",
       "   funding  round  type raised  amount pre  money  valuation  participants  \\\n",
       "0              series-a      5250000.0                   0.0           2.0   \n",
       "1              series-b      9500000.0                   0.0           3.0   \n",
       "2             series-c+     25000000.0                   0.0           4.0   \n",
       "\n",
       "   is  first  round  is  last  round  \n",
       "0               0.0              1.0  \n",
       "1               0.0              0.0  \n",
       "2               1.0              0.0  \n",
       "\n",
       "[3 rows x 22 columns]"
      ]
     },
     "execution_count": 6,
     "metadata": {},
     "output_type": "execute_result"
    }
   ],
   "source": [
    "company = pd.read_csv('/datasets/company_and_rounds.csv')\n",
    "company.info()\n",
    "company.head(3)"
   ]
  },
  {
   "cell_type": "markdown",
   "metadata": {},
   "source": [
    "1. Написание столбцов необходимо привести к стилю snake_case. \n",
    "2. Изменить типы данных: \n",
    "- `company ID`, `investment  rounds`, `funding  rounds`, `milestones`, `participants` - к int8, \n",
    "- `category code`, `country code`, `funding  round  type` - к категоральным значениям, \n",
    "- `founded at`, `closed at`, `funded at` - к временному\n",
    "- `is  first  round` \\ `is  last  round` - к булевому типу.\n",
    "\n",
    "3. Много пропусков, часть таблицы с информацией о раундах содержит лишь 1\\4 данных.\n",
    "4. Необходимо понять, что делать в двумя одинаковыми по названию столбцами - `company id`\n",
    "5. Стоит изучить столбцы на наличие аномальных значений как в предыдущем датасете."
   ]
  },
  {
   "cell_type": "markdown",
   "metadata": {},
   "source": [
    "Переименовываем два столбца, чтобы не было путаницы"
   ]
  },
  {
   "cell_type": "code",
   "execution_count": 7,
   "metadata": {},
   "outputs": [
    {
     "name": "stdout",
     "output_type": "stream",
     "text": [
      "Index(['company id', 'company round id'], dtype='object')\n"
     ]
    }
   ],
   "source": [
    "company.rename(columns = {'company  ID':'company id', 'company  id':'company round id'}, inplace=True)\n",
    "print(company.columns[[0, 14]])"
   ]
  },
  {
   "cell_type": "markdown",
   "metadata": {},
   "source": [
    "Сразу приводим к стилю snake_case"
   ]
  },
  {
   "cell_type": "code",
   "execution_count": 8,
   "metadata": {},
   "outputs": [
    {
     "name": "stdout",
     "output_type": "stream",
     "text": [
      "Index(['company_id', 'name', 'category_code', 'status', 'founded_at',\n",
      "       'closed_at', 'domain', 'network_username', 'country_code',\n",
      "       'investment_rounds', 'funding_rounds', 'funding_total', 'milestones',\n",
      "       'funding_round_id', 'company_round_id', 'funded_at',\n",
      "       'funding_round_type', 'raised_amount', 'pre_money_valuation',\n",
      "       'participants', 'is_first_round', 'is_last_round'],\n",
      "      dtype='object')\n"
     ]
    }
   ],
   "source": [
    "new_columns = []\n",
    "for col in company.columns:\n",
    "    col = '  '.join(col.strip().lower().split())  \n",
    "    col = col.replace('  ', '_')               \n",
    "    new_columns.append(col)\n",
    "\n",
    "company.columns = new_columns\n",
    "\n",
    "print(company.columns)"
   ]
  },
  {
   "cell_type": "code",
   "execution_count": 9,
   "metadata": {},
   "outputs": [],
   "source": [
    "# к целочисленному виду\n",
    "int_columns = ['investment_rounds', 'funding_rounds', 'milestones', 'participants']\n",
    "for col in int_columns:\n",
    "    company[col] = pd.to_numeric(company[col], errors='coerce').astype('Int64')\n",
    "\n",
    "# к категоральному\n",
    "cat_columns = ['category_code', 'country_code', 'funding_round_type', 'status']\n",
    "for col in cat_columns:\n",
    "    company[col] = company[col].astype('category')\n",
    "    \n",
    "# к булевому\n",
    "bool_columns = ['is_first_round', 'is_last_round']\n",
    "for col in bool_columns:\n",
    "    company[col] = company[col].astype('bool')"
   ]
  },
  {
   "cell_type": "code",
   "execution_count": 10,
   "metadata": {},
   "outputs": [
    {
     "data": {
      "image/png": "[encoded data removed]",
      "text/plain": [
       "<Figure size 1800x720 with 3 Axes>"
      ]
     },
     "metadata": {
      "needs_background": "light"
     },
     "output_type": "display_data"
    }
   ],
   "source": [
    "!pip install missingno -q\n",
    "import missingno as msno\n",
    "\n",
    "msno.bar(company)\n",
    "plt.show()"
   ]
  },
  {
   "cell_type": "code",
   "execution_count": 11,
   "metadata": {},
   "outputs": [
    {
     "data": {
      "image/png": "[encoded data removed]",
      "text/plain": [
       "<Figure size 1800x720 with 1 Axes>"
      ]
     },
     "metadata": {
      "needs_background": "light"
     },
     "output_type": "display_data"
    }
   ],
   "source": [
    "# Второй вариант\n",
    "# Метод dendrogram из библиотеки missingno\n",
    "!pip install missingno -q\n",
    "import missingno as msno\n",
    "msno.dendrogram(company)\n",
    "plt.show()"
   ]
  },
  {
   "cell_type": "markdown",
   "metadata": {},
   "source": [
    "Большинство пропусков приходится на столбец с датой закрытия стартапа. В этих пропусках нет ничего необычного, так как, вероятно, большинство компаний все еще функционирует\n",
    "\n",
    "Предположение: данный датасет стал рез-ом склейки двух других, в связи с чем много пропусков в столбцах, относящихся к финансированию"
   ]
  },
  {
   "cell_type": "code",
   "execution_count": 12,
   "metadata": {},
   "outputs": [],
   "source": [
    "company['company_round_id'] = company['company_round_id'].combine_first(company['company_id'])\n",
    "company['company_id'] = company['company_id'].fillna(company['company_round_id'])"
   ]
  },
  {
   "cell_type": "code",
   "execution_count": 13,
   "metadata": {},
   "outputs": [
    {
     "data": {
      "text/html": [
       "<div>\n",
       "<style scoped>\n",
       "    .dataframe tbody tr th:only-of-type {\n",
       "        vertical-align: middle;\n",
       "    }\n",
       "\n",
       "    .dataframe tbody tr th {\n",
       "        vertical-align: top;\n",
       "    }\n",
       "\n",
       "    .dataframe thead th {\n",
       "        text-align: right;\n",
       "    }\n",
       "</style>\n",
       "<table border=\"1\" class=\"dataframe\">\n",
       "  <thead>\n",
       "    <tr style=\"text-align: right;\">\n",
       "      <th></th>\n",
       "      <th>funding_total</th>\n",
       "      <th>raised_amount</th>\n",
       "      <th>pre_money_valuation</th>\n",
       "    </tr>\n",
       "  </thead>\n",
       "  <tbody>\n",
       "    <tr>\n",
       "      <th>count</th>\n",
       "      <td>2.174720e+05</td>\n",
       "      <td>5.292800e+04</td>\n",
       "      <td>5.292800e+04</td>\n",
       "    </tr>\n",
       "    <tr>\n",
       "      <th>mean</th>\n",
       "      <td>5.996191e+06</td>\n",
       "      <td>7.946092e+06</td>\n",
       "      <td>3.294525e+05</td>\n",
       "    </tr>\n",
       "    <tr>\n",
       "      <th>std</th>\n",
       "      <td>4.893160e+07</td>\n",
       "      <td>4.216821e+07</td>\n",
       "      <td>6.531803e+07</td>\n",
       "    </tr>\n",
       "    <tr>\n",
       "      <th>min</th>\n",
       "      <td>0.000000e+00</td>\n",
       "      <td>0.000000e+00</td>\n",
       "      <td>0.000000e+00</td>\n",
       "    </tr>\n",
       "    <tr>\n",
       "      <th>25%</th>\n",
       "      <td>0.000000e+00</td>\n",
       "      <td>2.463300e+05</td>\n",
       "      <td>0.000000e+00</td>\n",
       "    </tr>\n",
       "    <tr>\n",
       "      <th>50%</th>\n",
       "      <td>0.000000e+00</td>\n",
       "      <td>1.600000e+06</td>\n",
       "      <td>0.000000e+00</td>\n",
       "    </tr>\n",
       "    <tr>\n",
       "      <th>75%</th>\n",
       "      <td>0.000000e+00</td>\n",
       "      <td>6.700000e+06</td>\n",
       "      <td>0.000000e+00</td>\n",
       "    </tr>\n",
       "    <tr>\n",
       "      <th>max</th>\n",
       "      <td>5.700000e+09</td>\n",
       "      <td>3.835050e+09</td>\n",
       "      <td>1.500000e+10</td>\n",
       "    </tr>\n",
       "  </tbody>\n",
       "</table>\n",
       "</div>"
      ],
      "text/plain": [
       "       funding_total  raised_amount  pre_money_valuation\n",
       "count   2.174720e+05   5.292800e+04         5.292800e+04\n",
       "mean    5.996191e+06   7.946092e+06         3.294525e+05\n",
       "std     4.893160e+07   4.216821e+07         6.531803e+07\n",
       "min     0.000000e+00   0.000000e+00         0.000000e+00\n",
       "25%     0.000000e+00   2.463300e+05         0.000000e+00\n",
       "50%     0.000000e+00   1.600000e+06         0.000000e+00\n",
       "75%     0.000000e+00   6.700000e+06         0.000000e+00\n",
       "max     5.700000e+09   3.835050e+09         1.500000e+10"
      ]
     },
     "execution_count": 13,
     "metadata": {},
     "output_type": "execute_result"
    }
   ],
   "source": [
    "company[['funding_total', 'raised_amount', 'pre_money_valuation']].describe()"
   ]
  },
  {
   "cell_type": "markdown",
   "metadata": {},
   "source": [
    "Столбец с суммой финансирования содержит аномальные значения: большинство значений содержат нулевые значения, с макс. показателем - 5.7 млрд. \n",
    "\n",
    "Столбец `raised_amount` содержит меньшее кол-во данных. Распределение сдвинуто: много маленьких значений, редкие большие выбросы. Среднее: ~7.9 млн долларов, медиана: 1.6 млн, максимум: ~3.8 млрд. \n",
    "\n",
    "В столбце `pre_money_valuation` есть единичные сверхвысокие оценки. Среднее: ~329 тыс., максимум: 15 млрд."
   ]
  },
  {
   "cell_type": "code",
   "execution_count": 14,
   "metadata": {},
   "outputs": [
    {
     "data": {
      "text/html": [
       "<div>\n",
       "<style scoped>\n",
       "    .dataframe tbody tr th:only-of-type {\n",
       "        vertical-align: middle;\n",
       "    }\n",
       "\n",
       "    .dataframe tbody tr th {\n",
       "        vertical-align: top;\n",
       "    }\n",
       "\n",
       "    .dataframe thead th {\n",
       "        text-align: right;\n",
       "    }\n",
       "</style>\n",
       "<table border=\"1\" class=\"dataframe\">\n",
       "  <thead>\n",
       "    <tr style=\"text-align: right;\">\n",
       "      <th></th>\n",
       "      <th>investment_rounds</th>\n",
       "      <th>funding_rounds</th>\n",
       "      <th>milestones</th>\n",
       "    </tr>\n",
       "  </thead>\n",
       "  <tbody>\n",
       "    <tr>\n",
       "      <th>count</th>\n",
       "      <td>217472.000000</td>\n",
       "      <td>217472.000000</td>\n",
       "      <td>217472.000000</td>\n",
       "    </tr>\n",
       "    <tr>\n",
       "      <th>mean</th>\n",
       "      <td>0.037711</td>\n",
       "      <td>0.612171</td>\n",
       "      <td>0.650442</td>\n",
       "    </tr>\n",
       "    <tr>\n",
       "      <th>std</th>\n",
       "      <td>1.962712</td>\n",
       "      <td>1.433500</td>\n",
       "      <td>0.826408</td>\n",
       "    </tr>\n",
       "    <tr>\n",
       "      <th>min</th>\n",
       "      <td>0.000000</td>\n",
       "      <td>0.000000</td>\n",
       "      <td>0.000000</td>\n",
       "    </tr>\n",
       "    <tr>\n",
       "      <th>25%</th>\n",
       "      <td>0.000000</td>\n",
       "      <td>0.000000</td>\n",
       "      <td>0.000000</td>\n",
       "    </tr>\n",
       "    <tr>\n",
       "      <th>50%</th>\n",
       "      <td>0.000000</td>\n",
       "      <td>0.000000</td>\n",
       "      <td>0.000000</td>\n",
       "    </tr>\n",
       "    <tr>\n",
       "      <th>75%</th>\n",
       "      <td>0.000000</td>\n",
       "      <td>0.000000</td>\n",
       "      <td>1.000000</td>\n",
       "    </tr>\n",
       "    <tr>\n",
       "      <th>max</th>\n",
       "      <td>478.000000</td>\n",
       "      <td>15.000000</td>\n",
       "      <td>9.000000</td>\n",
       "    </tr>\n",
       "  </tbody>\n",
       "</table>\n",
       "</div>"
      ],
      "text/plain": [
       "       investment_rounds  funding_rounds     milestones\n",
       "count      217472.000000   217472.000000  217472.000000\n",
       "mean            0.037711        0.612171       0.650442\n",
       "std             1.962712        1.433500       0.826408\n",
       "min             0.000000        0.000000       0.000000\n",
       "25%             0.000000        0.000000       0.000000\n",
       "50%             0.000000        0.000000       0.000000\n",
       "75%             0.000000        0.000000       1.000000\n",
       "max           478.000000       15.000000       9.000000"
      ]
     },
     "execution_count": 14,
     "metadata": {},
     "output_type": "execute_result"
    }
   ],
   "source": [
    "company[['investment_rounds', 'funding_rounds', 'milestones']].describe()"
   ]
  },
  {
   "cell_type": "markdown",
   "metadata": {},
   "source": [
    "Судя по данным столбца `investment_rounds` почти все компании не участвовали в инвестиционных раундах. Среднее равно нулю, а максимальное - 478, что является аномальным показателем для кол-ва инвестиционных раундов\n",
    "\n",
    "Больше половины компаний не имели раундов финансирования, возможно не были допущены. При этом аномальных выбросов нет, так как 15 раундов (макс. значение) вполне реалистично.\n",
    "\n",
    "При рассмотрении `milestones`, можно предположить, что большинство компаний не достигли ни одного этапа развития. 25% компаний имеют 1 и более - это более зрелые стартапы."
   ]
  },
  {
   "cell_type": "code",
   "execution_count": 15,
   "metadata": {},
   "outputs": [
    {
     "name": "stdout",
     "output_type": "stream",
     "text": [
      "Количество нелогичных дат (closed_at < founded_at): 48\n"
     ]
    }
   ],
   "source": [
    "anomaly_date = (company['closed_at'] < company['founded_at'])\n",
    "anomaly_date_count = anomaly_date.sum()\n",
    "print(\"Количество нелогичных дат (closed_at < founded_at):\", anomaly_date_count)"
   ]
  },
  {
   "cell_type": "markdown",
   "metadata": {},
   "source": [
    "Вывод по датасету `company`:\n",
    "1. Много пропусков в столбцах с финансовыми значениями, что связано либо с отсутсвием данных, либо с отказом стартапу в финансировании. \n",
    "2. Имеются сильные выбросы в столбцах с фин. показателями.\n",
    "3. Имеющиеся данные подойдут для оценки выживаемости стартапа."
   ]
  },
  {
   "cell_type": "markdown",
   "metadata": {},
   "source": [
    "#### Анализ датасета `people`"
   ]
  },
  {
   "cell_type": "code",
   "execution_count": 16,
   "metadata": {},
   "outputs": [
    {
     "name": "stdout",
     "output_type": "stream",
     "text": [
      "<class 'pandas.core.frame.DataFrame'>\n",
      "RangeIndex: 226709 entries, 0 to 226708\n",
      "Data columns (total 5 columns):\n",
      " #   Column            Non-Null Count   Dtype  \n",
      "---  ------            --------------   -----  \n",
      " 0   id                226709 non-null  int64  \n",
      " 1   first_name        226704 non-null  object \n",
      " 2   last_name         226708 non-null  object \n",
      " 3   company_id        34615 non-null   float64\n",
      " 4   network_username  38867 non-null   object \n",
      "dtypes: float64(1), int64(1), object(3)\n",
      "memory usage: 8.6+ MB\n"
     ]
    },
    {
     "data": {
      "text/html": [
       "<div>\n",
       "<style scoped>\n",
       "    .dataframe tbody tr th:only-of-type {\n",
       "        vertical-align: middle;\n",
       "    }\n",
       "\n",
       "    .dataframe tbody tr th {\n",
       "        vertical-align: top;\n",
       "    }\n",
       "\n",
       "    .dataframe thead th {\n",
       "        text-align: right;\n",
       "    }\n",
       "</style>\n",
       "<table border=\"1\" class=\"dataframe\">\n",
       "  <thead>\n",
       "    <tr style=\"text-align: right;\">\n",
       "      <th></th>\n",
       "      <th>id</th>\n",
       "      <th>first_name</th>\n",
       "      <th>last_name</th>\n",
       "      <th>company_id</th>\n",
       "      <th>network_username</th>\n",
       "    </tr>\n",
       "  </thead>\n",
       "  <tbody>\n",
       "    <tr>\n",
       "      <th>0</th>\n",
       "      <td>10</td>\n",
       "      <td>Mark</td>\n",
       "      <td>Zuckerberg</td>\n",
       "      <td>5.0</td>\n",
       "      <td>NaN</td>\n",
       "    </tr>\n",
       "    <tr>\n",
       "      <th>1</th>\n",
       "      <td>100</td>\n",
       "      <td>Peter</td>\n",
       "      <td>Lester</td>\n",
       "      <td>27.0</td>\n",
       "      <td>NaN</td>\n",
       "    </tr>\n",
       "    <tr>\n",
       "      <th>2</th>\n",
       "      <td>1000</td>\n",
       "      <td>Dr. Steven</td>\n",
       "      <td>E. Saunders</td>\n",
       "      <td>292.0</td>\n",
       "      <td>NaN</td>\n",
       "    </tr>\n",
       "  </tbody>\n",
       "</table>\n",
       "</div>"
      ],
      "text/plain": [
       "     id  first_name    last_name  company_id network_username\n",
       "0    10        Mark   Zuckerberg         5.0              NaN\n",
       "1   100       Peter       Lester        27.0              NaN\n",
       "2  1000  Dr. Steven  E. Saunders       292.0              NaN"
      ]
     },
     "execution_count": 16,
     "metadata": {},
     "output_type": "execute_result"
    }
   ],
   "source": [
    "people = pd.read_csv('/datasets/people.csv')\n",
    "people.info()\n",
    "people.head(3)"
   ]
  },
  {
   "cell_type": "code",
   "execution_count": 17,
   "metadata": {},
   "outputs": [],
   "source": [
    "people['company_id'] = pd.to_numeric(people['company_id'], errors='coerce').astype('Int64')"
   ]
  },
  {
   "cell_type": "markdown",
   "metadata": {},
   "source": [
    "Столбец `company_id` приведен к целочисленному значению. В остальном проблем в данных не обнаружено. Много пропусков наблюдается в столбце с ником пользователя."
   ]
  },
  {
   "cell_type": "markdown",
   "metadata": {},
   "source": [
    "#### Анализ датасета `education`"
   ]
  },
  {
   "cell_type": "code",
   "execution_count": 18,
   "metadata": {},
   "outputs": [
    {
     "name": "stdout",
     "output_type": "stream",
     "text": [
      "<class 'pandas.core.frame.DataFrame'>\n",
      "RangeIndex: 109610 entries, 0 to 109609\n",
      "Data columns (total 4 columns):\n",
      " #   Column        Non-Null Count   Dtype \n",
      "---  ------        --------------   ----- \n",
      " 0   id            109610 non-null  int64 \n",
      " 1   person_id     109610 non-null  int64 \n",
      " 2   instituition  109555 non-null  object\n",
      " 3   graduated_at  58054 non-null   object\n",
      "dtypes: int64(2), object(2)\n",
      "memory usage: 3.3+ MB\n"
     ]
    },
    {
     "data": {
      "text/html": [
       "<div>\n",
       "<style scoped>\n",
       "    .dataframe tbody tr th:only-of-type {\n",
       "        vertical-align: middle;\n",
       "    }\n",
       "\n",
       "    .dataframe tbody tr th {\n",
       "        vertical-align: top;\n",
       "    }\n",
       "\n",
       "    .dataframe thead th {\n",
       "        text-align: right;\n",
       "    }\n",
       "</style>\n",
       "<table border=\"1\" class=\"dataframe\">\n",
       "  <thead>\n",
       "    <tr style=\"text-align: right;\">\n",
       "      <th></th>\n",
       "      <th>id</th>\n",
       "      <th>person_id</th>\n",
       "      <th>instituition</th>\n",
       "      <th>graduated_at</th>\n",
       "    </tr>\n",
       "  </thead>\n",
       "  <tbody>\n",
       "    <tr>\n",
       "      <th>0</th>\n",
       "      <td>1</td>\n",
       "      <td>6117</td>\n",
       "      <td>NaN</td>\n",
       "      <td>NaN</td>\n",
       "    </tr>\n",
       "    <tr>\n",
       "      <th>1</th>\n",
       "      <td>2</td>\n",
       "      <td>6136</td>\n",
       "      <td>Washington University, St. Louis</td>\n",
       "      <td>1990-01-01</td>\n",
       "    </tr>\n",
       "    <tr>\n",
       "      <th>2</th>\n",
       "      <td>3</td>\n",
       "      <td>6136</td>\n",
       "      <td>Boston University</td>\n",
       "      <td>1992-01-01</td>\n",
       "    </tr>\n",
       "  </tbody>\n",
       "</table>\n",
       "</div>"
      ],
      "text/plain": [
       "   id  person_id                      instituition graduated_at\n",
       "0   1       6117                               NaN          NaN\n",
       "1   2       6136  Washington University, St. Louis   1990-01-01\n",
       "2   3       6136                 Boston University   1992-01-01"
      ]
     },
     "execution_count": 18,
     "metadata": {},
     "output_type": "execute_result"
    }
   ],
   "source": [
    "edu = pd.read_csv('/datasets/education.csv')\n",
    "edu.info()\n",
    "edu.head(3)"
   ]
  },
  {
   "cell_type": "markdown",
   "metadata": {},
   "source": [
    "Стоит привести столбец `instituition` к более распространенному написанию - \"institution\" "
   ]
  },
  {
   "cell_type": "code",
   "execution_count": 19,
   "metadata": {},
   "outputs": [],
   "source": [
    "edu.rename(columns = {'instituition':'institution'}, inplace = True)"
   ]
  },
  {
   "cell_type": "markdown",
   "metadata": {},
   "source": [
    "Других проблем с данными не обнаружено. Много пропусков в столбце с окончанием университета (около половины), что может быть обусловлено отсутвием данных или тем, что человек не закончил университет."
   ]
  },
  {
   "cell_type": "markdown",
   "metadata": {},
   "source": [
    "#### Анализ датасета `degrees`"
   ]
  },
  {
   "cell_type": "code",
   "execution_count": 20,
   "metadata": {},
   "outputs": [
    {
     "name": "stdout",
     "output_type": "stream",
     "text": [
      "<class 'pandas.core.frame.DataFrame'>\n",
      "RangeIndex: 109610 entries, 0 to 109609\n",
      "Data columns (total 4 columns):\n",
      " #   Column       Non-Null Count   Dtype \n",
      "---  ------       --------------   ----- \n",
      " 0   id           109610 non-null  int64 \n",
      " 1   object_id    109610 non-null  object\n",
      " 2   degree_type  98392 non-null   object\n",
      " 3   subject      81298 non-null   object\n",
      "dtypes: int64(1), object(3)\n",
      "memory usage: 3.3+ MB\n"
     ]
    },
    {
     "data": {
      "text/html": [
       "<div>\n",
       "<style scoped>\n",
       "    .dataframe tbody tr th:only-of-type {\n",
       "        vertical-align: middle;\n",
       "    }\n",
       "\n",
       "    .dataframe tbody tr th {\n",
       "        vertical-align: top;\n",
       "    }\n",
       "\n",
       "    .dataframe thead th {\n",
       "        text-align: right;\n",
       "    }\n",
       "</style>\n",
       "<table border=\"1\" class=\"dataframe\">\n",
       "  <thead>\n",
       "    <tr style=\"text-align: right;\">\n",
       "      <th></th>\n",
       "      <th>id</th>\n",
       "      <th>object_id</th>\n",
       "      <th>degree_type</th>\n",
       "      <th>subject</th>\n",
       "    </tr>\n",
       "  </thead>\n",
       "  <tbody>\n",
       "    <tr>\n",
       "      <th>0</th>\n",
       "      <td>1</td>\n",
       "      <td>p:6117</td>\n",
       "      <td>MBA</td>\n",
       "      <td>NaN</td>\n",
       "    </tr>\n",
       "    <tr>\n",
       "      <th>1</th>\n",
       "      <td>2</td>\n",
       "      <td>p:6136</td>\n",
       "      <td>BA</td>\n",
       "      <td>English, French</td>\n",
       "    </tr>\n",
       "    <tr>\n",
       "      <th>2</th>\n",
       "      <td>3</td>\n",
       "      <td>p:6136</td>\n",
       "      <td>MS</td>\n",
       "      <td>Mass Communication</td>\n",
       "    </tr>\n",
       "  </tbody>\n",
       "</table>\n",
       "</div>"
      ],
      "text/plain": [
       "   id object_id degree_type             subject\n",
       "0   1    p:6117         MBA                 NaN\n",
       "1   2    p:6136          BA     English, French\n",
       "2   3    p:6136          MS  Mass Communication"
      ]
     },
     "execution_count": 20,
     "metadata": {},
     "output_type": "execute_result"
    }
   ],
   "source": [
    "deg = pd.read_csv('/datasets/degrees.csv')\n",
    "deg.info()\n",
    "deg.head(3)"
   ]
  },
  {
   "cell_type": "code",
   "execution_count": 21,
   "metadata": {},
   "outputs": [],
   "source": [
    "deg['degree_type'] = deg['degree_type'].astype('category')"
   ]
  },
  {
   "cell_type": "markdown",
   "metadata": {},
   "source": [
    "Значения в `degree_type` приведены к категоральному типу."
   ]
  },
  {
   "cell_type": "code",
   "execution_count": 22,
   "metadata": {},
   "outputs": [
    {
     "data": {
      "image/png": "[encoded data removed]",
      "text/plain": [
       "<Figure size 432x288 with 1 Axes>"
      ]
     },
     "metadata": {},
     "output_type": "display_data"
    },
    {
     "data": {
      "image/png": "[encoded data removed]",
      "text/plain": [
       "<Figure size 432x288 with 1 Axes>"
      ]
     },
     "metadata": {},
     "output_type": "display_data"
    }
   ],
   "source": [
    "import pandas as pd\n",
    "\n",
    "!pip install matplotlib-venn -q\n",
    "from matplotlib_venn import venn2, venn3\n",
    "import matplotlib.pyplot as plt\n",
    "\n",
    "deg['object_id_new'] = deg['object_id'].astype(str).str.replace('p:', '', regex=False).str.strip()\n",
    "deg['object_id_new'] = pd.to_numeric(deg['object_id_new'], errors='coerce').astype('Int64')\n",
    "\n",
    "edu_ids = set(edu['person_id'].dropna().unique())\n",
    "deg_ids = set(deg['object_id_new'].dropna().unique())\n",
    "\n",
    "venn2([edu_ids, deg_ids], set_labels=('education', 'degrees'))\n",
    "plt.title(\"Пересечение person_id и object_id\")\n",
    "plt.show()\n",
    "\n",
    "people_ids = set(people['id'].dropna().unique())\n",
    "\n",
    "venn3([edu_ids, deg_ids, people_ids], set_labels=('education', 'degrees', 'people'))\n",
    "plt.title(\"Пересечение person_id / object_id / id\")\n",
    "plt.show()"
   ]
  },
  {
   "cell_type": "markdown",
   "metadata": {},
   "source": [
    "#### Анализ датасета `fund`"
   ]
  },
  {
   "cell_type": "code",
   "execution_count": 23,
   "metadata": {},
   "outputs": [
    {
     "name": "stdout",
     "output_type": "stream",
     "text": [
      "<class 'pandas.core.frame.DataFrame'>\n",
      "RangeIndex: 11652 entries, 0 to 11651\n",
      "Data columns (total 9 columns):\n",
      " #   Column              Non-Null Count  Dtype \n",
      "---  ------              --------------  ----- \n",
      " 0   id                  11652 non-null  int64 \n",
      " 1   name                11650 non-null  object\n",
      " 2   founded_at          4605 non-null   object\n",
      " 3   domain              7362 non-null   object\n",
      " 4   network_username    2149 non-null   object\n",
      " 5   country_code        7053 non-null   object\n",
      " 6   investment_rounds   11652 non-null  int64 \n",
      " 7   invested_companies  11652 non-null  int64 \n",
      " 8   milestones          11652 non-null  int64 \n",
      "dtypes: int64(4), object(5)\n",
      "memory usage: 819.4+ KB\n"
     ]
    },
    {
     "data": {
      "text/html": [
       "<div>\n",
       "<style scoped>\n",
       "    .dataframe tbody tr th:only-of-type {\n",
       "        vertical-align: middle;\n",
       "    }\n",
       "\n",
       "    .dataframe tbody tr th {\n",
       "        vertical-align: top;\n",
       "    }\n",
       "\n",
       "    .dataframe thead th {\n",
       "        text-align: right;\n",
       "    }\n",
       "</style>\n",
       "<table border=\"1\" class=\"dataframe\">\n",
       "  <thead>\n",
       "    <tr style=\"text-align: right;\">\n",
       "      <th></th>\n",
       "      <th>id</th>\n",
       "      <th>name</th>\n",
       "      <th>founded_at</th>\n",
       "      <th>domain</th>\n",
       "      <th>network_username</th>\n",
       "      <th>country_code</th>\n",
       "      <th>investment_rounds</th>\n",
       "      <th>invested_companies</th>\n",
       "      <th>milestones</th>\n",
       "    </tr>\n",
       "  </thead>\n",
       "  <tbody>\n",
       "    <tr>\n",
       "      <th>0</th>\n",
       "      <td>13131</td>\n",
       "      <td>NaN</td>\n",
       "      <td>NaN</td>\n",
       "      <td>NaN</td>\n",
       "      <td>NaN</td>\n",
       "      <td>NaN</td>\n",
       "      <td>0</td>\n",
       "      <td>0</td>\n",
       "      <td>0</td>\n",
       "    </tr>\n",
       "    <tr>\n",
       "      <th>1</th>\n",
       "      <td>1</td>\n",
       "      <td>Greylock Partners</td>\n",
       "      <td>1965-01-01</td>\n",
       "      <td>greylock.com</td>\n",
       "      <td>greylockvc</td>\n",
       "      <td>USA</td>\n",
       "      <td>307</td>\n",
       "      <td>196</td>\n",
       "      <td>0</td>\n",
       "    </tr>\n",
       "    <tr>\n",
       "      <th>2</th>\n",
       "      <td>10</td>\n",
       "      <td>Mission Ventures</td>\n",
       "      <td>1996-01-01</td>\n",
       "      <td>missionventures.com</td>\n",
       "      <td>NaN</td>\n",
       "      <td>USA</td>\n",
       "      <td>58</td>\n",
       "      <td>33</td>\n",
       "      <td>0</td>\n",
       "    </tr>\n",
       "  </tbody>\n",
       "</table>\n",
       "</div>"
      ],
      "text/plain": [
       "      id               name  founded_at               domain network_username  \\\n",
       "0  13131                NaN         NaN                  NaN              NaN   \n",
       "1      1  Greylock Partners  1965-01-01         greylock.com       greylockvc   \n",
       "2     10   Mission Ventures  1996-01-01  missionventures.com              NaN   \n",
       "\n",
       "  country_code  investment_rounds  invested_companies  milestones  \n",
       "0          NaN                  0                   0           0  \n",
       "1          USA                307                 196           0  \n",
       "2          USA                 58                  33           0  "
      ]
     },
     "execution_count": 23,
     "metadata": {},
     "output_type": "execute_result"
    }
   ],
   "source": [
    "fund = pd.read_csv('/datasets/fund.csv')\n",
    "fund.info()\n",
    "fund.head(3)"
   ]
  },
  {
   "cell_type": "markdown",
   "metadata": {},
   "source": [
    "`founded_at` привести к временному значению, `country_code` - к категоральному.\n",
    "\n",
    "В финансовых данных, которые могли бы быть нам полезны, нет пропусков "
   ]
  },
  {
   "cell_type": "code",
   "execution_count": 24,
   "metadata": {},
   "outputs": [],
   "source": [
    "fund['country_code'] = fund['country_code'].astype('category')"
   ]
  },
  {
   "cell_type": "markdown",
   "metadata": {},
   "source": [
    "#### Анализ датасета `investment`"
   ]
  },
  {
   "cell_type": "code",
   "execution_count": 25,
   "metadata": {},
   "outputs": [
    {
     "name": "stdout",
     "output_type": "stream",
     "text": [
      "<class 'pandas.core.frame.DataFrame'>\n",
      "RangeIndex: 61403 entries, 0 to 61402\n",
      "Data columns (total 4 columns):\n",
      " #   Column            Non-Null Count  Dtype\n",
      "---  ------            --------------  -----\n",
      " 0   id                61403 non-null  int64\n",
      " 1   funding_round_id  61403 non-null  int64\n",
      " 2   company_id        61403 non-null  int64\n",
      " 3   fund_id           61403 non-null  int64\n",
      "dtypes: int64(4)\n",
      "memory usage: 1.9 MB\n"
     ]
    },
    {
     "data": {
      "text/html": [
       "<div>\n",
       "<style scoped>\n",
       "    .dataframe tbody tr th:only-of-type {\n",
       "        vertical-align: middle;\n",
       "    }\n",
       "\n",
       "    .dataframe tbody tr th {\n",
       "        vertical-align: top;\n",
       "    }\n",
       "\n",
       "    .dataframe thead th {\n",
       "        text-align: right;\n",
       "    }\n",
       "</style>\n",
       "<table border=\"1\" class=\"dataframe\">\n",
       "  <thead>\n",
       "    <tr style=\"text-align: right;\">\n",
       "      <th></th>\n",
       "      <th>id</th>\n",
       "      <th>funding_round_id</th>\n",
       "      <th>company_id</th>\n",
       "      <th>fund_id</th>\n",
       "    </tr>\n",
       "  </thead>\n",
       "  <tbody>\n",
       "    <tr>\n",
       "      <th>0</th>\n",
       "      <td>1</td>\n",
       "      <td>1</td>\n",
       "      <td>4</td>\n",
       "      <td>1</td>\n",
       "    </tr>\n",
       "    <tr>\n",
       "      <th>1</th>\n",
       "      <td>2</td>\n",
       "      <td>1</td>\n",
       "      <td>4</td>\n",
       "      <td>2</td>\n",
       "    </tr>\n",
       "    <tr>\n",
       "      <th>2</th>\n",
       "      <td>3</td>\n",
       "      <td>3</td>\n",
       "      <td>5</td>\n",
       "      <td>4</td>\n",
       "    </tr>\n",
       "  </tbody>\n",
       "</table>\n",
       "</div>"
      ],
      "text/plain": [
       "   id  funding_round_id  company_id  fund_id\n",
       "0   1                 1           4        1\n",
       "1   2                 1           4        2\n",
       "2   3                 3           5        4"
      ]
     },
     "execution_count": 25,
     "metadata": {},
     "output_type": "execute_result"
    }
   ],
   "source": [
    "invest = pd.read_csv('/datasets/investment.csv')\n",
    "invest.info()\n",
    "invest.head(3)"
   ]
  },
  {
   "cell_type": "markdown",
   "metadata": {},
   "source": [
    "Не соответсвует описанию, отсутсвует один столбец `founding_round_type`. Нет пропусков"
   ]
  },
  {
   "cell_type": "markdown",
   "metadata": {
    "id": "mg2gEwh0rJg0"
   },
   "source": [
    "### 1.2. Смена типов и анализ пропусков\n",
    "\n"
   ]
  },
  {
   "cell_type": "markdown",
   "metadata": {},
   "source": [
    "Приводим стобцы к временному значению, где это необходимо."
   ]
  },
  {
   "cell_type": "code",
   "execution_count": 26,
   "metadata": {
    "id": "46VskrGyFeJ-"
   },
   "outputs": [],
   "source": [
    "df_total = [acq, edu, fund, company]\n",
    "\n",
    "for df in df_total:\n",
    "    date_cols = [col for col in df.columns if col.endswith('_at')]\n",
    "    for col in date_cols:\n",
    "        df[col] = pd.to_datetime(df[col], errors='coerce')"
   ]
  },
  {
   "cell_type": "markdown",
   "metadata": {},
   "source": [
    "В данных имеется информация о сделках, профилях компаний, их создателях, финансировании, что позволит провести базовый анализ."
   ]
  },
  {
   "cell_type": "markdown",
   "metadata": {
    "id": "u60cHsn6rJg1"
   },
   "source": [
    "## Шаг 2. Предобработка данных, предварительное исследование"
   ]
  },
  {
   "cell_type": "markdown",
   "metadata": {
    "id": "g2bHIIjcrJg1"
   },
   "source": [
    "\n",
    "### 2.1. Раунды финансирования по годам\n",
    "\n",
    "Задание необходимо выполнить без объединения и дополнительной предобработки на основе датасета `company_and_rounds.csv`.\n",
    "\n",
    "- Составьте сводную таблицу по годам, в которой на основании столбца `raised_amount` для каждого года указан:\n",
    "    - типичный размер средств, выделяемый в рамках одного раунда;\n",
    "    - общее количество раундов финансирования за этот год.\n",
    "    \n",
    "- Оставьте в таблице информацию только для тех лет, для которых есть информация о более чем 50 раундах финансирования.\n",
    "- На основе получившейся таблицы постройте график, который будет отражать динамику типичного размера средств, которые стартапы получали в рамках одного раунда финансирования.\n",
    "\n",
    "На основе полученных данных ответьте на вопросы:\n",
    "\n",
    "- В каком году типичный размер собранных в рамках одного раунда средств был максимален?\n",
    "- Какая тенденция по количеству раундов и выделяемых в рамках каждого раунда средств наблюдалась в 2013 году?"
   ]
  },
  {
   "cell_type": "code",
   "execution_count": 27,
   "metadata": {
    "id": "Cf5IjfOQrJg1",
    "vscode": {
     "languageId": "plaintext"
    }
   },
   "outputs": [
    {
     "name": "stdout",
     "output_type": "stream",
     "text": [
      "   funded_at  typical_raised_amount  funding_rounds_count\n",
      "15      1999              2000000.0                    76\n",
      "16      2000              4200000.0                   125\n",
      "17      2001              3000000.0                    96\n",
      "18      2002              4200000.0                   116\n",
      "19      2003              3000000.0                   159\n",
      "20      2004              5000000.0                   291\n",
      "21      2005              5500000.0                  1633\n",
      "22      2006              5000000.0                  2436\n",
      "23      2007              3973320.0                  3279\n",
      "24      2008              3110000.0                  3774\n",
      "25      2009              2000000.0                  4151\n",
      "26      2010              1602500.0                  6221\n",
      "27      2011              1200000.0                  9204\n",
      "28      2012              1000000.0                  9970\n",
      "29      2013              1200000.0                 11072\n"
     ]
    }
   ],
   "source": [
    "company['funded_at'] = company['funded_at'].dt.to_period('Y')\n",
    "\n",
    "company_tab = company.dropna(subset=['raised_amount', 'funded_at'])\n",
    "\n",
    "summary = company_tab.groupby('funded_at').agg(\n",
    "    typical_raised_amount=('raised_amount', 'median'),\n",
    "    funding_rounds_count=('raised_amount', 'count')).reset_index()\n",
    "\n",
    "summary = summary[summary['funding_rounds_count'] > 50]\n",
    "\n",
    "summary = summary.sort_values('funded_at')\n",
    "\n",
    "print(summary)"
   ]
  },
  {
   "cell_type": "code",
   "execution_count": 28,
   "metadata": {},
   "outputs": [
    {
     "data": {
      "image/png": "[encoded data removed]",
      "text/plain": [
       "<Figure size 864x576 with 2 Axes>"
      ]
     },
     "metadata": {
      "needs_background": "light"
     },
     "output_type": "display_data"
    }
   ],
   "source": [
    "fig, axes = plt.subplots(2, 1, figsize=(12, 8), sharex=True)\n",
    "\n",
    "axes[0].plot(summary['funded_at'].astype(str), summary['typical_raised_amount'], marker='o', color='steelblue')\n",
    "axes[0].set_ylabel('Медиана средств (млн $)')\n",
    "axes[0].set_title('Типичный размер привлечённых средств по годам')\n",
    "axes[0].grid(linewidth = 0.2)\n",
    "\n",
    "axes[1].bar(summary['funded_at'].astype(str), summary['funding_rounds_count'], color='darkblue')\n",
    "axes[1].set_xlabel('Год финансирования')\n",
    "axes[1].set_ylabel('Кол-во раундов')\n",
    "axes[1].set_title('Количество инвестиционных раундов по годам')\n",
    "axes[1].grid(linewidth = 0.2)\n",
    "\n",
    "plt.xticks(rotation=45)\n",
    "plt.tight_layout()\n",
    "plt.show()"
   ]
  },
  {
   "cell_type": "markdown",
   "metadata": {},
   "source": [
    "Максимальный типичный размер средств был в 2005 году - 5.5 млн. \n",
    "\n",
    "В 2013 году наблюдается тенденция к увеличению кол-ва раундов финансирования, в этот год самый высокий показатель - 11 тыс. Однако средняя сумма раунда не так высока, как была в пике - 1.2 млн. Вероятно увеличение кол-ва раундов негативно сказалось на сумме. "
   ]
  },
  {
   "cell_type": "markdown",
   "metadata": {
    "id": "45if1en1rJg2"
   },
   "source": [
    "\n",
    "### 2.2. Люди и их образование\n",
    "\n",
    "Заказчик хочет понять, зависит ли полнота сведений о сотрудниках (например, об их образовании) от размера компаний.\n",
    "\n",
    "- Оцените, насколько информация об образовании сотрудников полна. Используя датасеты `people.csv` и `education.csv`, разделите все компании на несколько групп по количеству сотрудников и оцените среднюю долю сотрудников без информации об образовании в каждой из групп. Обоснуйте выбранные границы групп.\n",
    "- Оцените, возможно ли для выполнения задания присоединить к этим таблицам ещё и таблицу `degrees.csv`."
   ]
  },
  {
   "cell_type": "code",
   "execution_count": 29,
   "metadata": {
    "id": "psPO7C4MrJg2",
    "vscode": {
     "languageId": "plaintext"
    }
   },
   "outputs": [
    {
     "name": "stdout",
     "output_type": "stream",
     "text": [
      "  company_size_group  no_education_info\n",
      "0              Микро           0.446317\n",
      "1              Малые           0.272182\n",
      "2            Средние           0.277214\n",
      "3            Крупные           0.178042\n",
      "4      Очень крупные           0.194305\n"
     ]
    }
   ],
   "source": [
    "people_edu = people.merge(edu, left_on='id', right_on='person_id', how='left')\n",
    "\n",
    "people_edu = people_edu.dropna(subset=['company_id'])\n",
    "\n",
    "company_sizes = people_edu.groupby('company_id').size().reset_index(name='employee_count')\n",
    "\n",
    "people_edu = people_edu.merge(company_sizes, on='company_id', how='left')\n",
    "\n",
    "# Выбрана такая разбивка, поскольку, судя по информации, выводимой describe, кол-во компаний с сотрудниками в кол-ве \n",
    "# 1-2 человека преобладающее кол-во. Макс. - около 380. Из этого выводилась примерная разбивка\n",
    "bins = [0, 2, 10, 50, 200, 400]\n",
    "labels = ['Микро', 'Малые', 'Средние', 'Крупные', 'Очень крупные']\n",
    "people_edu['company_size_group'] = pd.cut(people_edu['employee_count'], bins=bins, labels=labels, right=True)\n",
    "\n",
    "people_edu['no_education_info'] = people_edu['institution'].isna()\n",
    "\n",
    "result = people_edu.groupby('company_size_group')['no_education_info'].mean().reset_index()\n",
    "\n",
    "print(result)"
   ]
  },
  {
   "cell_type": "markdown",
   "metadata": {
    "id": "4FC98Pd-FcmG"
   },
   "source": [
    "На основе данных можно сделать вывод, что чем крупнее компания, тем выше полнота сведений об образовании сотрудников. В микро- и малых компаниях доля сотрудников без информации об образовании превышает 27–44%, тогда как в крупных и очень крупных — около 17–19%. В крупных компаниях зачастую более формализованные и бюрократизированные процессы, вследствие чего необходимо предоставление таких сведений. В малых компаниях сотрудники могут, в том числе, работать на себя. \n",
    "\n",
    "Относительно присоединения информации из столбца `degree` - это вполне возможно и даст больше информации об образовании (степени, предмете обучения). В случае, если потребуется провести анализ того, работают ли сотрудники по своей сфере или есть каков процент магистров среди сотрудников, эи сведения будут полезны."
   ]
  },
  {
   "cell_type": "code",
   "execution_count": 30,
   "metadata": {
    "scrolled": true
   },
   "outputs": [],
   "source": [
    "deg['person_id'] = deg['object_id'].astype(str).str.replace('p:', '', regex=False).astype(int)\n",
    "\n",
    "people_edu_deg = people_edu.merge(deg, on='person_id', how='left')"
   ]
  },
  {
   "cell_type": "markdown",
   "metadata": {
    "id": "Lz7qjM32xglW"
   },
   "source": [
    "### 2.3. Объединять или не объединять — вот в чём вопрос\n",
    "\n",
    "Некоторые названия столбцов встречаются в датасетах чаще других. В результате предварительной проверки датасетов было выяснено, что столбец `company_id` подходит для объединения данных.\n",
    "\n",
    "- Установите, подходит ли для объединения данных столбец `network_username`, который встречается в нескольких датасетах. Нам необходимо понимать, дублируется ли для разных датасетов информация в столбцах с таким названием, и если да — то насколько часто.\n",
    "- Оцените, можно ли использовать столбцы с именем `network_username` для объединения данных."
   ]
  },
  {
   "cell_type": "code",
   "execution_count": 31,
   "metadata": {
    "id": "zyI3rt0rxg1O"
   },
   "outputs": [
    {
     "name": "stdout",
     "output_type": "stream",
     "text": [
      "Заполненность в столбце people: 0.17144003987490572\n",
      "Заполненность в столбце company: 0.43868414043917087\n",
      "Заполненность в столбце fund: 0.1844318571918984\n",
      "--------------------\n",
      "Кол-во совпадающих значений people и company: 2270\n",
      "Кол-во совпадающих значений people и fund: 79\n",
      "Кол-во совпадающих значений company и fund: 85\n"
     ]
    }
   ],
   "source": [
    "print(\"Заполненность в столбце people:\", people['network_username'].notna().mean())\n",
    "print(\"Заполненность в столбце company:\", company['network_username'].notna().mean())\n",
    "print(\"Заполненность в столбце fund:\", fund['network_username'].notna().mean())\n",
    "\n",
    "print(\"--------------------\")\n",
    "\n",
    "people_in_company = people['network_username'].dropna().isin(company['network_username'].dropna())\n",
    "print(\"Кол-во совпадающих значений people и company:\", people_in_company.sum())\n",
    "\n",
    "people_in_fund = people['network_username'].dropna().isin(fund['network_username'].dropna())\n",
    "print(\"Кол-во совпадающих значений people и fund:\", people_in_fund.sum())\n",
    "\n",
    "company_in_fund = company['network_username'].dropna().isin(fund['network_username'].dropna())\n",
    "print(\"Кол-во совпадающих значений company и fund:\", company_in_fund.sum())"
   ]
  },
  {
   "cell_type": "markdown",
   "metadata": {},
   "source": [
    "Стобец `network_username` не особо подходит для объединения, поскольку:\n",
    "\n",
    "1. Несет в себе разные данные: в `people` означает ник сотрудника в сети, в `company` - ник компании, в `fund` - ник фонда. Они могут совпадать, но не являются идентичными\n",
    "2. Заполненость составляет 5-20%, что довольно мало.\n",
    "3. Кол-во совпадений невелико: из 38 тыс. значений в `people` и 95.5 тыс. в `company` совпадают лишь 2.2 тыс. В других соотношениях еще меньше."
   ]
  },
  {
   "cell_type": "code",
   "execution_count": 41,
   "metadata": {},
   "outputs": [
    {
     "data": {
      "image/png": "[encoded data removed]",
      "text/plain": [
       "<Figure size 432x288 with 1 Axes>"
      ]
     },
     "metadata": {},
     "output_type": "display_data"
    }
   ],
   "source": [
    "# Вариант визуализации\n",
    "!pip install matplotlib-venn -q\n",
    "import matplotlib.pyplot as plt\n",
    "from matplotlib_venn import  venn3\n",
    "\n",
    "first_id = set(company['network_username'].dropna().unique())\n",
    "second_id = set(people['network_username'].dropna().unique())\n",
    "third_id = set(fund['network_username'].dropna().unique())\n",
    "\n",
    "# Строим диаграмму Венна \n",
    "venn3([first_id, second_id, third_id], set_labels=('company', 'people', 'fund'))\n",
    "\n",
    "plt.title(\"Пересечение между нашими таблицами\")\n",
    "plt.show()\n"
   ]
  },
  {
   "cell_type": "markdown",
   "metadata": {
    "id": "EHcODomVrJg1"
   },
   "source": [
    "\n",
    "### 2.4. Проблемный датасет и причина возникновения пропусков\n",
    "\n",
    "Во время собственного анализа данных у заказчика больше всего вопросов возникло к датасету `company_and_rounds.csv`. В нём много пропусков как раз в информации о раундах, которая заказчику важна.\n",
    "\n",
    "- Любым удобным способом приведите данные в вид, который позволит в дальнейшем проводить анализ в разрезе отдельных компаний. Обратите внимание на структуру датасета, порядок и названия столбцов, проанализируйте значения.\n",
    "\n",
    "По гипотезе заказчика данные по компаниям из этой таблицы раньше хранились иначе, более удобным для исследования образом.\n",
    "\n",
    "- Максимальным образом сохраняя данные, сохранив их связность и исключив возможные возникающие при этом ошибки, подготовьте данные так, чтобы удобно было отобрать компании по параметрам и рассчитать показатели из расчёта на одну компанию без промежуточных агрегаций."
   ]
  },
  {
   "cell_type": "markdown",
   "metadata": {},
   "source": [
    "Выше уже рассматривалось кол-во пропусков в таблице:"
   ]
  },
  {
   "cell_type": "code",
   "execution_count": 33,
   "metadata": {
    "id": "oSk7xqu_FbaN"
   },
   "outputs": [
    {
     "data": {
      "text/html": [
       "<style  type=\"text/css\" >\n",
       "#T_fb83f_row0_col0{\n",
       "            background-color:  #b40426;\n",
       "            color:  #f1f1f1;\n",
       "        }#T_fb83f_row1_col0{\n",
       "            background-color:  #f29072;\n",
       "            color:  #000000;\n",
       "        }#T_fb83f_row2_col0,#T_fb83f_row3_col0,#T_fb83f_row4_col0,#T_fb83f_row5_col0,#T_fb83f_row6_col0{\n",
       "            background-color:  #f29274;\n",
       "            color:  #000000;\n",
       "        }#T_fb83f_row7_col0{\n",
       "            background-color:  #edd2c3;\n",
       "            color:  #000000;\n",
       "        }#T_fb83f_row8_col0{\n",
       "            background-color:  #dfdbd9;\n",
       "            color:  #000000;\n",
       "        }#T_fb83f_row9_col0{\n",
       "            background-color:  #dddcdc;\n",
       "            color:  #000000;\n",
       "        }#T_fb83f_row10_col0{\n",
       "            background-color:  #aec9fc;\n",
       "            color:  #000000;\n",
       "        }#T_fb83f_row11_col0{\n",
       "            background-color:  #a9c6fd;\n",
       "            color:  #000000;\n",
       "        }#T_fb83f_row12_col0,#T_fb83f_row13_col0,#T_fb83f_row14_col0,#T_fb83f_row15_col0,#T_fb83f_row16_col0,#T_fb83f_row17_col0,#T_fb83f_row18_col0,#T_fb83f_row19_col0,#T_fb83f_row20_col0,#T_fb83f_row21_col0{\n",
       "            background-color:  #3b4cc0;\n",
       "            color:  #f1f1f1;\n",
       "        }</style><table id=\"T_fb83f_\" ><thead>    <tr>        <th class=\"blank level0\" ></th>        <th class=\"col_heading level0 col0\" >missing_%</th>    </tr></thead><tbody>\n",
       "                <tr>\n",
       "                        <th id=\"T_fb83f_level0_row0\" class=\"row_heading level0 row0\" >closed_at</th>\n",
       "                        <td id=\"T_fb83f_row0_col0\" class=\"data row0 col0\" >98.420000</td>\n",
       "            </tr>\n",
       "            <tr>\n",
       "                        <th id=\"T_fb83f_level0_row1\" class=\"row_heading level0 row1\" >funded_at</th>\n",
       "                        <td id=\"T_fb83f_row1_col0\" class=\"data row1 col0\" >75.810000</td>\n",
       "            </tr>\n",
       "            <tr>\n",
       "                        <th id=\"T_fb83f_level0_row2\" class=\"row_heading level0 row2\" >pre_money_valuation</th>\n",
       "                        <td id=\"T_fb83f_row2_col0\" class=\"data row2 col0\" >75.700000</td>\n",
       "            </tr>\n",
       "            <tr>\n",
       "                        <th id=\"T_fb83f_level0_row3\" class=\"row_heading level0 row3\" >funding_round_id</th>\n",
       "                        <td id=\"T_fb83f_row3_col0\" class=\"data row3 col0\" >75.700000</td>\n",
       "            </tr>\n",
       "            <tr>\n",
       "                        <th id=\"T_fb83f_level0_row4\" class=\"row_heading level0 row4\" >raised_amount</th>\n",
       "                        <td id=\"T_fb83f_row4_col0\" class=\"data row4 col0\" >75.700000</td>\n",
       "            </tr>\n",
       "            <tr>\n",
       "                        <th id=\"T_fb83f_level0_row5\" class=\"row_heading level0 row5\" >participants</th>\n",
       "                        <td id=\"T_fb83f_row5_col0\" class=\"data row5 col0\" >75.700000</td>\n",
       "            </tr>\n",
       "            <tr>\n",
       "                        <th id=\"T_fb83f_level0_row6\" class=\"row_heading level0 row6\" >funding_round_type</th>\n",
       "                        <td id=\"T_fb83f_row6_col0\" class=\"data row6 col0\" >75.700000</td>\n",
       "            </tr>\n",
       "            <tr>\n",
       "                        <th id=\"T_fb83f_level0_row7\" class=\"row_heading level0 row7\" >network_username</th>\n",
       "                        <td id=\"T_fb83f_row7_col0\" class=\"data row7 col0\" >56.130000</td>\n",
       "            </tr>\n",
       "            <tr>\n",
       "                        <th id=\"T_fb83f_level0_row8\" class=\"row_heading level0 row8\" >country_code</th>\n",
       "                        <td id=\"T_fb83f_row8_col0\" class=\"data row8 col0\" >50.130000</td>\n",
       "            </tr>\n",
       "            <tr>\n",
       "                        <th id=\"T_fb83f_level0_row9\" class=\"row_heading level0 row9\" >founded_at</th>\n",
       "                        <td id=\"T_fb83f_row9_col0\" class=\"data row9 col0\" >49.510000</td>\n",
       "            </tr>\n",
       "            <tr>\n",
       "                        <th id=\"T_fb83f_level0_row10\" class=\"row_heading level0 row10\" >category_code</th>\n",
       "                        <td id=\"T_fb83f_row10_col0\" class=\"data row10 col0\" >33.930000</td>\n",
       "            </tr>\n",
       "            <tr>\n",
       "                        <th id=\"T_fb83f_level0_row11\" class=\"row_heading level0 row11\" >domain</th>\n",
       "                        <td id=\"T_fb83f_row11_col0\" class=\"data row11 col0\" >32.430000</td>\n",
       "            </tr>\n",
       "            <tr>\n",
       "                        <th id=\"T_fb83f_level0_row12\" class=\"row_heading level0 row12\" >funding_total</th>\n",
       "                        <td id=\"T_fb83f_row12_col0\" class=\"data row12 col0\" >0.140000</td>\n",
       "            </tr>\n",
       "            <tr>\n",
       "                        <th id=\"T_fb83f_level0_row13\" class=\"row_heading level0 row13\" >milestones</th>\n",
       "                        <td id=\"T_fb83f_row13_col0\" class=\"data row13 col0\" >0.140000</td>\n",
       "            </tr>\n",
       "            <tr>\n",
       "                        <th id=\"T_fb83f_level0_row14\" class=\"row_heading level0 row14\" >name</th>\n",
       "                        <td id=\"T_fb83f_row14_col0\" class=\"data row14 col0\" >0.140000</td>\n",
       "            </tr>\n",
       "            <tr>\n",
       "                        <th id=\"T_fb83f_level0_row15\" class=\"row_heading level0 row15\" >funding_rounds</th>\n",
       "                        <td id=\"T_fb83f_row15_col0\" class=\"data row15 col0\" >0.140000</td>\n",
       "            </tr>\n",
       "            <tr>\n",
       "                        <th id=\"T_fb83f_level0_row16\" class=\"row_heading level0 row16\" >status</th>\n",
       "                        <td id=\"T_fb83f_row16_col0\" class=\"data row16 col0\" >0.140000</td>\n",
       "            </tr>\n",
       "            <tr>\n",
       "                        <th id=\"T_fb83f_level0_row17\" class=\"row_heading level0 row17\" >investment_rounds</th>\n",
       "                        <td id=\"T_fb83f_row17_col0\" class=\"data row17 col0\" >0.140000</td>\n",
       "            </tr>\n",
       "            <tr>\n",
       "                        <th id=\"T_fb83f_level0_row18\" class=\"row_heading level0 row18\" >is_first_round</th>\n",
       "                        <td id=\"T_fb83f_row18_col0\" class=\"data row18 col0\" >0.000000</td>\n",
       "            </tr>\n",
       "            <tr>\n",
       "                        <th id=\"T_fb83f_level0_row19\" class=\"row_heading level0 row19\" >company_id</th>\n",
       "                        <td id=\"T_fb83f_row19_col0\" class=\"data row19 col0\" >0.000000</td>\n",
       "            </tr>\n",
       "            <tr>\n",
       "                        <th id=\"T_fb83f_level0_row20\" class=\"row_heading level0 row20\" >company_round_id</th>\n",
       "                        <td id=\"T_fb83f_row20_col0\" class=\"data row20 col0\" >0.000000</td>\n",
       "            </tr>\n",
       "            <tr>\n",
       "                        <th id=\"T_fb83f_level0_row21\" class=\"row_heading level0 row21\" >is_last_round</th>\n",
       "                        <td id=\"T_fb83f_row21_col0\" class=\"data row21 col0\" >0.000000</td>\n",
       "            </tr>\n",
       "    </tbody></table>"
      ],
      "text/plain": [
       "<pandas.io.formats.style.Styler at 0x7f7ac626a430>"
      ]
     },
     "execution_count": 33,
     "metadata": {},
     "output_type": "execute_result"
    }
   ],
   "source": [
    "na_company = pd.DataFrame(round(company.isna().mean() * 100, 2), columns=['missing_%'])\n",
    "\n",
    "na_company_sorted = na_company.sort_values(by='missing_%', ascending=False)\n",
    "\n",
    "na_company_sorted.style.background_gradient('coolwarm')"
   ]
  },
  {
   "cell_type": "code",
   "execution_count": 34,
   "metadata": {
    "id": "9BY9lTUcFbJ-"
   },
   "outputs": [
    {
     "data": {
      "text/html": [
       "<div>\n",
       "<style scoped>\n",
       "    .dataframe tbody tr th:only-of-type {\n",
       "        vertical-align: middle;\n",
       "    }\n",
       "\n",
       "    .dataframe tbody tr th {\n",
       "        vertical-align: top;\n",
       "    }\n",
       "\n",
       "    .dataframe thead th {\n",
       "        text-align: right;\n",
       "    }\n",
       "</style>\n",
       "<table border=\"1\" class=\"dataframe\">\n",
       "  <thead>\n",
       "    <tr style=\"text-align: right;\">\n",
       "      <th></th>\n",
       "      <th>company_id</th>\n",
       "      <th>name</th>\n",
       "      <th>category_code</th>\n",
       "      <th>country_code</th>\n",
       "      <th>founded_at</th>\n",
       "      <th>closed_at</th>\n",
       "      <th>status</th>\n",
       "      <th>investment_rounds</th>\n",
       "      <th>funding_rounds</th>\n",
       "      <th>funding_total</th>\n",
       "      <th>raised_amount</th>\n",
       "      <th>participants</th>\n",
       "    </tr>\n",
       "  </thead>\n",
       "  <tbody>\n",
       "    <tr>\n",
       "      <th>0</th>\n",
       "      <td>1.0</td>\n",
       "      <td>Wetpaint</td>\n",
       "      <td>web</td>\n",
       "      <td>USA</td>\n",
       "      <td>2005-10-17</td>\n",
       "      <td>NaT</td>\n",
       "      <td>operating</td>\n",
       "      <td>0</td>\n",
       "      <td>3</td>\n",
       "      <td>3.975000e+07</td>\n",
       "      <td>2.500000e+07</td>\n",
       "      <td>4</td>\n",
       "    </tr>\n",
       "    <tr>\n",
       "      <th>1</th>\n",
       "      <td>2.0</td>\n",
       "      <td>AdventNet</td>\n",
       "      <td>enterprise</td>\n",
       "      <td>USA</td>\n",
       "      <td>1996-01-01</td>\n",
       "      <td>NaT</td>\n",
       "      <td>operating</td>\n",
       "      <td>0</td>\n",
       "      <td>0</td>\n",
       "      <td>0.000000e+00</td>\n",
       "      <td>NaN</td>\n",
       "      <td>&lt;NA&gt;</td>\n",
       "    </tr>\n",
       "    <tr>\n",
       "      <th>2</th>\n",
       "      <td>3.0</td>\n",
       "      <td>Zoho</td>\n",
       "      <td>software</td>\n",
       "      <td>USA</td>\n",
       "      <td>2005-09-15</td>\n",
       "      <td>NaT</td>\n",
       "      <td>operating</td>\n",
       "      <td>0</td>\n",
       "      <td>0</td>\n",
       "      <td>0.000000e+00</td>\n",
       "      <td>NaN</td>\n",
       "      <td>&lt;NA&gt;</td>\n",
       "    </tr>\n",
       "    <tr>\n",
       "      <th>3</th>\n",
       "      <td>4.0</td>\n",
       "      <td>Digg</td>\n",
       "      <td>news</td>\n",
       "      <td>USA</td>\n",
       "      <td>2004-10-11</td>\n",
       "      <td>NaT</td>\n",
       "      <td>acquired</td>\n",
       "      <td>0</td>\n",
       "      <td>4</td>\n",
       "      <td>4.500000e+07</td>\n",
       "      <td>2.870000e+07</td>\n",
       "      <td>8</td>\n",
       "    </tr>\n",
       "    <tr>\n",
       "      <th>4</th>\n",
       "      <td>5.0</td>\n",
       "      <td>Socialnet</td>\n",
       "      <td>social</td>\n",
       "      <td>USA</td>\n",
       "      <td>2004-02-01</td>\n",
       "      <td>NaT</td>\n",
       "      <td>ipo</td>\n",
       "      <td>3</td>\n",
       "      <td>11</td>\n",
       "      <td>2.425700e+09</td>\n",
       "      <td>1.500000e+09</td>\n",
       "      <td>4</td>\n",
       "    </tr>\n",
       "    <tr>\n",
       "      <th>5</th>\n",
       "      <td>7.0</td>\n",
       "      <td>Omnidrive</td>\n",
       "      <td>network_hosting</td>\n",
       "      <td>ISR</td>\n",
       "      <td>2005-11-01</td>\n",
       "      <td>2008-09-15</td>\n",
       "      <td>closed</td>\n",
       "      <td>0</td>\n",
       "      <td>1</td>\n",
       "      <td>8.000000e+05</td>\n",
       "      <td>8.000000e+05</td>\n",
       "      <td>4</td>\n",
       "    </tr>\n",
       "    <tr>\n",
       "      <th>6</th>\n",
       "      <td>8.0</td>\n",
       "      <td>Postini</td>\n",
       "      <td>web</td>\n",
       "      <td>USA</td>\n",
       "      <td>1999-06-02</td>\n",
       "      <td>NaT</td>\n",
       "      <td>acquired</td>\n",
       "      <td>0</td>\n",
       "      <td>0</td>\n",
       "      <td>0.000000e+00</td>\n",
       "      <td>NaN</td>\n",
       "      <td>&lt;NA&gt;</td>\n",
       "    </tr>\n",
       "  </tbody>\n",
       "</table>\n",
       "</div>"
      ],
      "text/plain": [
       "   company_id       name    category_code country_code founded_at  closed_at  \\\n",
       "0         1.0   Wetpaint              web          USA 2005-10-17        NaT   \n",
       "1         2.0  AdventNet       enterprise          USA 1996-01-01        NaT   \n",
       "2         3.0       Zoho         software          USA 2005-09-15        NaT   \n",
       "3         4.0       Digg             news          USA 2004-10-11        NaT   \n",
       "4         5.0  Socialnet           social          USA 2004-02-01        NaT   \n",
       "5         7.0  Omnidrive  network_hosting          ISR 2005-11-01 2008-09-15   \n",
       "6         8.0    Postini              web          USA 1999-06-02        NaT   \n",
       "\n",
       "      status  investment_rounds  funding_rounds  funding_total  raised_amount  \\\n",
       "0  operating                  0               3   3.975000e+07   2.500000e+07   \n",
       "1  operating                  0               0   0.000000e+00            NaN   \n",
       "2  operating                  0               0   0.000000e+00            NaN   \n",
       "3   acquired                  0               4   4.500000e+07   2.870000e+07   \n",
       "4        ipo                  3              11   2.425700e+09   1.500000e+09   \n",
       "5     closed                  0               1   8.000000e+05   8.000000e+05   \n",
       "6   acquired                  0               0   0.000000e+00            NaN   \n",
       "\n",
       "   participants  \n",
       "0             4  \n",
       "1          <NA>  \n",
       "2          <NA>  \n",
       "3             8  \n",
       "4             4  \n",
       "5             4  \n",
       "6          <NA>  "
      ]
     },
     "execution_count": 34,
     "metadata": {},
     "output_type": "execute_result"
    }
   ],
   "source": [
    "company_summary = company.groupby('company_id').agg({\n",
    "    'name': 'last',                 \n",
    "    'category_code': 'last', \n",
    "    'country_code': 'last', \n",
    "    'founded_at': 'first',           \n",
    "    'closed_at': 'first',\n",
    "    'status':'last', \n",
    "    'investment_rounds': 'max',      \n",
    "    'funding_rounds': 'max',         \n",
    "    'funding_total': 'max',\n",
    "    'raised_amount':'max',\n",
    "    'participants': 'max'}).reset_index()\n",
    "\n",
    "company_summary.head(7)"
   ]
  },
  {
   "cell_type": "markdown",
   "metadata": {
    "id": "tJ6Sl6MKrJg1",
    "vscode": {
     "languageId": "plaintext"
    }
   },
   "source": [
    "Из возможных вариаций, вариант сгруппировать данные показался оптимальным. Пропуски были оставлены без лишних заполнений, дабы не исказить анализ. Никакие столбцы не были удалены, поскольку более половины фин. информации составляют пропуски, а данные нам необходимы. Пропуски в столбце с закрытием, вероятно, не случайны, поскольку компании могут продолжать свою деятельность по сей день. Таким образом:\n",
    "1. Было взято последнее название компании - более актуальное\n",
    "2. Последний вид деятельности, так как компания могла ее сменить со временем\n",
    "3. Последний код страны, так как компания могла релоцироваться\n",
    "4. Первый год основания\n",
    "5. Последний встречающийся год закрытия\n",
    "6. Последний статус деятельности\n",
    "7. Максимальное кол-во инвест. раундов\n",
    "8. Максимальное кол-во раундов финансирования\n",
    "9. Максимальное кол-во средств, полученных по итогам всех финасирований\n",
    "10. Максимальное кол-во средств, привлеченная в в конкретном раунде финансирования\n",
    "11. Максимальное кол-во участников (оно могло увеличиваться с течением времени и по ходу роста компании)\n",
    "\n",
    "P.S.: буду очень рада советам о том, как еще можно было бы привести данные к виду для анализа по каждой компании, поскольку мои идеи исчерпаны и, кажется, эта задача понята не до конца."
   ]
  },
  {
   "cell_type": "code",
   "execution_count": 35,
   "metadata": {},
   "outputs": [
    {
     "data": {
      "text/html": [
       "<div>\n",
       "<style scoped>\n",
       "    .dataframe tbody tr th:only-of-type {\n",
       "        vertical-align: middle;\n",
       "    }\n",
       "\n",
       "    .dataframe tbody tr th {\n",
       "        vertical-align: top;\n",
       "    }\n",
       "\n",
       "    .dataframe thead th {\n",
       "        text-align: right;\n",
       "    }\n",
       "</style>\n",
       "<table border=\"1\" class=\"dataframe\">\n",
       "  <thead>\n",
       "    <tr style=\"text-align: right;\">\n",
       "      <th></th>\n",
       "      <th>company_id</th>\n",
       "      <th>name</th>\n",
       "      <th>category_code</th>\n",
       "      <th>country_code</th>\n",
       "      <th>founded_at</th>\n",
       "      <th>closed_at</th>\n",
       "      <th>status</th>\n",
       "      <th>investment_rounds</th>\n",
       "      <th>funding_rounds</th>\n",
       "      <th>funding_total</th>\n",
       "      <th>raised_amount</th>\n",
       "      <th>participants</th>\n",
       "    </tr>\n",
       "  </thead>\n",
       "  <tbody>\n",
       "    <tr>\n",
       "      <th>185285</th>\n",
       "      <td>273343.0</td>\n",
       "      <td>óga</td>\n",
       "      <td>fashion</td>\n",
       "      <td>IRL</td>\n",
       "      <td>NaT</td>\n",
       "      <td>NaT</td>\n",
       "      <td>operating</td>\n",
       "      <td>0</td>\n",
       "      <td>0</td>\n",
       "      <td>0.0</td>\n",
       "      <td>NaN</td>\n",
       "      <td>&lt;NA&gt;</td>\n",
       "    </tr>\n",
       "    <tr>\n",
       "      <th>39041</th>\n",
       "      <td>48541.0</td>\n",
       "      <td>Übermind</td>\n",
       "      <td>software</td>\n",
       "      <td>USA</td>\n",
       "      <td>1999-07-01</td>\n",
       "      <td>NaT</td>\n",
       "      <td>operating</td>\n",
       "      <td>0</td>\n",
       "      <td>0</td>\n",
       "      <td>0.0</td>\n",
       "      <td>NaN</td>\n",
       "      <td>&lt;NA&gt;</td>\n",
       "    </tr>\n",
       "    <tr>\n",
       "      <th>190175</th>\n",
       "      <td>278667.0</td>\n",
       "      <td>ÜberResearch</td>\n",
       "      <td>web</td>\n",
       "      <td>DEU</td>\n",
       "      <td>NaT</td>\n",
       "      <td>NaT</td>\n",
       "      <td>operating</td>\n",
       "      <td>0</td>\n",
       "      <td>1</td>\n",
       "      <td>0.0</td>\n",
       "      <td>0.0</td>\n",
       "      <td>1</td>\n",
       "    </tr>\n",
       "    <tr>\n",
       "      <th>185257</th>\n",
       "      <td>273315.0</td>\n",
       "      <td>Únas Pies</td>\n",
       "      <td>hospitality</td>\n",
       "      <td>IRL</td>\n",
       "      <td>NaT</td>\n",
       "      <td>NaT</td>\n",
       "      <td>operating</td>\n",
       "      <td>0</td>\n",
       "      <td>0</td>\n",
       "      <td>0.0</td>\n",
       "      <td>NaN</td>\n",
       "      <td>&lt;NA&gt;</td>\n",
       "    </tr>\n",
       "    <tr>\n",
       "      <th>95022</th>\n",
       "      <td>170320.0</td>\n",
       "      <td>Østjysk Innovation  A/S</td>\n",
       "      <td>NaN</td>\n",
       "      <td>NaN</td>\n",
       "      <td>NaT</td>\n",
       "      <td>NaT</td>\n",
       "      <td>operating</td>\n",
       "      <td>1</td>\n",
       "      <td>0</td>\n",
       "      <td>0.0</td>\n",
       "      <td>NaN</td>\n",
       "      <td>&lt;NA&gt;</td>\n",
       "    </tr>\n",
       "    <tr>\n",
       "      <th>...</th>\n",
       "      <td>...</td>\n",
       "      <td>...</td>\n",
       "      <td>...</td>\n",
       "      <td>...</td>\n",
       "      <td>...</td>\n",
       "      <td>...</td>\n",
       "      <td>...</td>\n",
       "      <td>...</td>\n",
       "      <td>...</td>\n",
       "      <td>...</td>\n",
       "      <td>...</td>\n",
       "      <td>...</td>\n",
       "    </tr>\n",
       "    <tr>\n",
       "      <th>191224</th>\n",
       "      <td>279804.0</td>\n",
       "      <td>None</td>\n",
       "      <td>None</td>\n",
       "      <td>None</td>\n",
       "      <td>NaT</td>\n",
       "      <td>NaT</td>\n",
       "      <td>None</td>\n",
       "      <td>&lt;NA&gt;</td>\n",
       "      <td>&lt;NA&gt;</td>\n",
       "      <td>NaN</td>\n",
       "      <td>0.0</td>\n",
       "      <td>1</td>\n",
       "    </tr>\n",
       "    <tr>\n",
       "      <th>193617</th>\n",
       "      <td>282450.0</td>\n",
       "      <td>None</td>\n",
       "      <td>None</td>\n",
       "      <td>None</td>\n",
       "      <td>NaT</td>\n",
       "      <td>NaT</td>\n",
       "      <td>None</td>\n",
       "      <td>&lt;NA&gt;</td>\n",
       "      <td>&lt;NA&gt;</td>\n",
       "      <td>NaN</td>\n",
       "      <td>2600000.0</td>\n",
       "      <td>0</td>\n",
       "    </tr>\n",
       "    <tr>\n",
       "      <th>194003</th>\n",
       "      <td>282847.0</td>\n",
       "      <td>None</td>\n",
       "      <td>None</td>\n",
       "      <td>None</td>\n",
       "      <td>NaT</td>\n",
       "      <td>NaT</td>\n",
       "      <td>None</td>\n",
       "      <td>&lt;NA&gt;</td>\n",
       "      <td>&lt;NA&gt;</td>\n",
       "      <td>NaN</td>\n",
       "      <td>5500000.0</td>\n",
       "      <td>0</td>\n",
       "    </tr>\n",
       "    <tr>\n",
       "      <th>194597</th>\n",
       "      <td>283492.0</td>\n",
       "      <td>None</td>\n",
       "      <td>None</td>\n",
       "      <td>None</td>\n",
       "      <td>NaT</td>\n",
       "      <td>NaT</td>\n",
       "      <td>None</td>\n",
       "      <td>&lt;NA&gt;</td>\n",
       "      <td>&lt;NA&gt;</td>\n",
       "      <td>NaN</td>\n",
       "      <td>3602480.0</td>\n",
       "      <td>5</td>\n",
       "    </tr>\n",
       "    <tr>\n",
       "      <th>195241</th>\n",
       "      <td>284191.0</td>\n",
       "      <td>None</td>\n",
       "      <td>None</td>\n",
       "      <td>None</td>\n",
       "      <td>NaT</td>\n",
       "      <td>NaT</td>\n",
       "      <td>None</td>\n",
       "      <td>&lt;NA&gt;</td>\n",
       "      <td>&lt;NA&gt;</td>\n",
       "      <td>NaN</td>\n",
       "      <td>7000000.0</td>\n",
       "      <td>4</td>\n",
       "    </tr>\n",
       "  </tbody>\n",
       "</table>\n",
       "<p>196785 rows × 12 columns</p>\n",
       "</div>"
      ],
      "text/plain": [
       "        company_id                     name category_code country_code  \\\n",
       "185285    273343.0                      óga       fashion          IRL   \n",
       "39041      48541.0                 Übermind      software          USA   \n",
       "190175    278667.0             ÜberResearch           web          DEU   \n",
       "185257    273315.0               Únas Pies   hospitality          IRL   \n",
       "95022     170320.0  Østjysk Innovation  A/S           NaN          NaN   \n",
       "...            ...                      ...           ...          ...   \n",
       "191224    279804.0                     None          None         None   \n",
       "193617    282450.0                     None          None         None   \n",
       "194003    282847.0                     None          None         None   \n",
       "194597    283492.0                     None          None         None   \n",
       "195241    284191.0                     None          None         None   \n",
       "\n",
       "       founded_at closed_at     status  investment_rounds  funding_rounds  \\\n",
       "185285        NaT       NaT  operating                  0               0   \n",
       "39041  1999-07-01       NaT  operating                  0               0   \n",
       "190175        NaT       NaT  operating                  0               1   \n",
       "185257        NaT       NaT  operating                  0               0   \n",
       "95022         NaT       NaT  operating                  1               0   \n",
       "...           ...       ...        ...                ...             ...   \n",
       "191224        NaT       NaT       None               <NA>            <NA>   \n",
       "193617        NaT       NaT       None               <NA>            <NA>   \n",
       "194003        NaT       NaT       None               <NA>            <NA>   \n",
       "194597        NaT       NaT       None               <NA>            <NA>   \n",
       "195241        NaT       NaT       None               <NA>            <NA>   \n",
       "\n",
       "        funding_total  raised_amount  participants  \n",
       "185285            0.0            NaN          <NA>  \n",
       "39041             0.0            NaN          <NA>  \n",
       "190175            0.0            0.0             1  \n",
       "185257            0.0            NaN          <NA>  \n",
       "95022             0.0            NaN          <NA>  \n",
       "...               ...            ...           ...  \n",
       "191224            NaN            0.0             1  \n",
       "193617            NaN      2600000.0             0  \n",
       "194003            NaN      5500000.0             0  \n",
       "194597            NaN      3602480.0             5  \n",
       "195241            NaN      7000000.0             4  \n",
       "\n",
       "[196785 rows x 12 columns]"
      ]
     },
     "execution_count": 35,
     "metadata": {},
     "output_type": "execute_result"
    }
   ],
   "source": [
    "company_summary.sort_values(by = 'name', ascending=False)"
   ]
  },
  {
   "cell_type": "code",
   "execution_count": 36,
   "metadata": {},
   "outputs": [],
   "source": [
    "company_cols = [\n",
    "    'company_id', 'name', 'category_code', 'status', 'founded_at', 'closed_at',\n",
    "    'domain', 'network_username', 'country_code', 'investment_rounds',\n",
    "    'funding_rounds', 'funding_total', 'milestones'\n",
    "]\n",
    "\n",
    "companies = company[company_cols].drop_duplicates(subset='company_id')\n",
    "\n",
    "round_cols = [\n",
    "    'funding_round_id', 'company_round_id', 'funded_at', 'funding_round_type',\n",
    "    'raised_amount', 'pre_money_valuation', 'participants', 'is_first_round', 'is_last_round'\n",
    "]\n",
    "\n",
    "rounds = company[round_cols].dropna(subset=['funding_round_id'])"
   ]
  },
  {
   "cell_type": "markdown",
   "metadata": {
    "id": "bmVYhphNrJg2"
   },
   "source": [
    "\n",
    "## Шаг 3. Исследовательский анализ объединённых таблиц\n",
    "\n"
   ]
  },
  {
   "cell_type": "markdown",
   "metadata": {
    "id": "3Di6tCT3rJg2"
   },
   "source": [
    "\n",
    "### 3.1. Объединение данных\n",
    "\n",
    "Объедините данные для ответа на вопросы заказчика, которые касаются интересующих его компаний. Заказчика прежде всего интересуют те компании, которые меняли или готовы менять владельцев. Получение инвестиций или финансирования, по мнению заказчика, означает интерес к покупке или продаже компании.\n",
    "\n",
    "В качестве основы для объединённой таблицы возьмите данные из обработанного датасета `company_and_rounds.csv` — выберите только те компании, у которых указаны значения `funding_rounds` или `investment_rounds` больше нуля, или те, у которых в колонке `status` указано `acquired`. В результирующей таблице должно получиться порядка 40 тысяч компаний.\n",
    "\n",
    "Проверьте полноту и корректность получившейся таблицы. Далее работайте только с этими данными."
   ]
  },
  {
   "cell_type": "code",
   "execution_count": 37,
   "metadata": {
    "id": "kuV1b5MXFg3_"
   },
   "outputs": [
    {
     "name": "stdout",
     "output_type": "stream",
     "text": [
      "Кол-во исходных фильтрованных данных: 61,666\n",
      "Кол-во дубликатов: 20919\n",
      "Кол-во компаний результирующей таблицы: 40,747\n"
     ]
    }
   ],
   "source": [
    "filtered_companies = company[\n",
    "    (company[\"funding_rounds\"] > 0) |\n",
    "    (company[\"investment_rounds\"] > 0) |\n",
    "    (company[\"status\"] == \"acquired\")]\n",
    "\n",
    "print(f\"Кол-во исходных фильтрованных данных: {filtered_companies.shape[0]:,}\")\n",
    "\n",
    "print(f\"Кол-во дубликатов: {filtered_companies['company_id'].duplicated().sum()}\")\n",
    "filtered_companies = filtered_companies.drop_duplicates(subset='company_id')\n",
    "\n",
    "print(f\"Кол-во компаний результирующей таблицы: {filtered_companies.shape[0]:,}\")"
   ]
  },
  {
   "cell_type": "markdown",
   "metadata": {
    "id": "93v3fEX5FgtP"
   },
   "source": [
    "Данные отобраны по условиям заказчика, их кол-во соответсвует предполагаемому."
   ]
  },
  {
   "cell_type": "markdown",
   "metadata": {
    "id": "DFHINkV3rJg2"
   },
   "source": [
    "\n",
    "### 3.2. Анализ выбросов\n",
    "\n",
    "Заказчика интересует обычный для рассматриваемого периода размер средств, который предоставлялся компаниям.\n",
    "\n",
    "- По предобработанному столбцу `funding_total` графическим способом оцените, какой размер общего финансирования для одной компании будет типичным, а какой — выбивающимся.\n",
    "- В процессе расчёта значений обратите внимание, например, на показатели, возвращаемые методом `.describe()`, — объясните их. Применимы ли к таким данным обычные способы нахождения типичных значений?"
   ]
  },
  {
   "cell_type": "code",
   "execution_count": 38,
   "metadata": {
    "id": "8jm75fKXrJg2",
    "scrolled": true,
    "vscode": {
     "languageId": "plaintext"
    }
   },
   "outputs": [
    {
     "data": {
      "text/plain": [
       "count    4.074700e+04\n",
       "mean     1.013561e+07\n",
       "std      5.646436e+07\n",
       "min      0.000000e+00\n",
       "25%      0.000000e+00\n",
       "50%      6.000000e+05\n",
       "75%      5.650650e+06\n",
       "max      5.700000e+09\n",
       "Name: funding_total, dtype: float64"
      ]
     },
     "execution_count": 38,
     "metadata": {},
     "output_type": "execute_result"
    }
   ],
   "source": [
    "filtered_companies['funding_total'].describe()"
   ]
  },
  {
   "cell_type": "code",
   "execution_count": 39,
   "metadata": {},
   "outputs": [
    {
     "data": {
      "image/png": "[encoded data removed]",
      "text/plain": [
       "<Figure size 1008x432 with 2 Axes>"
      ]
     },
     "metadata": {
      "needs_background": "light"
     },
     "output_type": "display_data"
    }
   ],
   "source": [
    "fig, axs = plt.subplots(1, 2, figsize=(14, 6))\n",
    "\n",
    "# Полномасштабный график \n",
    "axs[0].boxplot(filtered_companies['funding_total'].dropna(), vert=False)\n",
    "axs[0].set_title('Размер общего финансирования для компании')\n",
    "axs[0].set_xlabel('Размер финансирования (млн, USD)')\n",
    "\n",
    "# Ограниченный график (до 10 млн)\n",
    "axs[1].boxplot(filtered_companies['funding_total'].dropna(), vert=False)\n",
    "axs[1].set_xlim(0, 10_000_000)\n",
    "axs[1].set_title('Размер общего финансирования для компании в разрезе до 10 млн USD')\n",
    "axs[1].set_xlabel('Размер финансирования (млн, USD)')\n",
    "\n",
    "plt.tight_layout()\n",
    "plt.show()"
   ]
  },
  {
   "cell_type": "markdown",
   "metadata": {},
   "source": [
    "Распределение финансирования сильно смещено вправо — с большим числом экстремальных значений.\n",
    "\n",
    "- Медиана (50%) — всего 600 тыс., что говорит о том, что половина компаний привлекала не больше этой суммы.\n",
    "- Среднее — около 10 млн, но оно искажено за счёт единичных крупных сделок (максимум — 5.7 млрд).\n",
    "- 25% — 0, 75% — 5.65 млн, то есть только четверть компаний привлекала более 5.65 млн.\n",
    "- Большое стандартное отклонение (std ≈ 56 млн) подтверждает высокую разбросанность.\n",
    "\n",
    "Типичным объёмом финансирования можно считать 0.6 млн (медиана).\n",
    "Значения от 20–30 млн и выше выглядят как выбивающиеся и характерны только для ограниченного числа компаний.\n"
   ]
  },
  {
   "cell_type": "markdown",
   "metadata": {
    "id": "JqkRAQrIrJg2"
   },
   "source": [
    "\n",
    "### 3.3. Куплены забесплатно?\n",
    "\n",
    "- Исследуйте компании, которые были проданы за ноль или за один доллар, и при этом известно, что у них был ненулевой общий объём финансирования.\n",
    "\n",
    "- Рассчитайте аналитически верхнюю и нижнюю границу выбросов для столбца `funding_total` и укажите, каким процентилям границы соответствуют."
   ]
  },
  {
   "cell_type": "code",
   "execution_count": 42,
   "metadata": {
    "id": "wJHXCBwwrJg2",
    "vscode": {
     "languageId": "plaintext"
    }
   },
   "outputs": [
    {
     "name": "stdout",
     "output_type": "stream",
     "text": [
      "25-й перцентиль (Q1): 2000000.0\n",
      "75-й перцентиль (Q3): 15500000.0\n",
      "IQR: 13500000.0\n"
     ]
    },
    {
     "ename": "NameError",
     "evalue": "name 'lower_pct' is not defined",
     "output_type": "error",
     "traceback": [
      "\u001b[0;31m---------------------------------------------------------------------------\u001b[0m",
      "\u001b[0;31mNameError\u001b[0m                                 Traceback (most recent call last)",
      "\u001b[0;32m/tmp/ipykernel_142/2217739100.py\u001b[0m in \u001b[0;36m<module>\u001b[0;34m\u001b[0m\n\u001b[1;32m     20\u001b[0m \u001b[0mprint\u001b[0m\u001b[0;34m(\u001b[0m\u001b[0;34mf\"75-й перцентиль (Q3): {Q3}\"\u001b[0m\u001b[0;34m)\u001b[0m\u001b[0;34m\u001b[0m\u001b[0;34m\u001b[0m\u001b[0m\n\u001b[1;32m     21\u001b[0m \u001b[0mprint\u001b[0m\u001b[0;34m(\u001b[0m\u001b[0;34mf\"IQR: {IQR}\"\u001b[0m\u001b[0;34m)\u001b[0m\u001b[0;34m\u001b[0m\u001b[0;34m\u001b[0m\u001b[0m\n\u001b[0;32m---> 22\u001b[0;31m \u001b[0mprint\u001b[0m\u001b[0;34m(\u001b[0m\u001b[0;34mf\"Нижняя граница выбросов: {lower} (меньше границы — {lower_pct:.2f}% значений)\"\u001b[0m\u001b[0;34m)\u001b[0m\u001b[0;34m\u001b[0m\u001b[0;34m\u001b[0m\u001b[0m\n\u001b[0m\u001b[1;32m     23\u001b[0m \u001b[0mprint\u001b[0m\u001b[0;34m(\u001b[0m\u001b[0;34mf\"Верхняя граница выбросов: {upper} (больше границы — {upper_pct:.2f}% значений)\"\u001b[0m\u001b[0;34m)\u001b[0m\u001b[0;34m\u001b[0m\u001b[0;34m\u001b[0m\u001b[0m\n",
      "\u001b[0;31mNameError\u001b[0m: name 'lower_pct' is not defined"
     ]
    }
   ],
   "source": [
    "filtered_acquisitions = acq[acq['price_amount'].isin([0, 1])]\n",
    "\n",
    "merged_data = filtered_acquisitions.merge(filtered_companies, left_on='acquired_company_id', right_on='company_id', how='left')\n",
    "filtered = merged_data[merged_data['funding_total'] > 0]\n",
    "\n",
    "Q1 = filtered['funding_total'].quantile(0.25)\n",
    "Q3 = filtered['funding_total'].quantile(0.75)\n",
    "\n",
    "# Межквартильный размах\n",
    "IQR = Q3 - Q1\n",
    "\n",
    "lower = Q1 - 1.5 * IQR\n",
    "upper = Q3 + 1.5 * IQR\n",
    "\n",
    "# 5. Смотрим, каким процентилям они соответствуют\n",
    "lower_data = (filtered['funding_total'] < lower).mean() * 100\n",
    "upper_data = (filtered['funding_total'] > upper).mean() * 100\n",
    "\n",
    "print(f\"25-й перцентиль (Q1): {Q1}\")\n",
    "print(f\"75-й перцентиль (Q3): {Q3}\")\n",
    "print(f\"IQR: {IQR}\")\n",
    "print(f\"Нижняя граница выбросов: {lower} (меньше границы — {lower_pct:.2f}% значений)\")\n",
    "print(f\"Верхняя граница выбросов: {upper} (больше границы — {upper_pct:.2f}% значений)\")"
   ]
  },
  {
   "cell_type": "markdown",
   "metadata": {
    "id": "9IDTHfYQFhuX"
   },
   "source": [
    "Типичным объёмом привлечённых средств можно считать диапазон от 2 млн до 15.5 млн долл. Свыше 35.75 млн долл. - выбросы, однако около 9.09% компаний попали выше этой границы. Нижняя граница отрицательна и выбросов вниз нет. "
   ]
  },
  {
   "cell_type": "markdown",
   "metadata": {
    "id": "mEiWpROjrJg2"
   },
   "source": [
    "\n",
    "### 3.4. Цены стартапов по категориям\n",
    "\n",
    "Категории стартапов с типично высокими ценами покупки стартапов и значительным разбросом цен могут быть привлекательными для крупных инвесторов, которые готовы к высоким рискам ради потенциально больших доходов. Среди категорий стартапов выделите категории стартапов, характеризующиеся:\n",
    "\n",
    "- типично высокими ценами;\n",
    "- и наибольшим разбросом цен за стартап.\n",
    "\n",
    "Объясните, почему решили составить топ именно из такого числа категорий и почему рассчитывали именно так."
   ]
  },
  {
   "cell_type": "code",
   "execution_count": null,
   "metadata": {
    "id": "jQ09dYUWrJg2",
    "vscode": {
     "languageId": "plaintext"
    }
   },
   "outputs": [],
   "source": [
    "merged = acq.merge(company, left_on='acquired_company_id', right_on='company_id')\n",
    "\n",
    "merged = merged[merged['price_amount'].notnull()]\n",
    "\n",
    "grouped = merged.groupby('category_code')['price_amount'].agg(['median', 'std', 'count']).reset_index()\n",
    "\n",
    "grouped = grouped[grouped['count'] > 10]\n",
    "\n",
    "top_categories = grouped.sort_values(by=['median', 'std'], ascending=[False, False]).head(5)\n",
    "\n",
    "print(top_categories)"
   ]
  },
  {
   "cell_type": "markdown",
   "metadata": {
    "id": "eF1aULm5FjfY"
   },
   "source": [
    "По заданию заказчика необходимо было определить категории стартапов с типично высокими ценами сделок и высокими рисками.\n",
    "\n",
    "Для оценки типичного уровня использовали медиану, а для оценки риска — стандартное отклонение. Учитывались только категории с более чем 10 сделками, чтобы обеспечить достаточную статистическую основу.\n",
    "\n",
    "Был выделен топ-5, так как именно они лучше всего соответствуют критериям заказчика — высокий средний уровень и значительная волатильность, что делает их интересными для инвесторов, готовых к риску.\n",
    "\n",
    "Выводы по полученным данным:\n",
    "\n",
    "1. Наибольшими типичными ценами покупки (медиана 40 млн) и одновременно значительным разбросом цен выделяются категории manufacturing и photo_video. Это делает их потенциально привлекательными для крупных инвесторов, готовых к риску ради высокой доходности. \n",
    "2. Категория biotech показывает чуть меньшую медианную цену (17.6 млн), но имеет наибольший разброс цен (стандартное отклонение более 1.3 млрд), что указывает на крайне высокую волатильность в этой сфере.\n",
    "3. Hospitality и finance демонстрируют меньшие медианы, но сохраняют высокий разброс, что может говорить о наличии отдельных крайне дорогих сделок на фоне умеренного уровня."
   ]
  },
  {
   "cell_type": "markdown",
   "metadata": {
    "id": "ADOfyVY_rJg3"
   },
   "source": [
    "\n",
    "### 3.5. Сколько раундов продержится стартап перед покупкой\n",
    "\n",
    "- Необходимо проанализировать столбец `funding_rounds`. Исследуйте значения столбца. Заказчика интересует типичное значение количества раундов для каждого возможного статуса стартапа.\n",
    "- Постройте график, который отображает, сколько в среднем раундов финансирования проходило для стартапов из каждой группы. Сделайте выводы."
   ]
  },
  {
   "cell_type": "code",
   "execution_count": null,
   "metadata": {
    "id": "hgXMPC4WrJg3",
    "vscode": {
     "languageId": "plaintext"
    }
   },
   "outputs": [],
   "source": [
    "rounds_filter = company[['status', 'funding_rounds']].dropna()\n",
    "\n",
    "avg_rounds = rounds_filter.groupby('status')['funding_rounds'].mean().reset_index()\n",
    "\n",
    "plt.figure(figsize=(8, 5))\n",
    "sns.barplot(data=avg_rounds, x='status', y='funding_rounds', color ='#4682B4')\n",
    "plt.title('Среднее кол-во раундов финансирования в разрезе статуса стартапа')\n",
    "plt.ylabel('Среднее количество раундов')\n",
    "plt.xlabel('Статус стартапа')\n",
    "plt.xticks(rotation=45)\n",
    "plt.tight_layout()\n",
    "plt.show()"
   ]
  },
  {
   "cell_type": "markdown",
   "metadata": {
    "id": "pV3e7kw5Fj1Y"
   },
   "source": [
    "1. Наибольшее кол-во раундов у стартапов в статусе IPO - выход на биржу. Это предполагает наличие зрелой бизнес-модели, выручки, масштаба, что требует финансирования и побуждает стартапы проходить очередные раунды для получения средств. \n",
    "2. У закрывшихся (closed) компаний средний показатель ниже (≈ 1.6), что может говорить, либо о попытках привлечь средства перед закрытием, либо о позднем обращении за финансированием для поддержания компании \"на плаву\".\n",
    "3. У поглощённых (acquired) стартапов ещё меньше раундов (≈ 1.2), поскольку часто их покупают раньше, чем компания пройдет большое кол-во инвестиционных циклов.\n",
    "4. Действующие стартапы прошли наименьшее кол-во раундов. У нас нет информации относительно того, насколько зрелыми они являются, но, вероятно, многие из них на ранней стадии и готовятся к следующим подачам на финансирование. "
   ]
  },
  {
   "cell_type": "markdown",
   "metadata": {
    "id": "VAFEZ2HBrJg3"
   },
   "source": [
    "\n",
    "## Шаг 4. Итоговый вывод и рекомендации\n",
    "\n",
    "В ходе анализа были исследованы семь датасетов (два из которых вспомогательны) с исторической информацией о стартапах. Основное внимание было уделено датасету `company` с данными о компаниях и финансировании. Датасет содержали до обработки около 220 тыс. строк и 22 столбца.\n",
    "\n",
    "Проделанная работа:\n",
    "\n",
    "- изучено содержимое всех датасетов (кол-во строк, столбцов, типы данных)\n",
    "- данные нормализованы и преобразованы в более удобные для работы форматы\n",
    "- выявлены пропуски, данные очищены от явных и неявных дубликатов (где это было необходимо) \n",
    "- выявлена динамика сумм финансирования по годам, оценено наличие сведений об образовании сотрудников, рассмотрен столбец `network_username` как потенциальный ключ для объединения датасетов\n",
    "- данные в датасете `company_and_rounds.csv` приведены к удобным вариациям: на их основе создана таблица с приоритетными данными для заказчика \\ таблица резделена на две логические сущности (companies и rounds) \n",
    "- из датасета company_and_rounds.csv получено около 40 000 компаний, потенциально интересных заказчику \n",
    "- проведен анализ компаний, получивших финансирование, но проданных за 0 или 1 долл.\n",
    "- выделены топ-5 категорий стартапов с высокими ценами и рисками\n",
    "- рассчитано среднее колв-о раундов в разрезе статуса компании"
   ]
  },
  {
   "cell_type": "markdown",
   "metadata": {},
   "source": [
    "**Общие выводы**:\n",
    "\n",
    "1. Типичный объём привлечённого финансирования — 600 тыс, но разброс огромен: почти 10% компаний получили свыше 35 млн. Среднее значение (10 млн) некорректно отражает реальность из-за выбросов, нужно быть аккуратными с оценкой финансовых данных. \n",
    "\n",
    "2. Наиболее привлекательные для риск-ориентированных инвесторов категории — промышленность, сфера видео и фото и биотех: у них одновременно высокая медианная цена покупки и значительная волатильность.\n",
    "\n",
    "3. Чем выше статус стартапа, тем больше раундов финансирования он прошёл. IPO-компании — самые зрелые, действующие стартапы часто находятся на ранней стадии.\n",
    "\n",
    "4. Обнаружены сделки с продажей за 0 и 1 долл. при полученном финансирования — их немного, но они указывают на необходимость учитывать нестандартные сценарии.\n",
    "\n",
    "Данные пригодны для разработки модели оценки стартапов. Они дают представление о стадиях развития, рыночных нишах и финансах. Для жизнеспособной бизнес-модели, вероятно, потребуется привлечение дополнительных данных для более детального анализа финансирования.\n",
    "\n",
    "**Рекомендации для заказчика**:\n",
    "\n",
    "1. Для построения устойчивой модели необходимы дополнительные параметры: выручка, статус компании (более детальный), продуктовая стадия, причины. Сейчас их нет, и это ограничивает надёжность оценки и выводы. \n",
    "\n",
    "2. Детально изучить аномалии продаж за 0 и 1 долл: стоит уточнить, не связаны ли они с банкротствами, внутренними сделками или юридическими сложностями.\n",
    "\n",
    "3. Уточнить данные по сделкам: причины аномалий (технический/ человеческий фактор), причины перекоса распределений (почему для одних стартапов были заключены дорогие сделки, для множества других - малые). "
   ]
  }
 ],
 "metadata": {
  "ExecuteTimeLog": [
   {
    "duration": 51,
    "start_time": "2025-07-08T18:33:59.379Z"
   },
   {
    "duration": 503,
    "start_time": "2025-07-08T18:34:13.467Z"
   },
   {
    "duration": 4491,
    "start_time": "2025-07-08T18:35:33.711Z"
   },
   {
    "duration": 97,
    "start_time": "2025-07-08T18:36:14.549Z"
   },
   {
    "duration": 36,
    "start_time": "2025-07-08T18:36:30.159Z"
   },
   {
    "duration": 1121,
    "start_time": "2025-07-08T18:36:46.619Z"
   },
   {
    "duration": 1175,
    "start_time": "2025-07-08T18:37:03.348Z"
   },
   {
    "duration": 1157,
    "start_time": "2025-07-08T18:37:12.023Z"
   },
   {
    "duration": 1251,
    "start_time": "2025-07-08T18:37:32.675Z"
   },
   {
    "duration": 39,
    "start_time": "2025-07-08T18:38:02.251Z"
   },
   {
    "duration": 757,
    "start_time": "2025-07-08T18:39:17.462Z"
   },
   {
    "duration": 243,
    "start_time": "2025-07-08T18:39:58.010Z"
   },
   {
    "duration": 109,
    "start_time": "2025-07-08T18:47:29.412Z"
   },
   {
    "duration": 134,
    "start_time": "2025-07-08T18:47:52.657Z"
   },
   {
    "duration": 48,
    "start_time": "2025-07-08T19:12:03.765Z"
   },
   {
    "duration": 42,
    "start_time": "2025-07-08T19:12:17.116Z"
   },
   {
    "duration": 3,
    "start_time": "2025-07-08T19:16:14.786Z"
   },
   {
    "duration": 730,
    "start_time": "2025-07-08T19:28:04.442Z"
   },
   {
    "duration": 102,
    "start_time": "2025-07-08T19:29:01.723Z"
   },
   {
    "duration": 96,
    "start_time": "2025-07-08T19:35:56.923Z"
   },
   {
    "duration": 50,
    "start_time": "2025-07-09T18:19:53.393Z"
   },
   {
    "duration": 6,
    "start_time": "2025-07-09T18:24:02.373Z"
   },
   {
    "duration": 1324,
    "start_time": "2025-07-09T18:24:14.486Z"
   },
   {
    "duration": 40,
    "start_time": "2025-07-09T18:24:15.812Z"
   },
   {
    "duration": 795,
    "start_time": "2025-07-09T18:24:15.854Z"
   },
   {
    "duration": 4,
    "start_time": "2025-07-09T18:24:16.650Z"
   },
   {
    "duration": 250,
    "start_time": "2025-07-09T18:24:16.672Z"
   },
   {
    "duration": 115,
    "start_time": "2025-07-09T18:24:16.923Z"
   },
   {
    "duration": 139,
    "start_time": "2025-07-09T18:24:17.040Z"
   },
   {
    "duration": 50,
    "start_time": "2025-07-09T18:24:17.181Z"
   },
   {
    "duration": 45,
    "start_time": "2025-07-09T18:24:17.233Z"
   },
   {
    "duration": 4,
    "start_time": "2025-07-09T18:24:29.651Z"
   },
   {
    "duration": 110,
    "start_time": "2025-07-09T18:24:39.835Z"
   },
   {
    "duration": 100,
    "start_time": "2025-07-09T19:05:16.653Z"
   },
   {
    "duration": 127,
    "start_time": "2025-07-09T19:08:43.726Z"
   },
   {
    "duration": 4,
    "start_time": "2025-07-09T19:09:32.182Z"
   },
   {
    "duration": 3,
    "start_time": "2025-07-09T19:16:57.493Z"
   },
   {
    "duration": 9,
    "start_time": "2025-07-09T19:17:06.980Z"
   },
   {
    "duration": 1230,
    "start_time": "2025-07-09T19:17:21.669Z"
   },
   {
    "duration": 41,
    "start_time": "2025-07-09T19:17:22.902Z"
   },
   {
    "duration": 809,
    "start_time": "2025-07-09T19:17:22.945Z"
   },
   {
    "duration": 116,
    "start_time": "2025-07-09T19:17:23.756Z"
   },
   {
    "duration": 0,
    "start_time": "2025-07-09T19:17:23.874Z"
   },
   {
    "duration": 0,
    "start_time": "2025-07-09T19:17:23.875Z"
   },
   {
    "duration": 0,
    "start_time": "2025-07-09T19:17:23.876Z"
   },
   {
    "duration": 0,
    "start_time": "2025-07-09T19:17:23.877Z"
   },
   {
    "duration": 0,
    "start_time": "2025-07-09T19:17:23.878Z"
   },
   {
    "duration": 10,
    "start_time": "2025-07-09T19:17:51.998Z"
   },
   {
    "duration": 2,
    "start_time": "2025-07-09T19:18:18.016Z"
   },
   {
    "duration": 13,
    "start_time": "2025-07-09T19:18:22.056Z"
   },
   {
    "duration": 4,
    "start_time": "2025-07-09T19:18:42.831Z"
   },
   {
    "duration": 12,
    "start_time": "2025-07-09T19:18:44.355Z"
   },
   {
    "duration": 5,
    "start_time": "2025-07-09T19:19:37.353Z"
   },
   {
    "duration": 8,
    "start_time": "2025-07-09T19:19:38.299Z"
   },
   {
    "duration": 10,
    "start_time": "2025-07-09T19:20:37.833Z"
   },
   {
    "duration": 3,
    "start_time": "2025-07-09T19:21:17.860Z"
   },
   {
    "duration": 10,
    "start_time": "2025-07-09T19:22:10.171Z"
   },
   {
    "duration": 10,
    "start_time": "2025-07-09T19:23:08.204Z"
   },
   {
    "duration": 8,
    "start_time": "2025-07-09T19:24:43.827Z"
   },
   {
    "duration": 12,
    "start_time": "2025-07-09T19:24:58.635Z"
   },
   {
    "duration": 893,
    "start_time": "2025-07-09T19:25:12.266Z"
   },
   {
    "duration": 1335,
    "start_time": "2025-07-09T19:25:30.650Z"
   },
   {
    "duration": 42,
    "start_time": "2025-07-09T19:25:31.988Z"
   },
   {
    "duration": 973,
    "start_time": "2025-07-09T19:25:32.032Z"
   },
   {
    "duration": 274,
    "start_time": "2025-07-09T19:25:33.007Z"
   },
   {
    "duration": 123,
    "start_time": "2025-07-09T19:25:33.285Z"
   },
   {
    "duration": 151,
    "start_time": "2025-07-09T19:25:33.409Z"
   },
   {
    "duration": 58,
    "start_time": "2025-07-09T19:25:33.562Z"
   },
   {
    "duration": 47,
    "start_time": "2025-07-09T19:25:33.622Z"
   },
   {
    "duration": 110,
    "start_time": "2025-07-09T19:25:52.856Z"
   },
   {
    "duration": 116,
    "start_time": "2025-07-09T19:26:17.223Z"
   },
   {
    "duration": 8,
    "start_time": "2025-07-09T19:26:35.560Z"
   },
   {
    "duration": 8,
    "start_time": "2025-07-09T19:26:45.533Z"
   },
   {
    "duration": 6,
    "start_time": "2025-07-09T19:28:52.306Z"
   },
   {
    "duration": 114,
    "start_time": "2025-07-09T19:29:04.400Z"
   },
   {
    "duration": 4,
    "start_time": "2025-07-09T19:29:21.201Z"
   },
   {
    "duration": 5,
    "start_time": "2025-07-09T19:29:48.651Z"
   },
   {
    "duration": 5,
    "start_time": "2025-07-09T19:34:06.320Z"
   },
   {
    "duration": 6,
    "start_time": "2025-07-09T19:34:42.993Z"
   },
   {
    "duration": 5,
    "start_time": "2025-07-09T19:34:46.744Z"
   },
   {
    "duration": 100,
    "start_time": "2025-07-09T19:34:50.494Z"
   },
   {
    "duration": 5,
    "start_time": "2025-07-09T19:35:49.670Z"
   },
   {
    "duration": 49,
    "start_time": "2025-07-10T09:22:23.953Z"
   },
   {
    "duration": 7,
    "start_time": "2025-07-10T09:22:29.799Z"
   },
   {
    "duration": 1430,
    "start_time": "2025-07-10T09:22:35.969Z"
   },
   {
    "duration": 54,
    "start_time": "2025-07-10T09:22:37.401Z"
   },
   {
    "duration": 852,
    "start_time": "2025-07-10T09:22:37.456Z"
   },
   {
    "duration": 6,
    "start_time": "2025-07-10T09:22:38.310Z"
   },
   {
    "duration": 152,
    "start_time": "2025-07-10T09:22:38.319Z"
   },
   {
    "duration": 278,
    "start_time": "2025-07-10T09:22:38.476Z"
   },
   {
    "duration": 118,
    "start_time": "2025-07-10T09:22:38.755Z"
   },
   {
    "duration": 139,
    "start_time": "2025-07-10T09:22:38.876Z"
   },
   {
    "duration": 52,
    "start_time": "2025-07-10T09:22:39.017Z"
   },
   {
    "duration": 49,
    "start_time": "2025-07-10T09:22:39.071Z"
   },
   {
    "duration": 5,
    "start_time": "2025-07-10T09:22:42.929Z"
   },
   {
    "duration": 108,
    "start_time": "2025-07-10T09:23:47.900Z"
   },
   {
    "duration": 11,
    "start_time": "2025-07-10T09:26:01.123Z"
   },
   {
    "duration": 3,
    "start_time": "2025-07-10T09:27:23.483Z"
   },
   {
    "duration": 103,
    "start_time": "2025-07-10T09:27:32.324Z"
   },
   {
    "duration": 29,
    "start_time": "2025-07-10T09:27:35.864Z"
   },
   {
    "duration": 2,
    "start_time": "2025-07-10T12:14:08.543Z"
   },
   {
    "duration": 1251,
    "start_time": "2025-07-10T12:14:18.670Z"
   },
   {
    "duration": 40,
    "start_time": "2025-07-10T12:14:19.923Z"
   },
   {
    "duration": 831,
    "start_time": "2025-07-10T12:14:19.965Z"
   },
   {
    "duration": 4,
    "start_time": "2025-07-10T12:14:20.798Z"
   },
   {
    "duration": 129,
    "start_time": "2025-07-10T12:14:20.804Z"
   },
   {
    "duration": 330,
    "start_time": "2025-07-10T12:14:20.935Z"
   },
   {
    "duration": 113,
    "start_time": "2025-07-10T12:14:21.267Z"
   },
   {
    "duration": 5,
    "start_time": "2025-07-10T12:14:21.382Z"
   },
   {
    "duration": 236,
    "start_time": "2025-07-10T12:14:21.389Z"
   },
   {
    "duration": 53,
    "start_time": "2025-07-10T12:14:21.627Z"
   },
   {
    "duration": 49,
    "start_time": "2025-07-10T12:14:21.682Z"
   },
   {
    "duration": 3,
    "start_time": "2025-07-10T12:14:28.245Z"
   },
   {
    "duration": 105,
    "start_time": "2025-07-10T12:14:39.041Z"
   },
   {
    "duration": 3,
    "start_time": "2025-07-10T12:14:44.456Z"
   },
   {
    "duration": 12,
    "start_time": "2025-07-10T12:15:46.373Z"
   },
   {
    "duration": 98,
    "start_time": "2025-07-10T12:15:48.544Z"
   },
   {
    "duration": 5,
    "start_time": "2025-07-10T12:16:17.726Z"
   },
   {
    "duration": 5,
    "start_time": "2025-07-10T12:16:25.909Z"
   },
   {
    "duration": 5,
    "start_time": "2025-07-10T12:16:40.570Z"
   },
   {
    "duration": 5,
    "start_time": "2025-07-10T12:16:43.827Z"
   },
   {
    "duration": 5,
    "start_time": "2025-07-10T12:16:50.812Z"
   },
   {
    "duration": 5,
    "start_time": "2025-07-10T12:16:53.322Z"
   },
   {
    "duration": 5,
    "start_time": "2025-07-10T12:17:07.427Z"
   },
   {
    "duration": 5,
    "start_time": "2025-07-10T12:17:11.607Z"
   },
   {
    "duration": 1253,
    "start_time": "2025-07-10T12:17:18.835Z"
   },
   {
    "duration": 41,
    "start_time": "2025-07-10T12:17:20.090Z"
   },
   {
    "duration": 852,
    "start_time": "2025-07-10T12:17:20.132Z"
   },
   {
    "duration": 4,
    "start_time": "2025-07-10T12:17:20.986Z"
   },
   {
    "duration": 282,
    "start_time": "2025-07-10T12:17:20.992Z"
   },
   {
    "duration": 114,
    "start_time": "2025-07-10T12:17:21.276Z"
   },
   {
    "duration": 4,
    "start_time": "2025-07-10T12:17:21.392Z"
   },
   {
    "duration": 167,
    "start_time": "2025-07-10T12:17:21.397Z"
   },
   {
    "duration": 50,
    "start_time": "2025-07-10T12:17:21.565Z"
   },
   {
    "duration": 47,
    "start_time": "2025-07-10T12:17:21.617Z"
   },
   {
    "duration": 5,
    "start_time": "2025-07-10T12:17:33.746Z"
   },
   {
    "duration": 96,
    "start_time": "2025-07-10T12:18:29.624Z"
   },
   {
    "duration": 90,
    "start_time": "2025-07-10T12:39:18.257Z"
   },
   {
    "duration": 49,
    "start_time": "2025-07-10T19:18:05.851Z"
   },
   {
    "duration": 1427,
    "start_time": "2025-07-10T19:18:28.586Z"
   },
   {
    "duration": 43,
    "start_time": "2025-07-10T19:18:30.015Z"
   },
   {
    "duration": 817,
    "start_time": "2025-07-10T19:18:30.060Z"
   },
   {
    "duration": 5,
    "start_time": "2025-07-10T19:18:30.880Z"
   },
   {
    "duration": 266,
    "start_time": "2025-07-10T19:18:30.888Z"
   },
   {
    "duration": 113,
    "start_time": "2025-07-10T19:18:31.159Z"
   },
   {
    "duration": 6,
    "start_time": "2025-07-10T19:18:31.274Z"
   },
   {
    "duration": 144,
    "start_time": "2025-07-10T19:18:31.282Z"
   },
   {
    "duration": 50,
    "start_time": "2025-07-10T19:18:31.427Z"
   },
   {
    "duration": 48,
    "start_time": "2025-07-10T19:18:31.479Z"
   },
   {
    "duration": 12,
    "start_time": "2025-07-10T19:18:31.528Z"
   },
   {
    "duration": 10,
    "start_time": "2025-07-10T19:18:53.024Z"
   },
   {
    "duration": 102,
    "start_time": "2025-07-10T19:20:42.874Z"
   },
   {
    "duration": 5,
    "start_time": "2025-07-10T19:22:00.677Z"
   },
   {
    "duration": 10,
    "start_time": "2025-07-10T19:24:35.015Z"
   },
   {
    "duration": 10,
    "start_time": "2025-07-10T19:24:44.871Z"
   },
   {
    "duration": 8,
    "start_time": "2025-07-10T19:25:03.914Z"
   },
   {
    "duration": 4,
    "start_time": "2025-07-10T19:25:16.362Z"
   },
   {
    "duration": 11,
    "start_time": "2025-07-10T19:25:24.625Z"
   },
   {
    "duration": 8,
    "start_time": "2025-07-10T19:25:30.712Z"
   },
   {
    "duration": 11,
    "start_time": "2025-07-10T19:25:38.790Z"
   },
   {
    "duration": 5,
    "start_time": "2025-07-10T19:25:52.013Z"
   },
   {
    "duration": 14,
    "start_time": "2025-07-10T19:28:11.091Z"
   },
   {
    "duration": 6,
    "start_time": "2025-07-10T19:28:12.596Z"
   },
   {
    "duration": 9,
    "start_time": "2025-07-10T19:28:25.063Z"
   },
   {
    "duration": 1245,
    "start_time": "2025-07-10T19:28:34.048Z"
   },
   {
    "duration": 44,
    "start_time": "2025-07-10T19:28:35.295Z"
   },
   {
    "duration": 837,
    "start_time": "2025-07-10T19:28:35.341Z"
   },
   {
    "duration": 5,
    "start_time": "2025-07-10T19:28:36.179Z"
   },
   {
    "duration": 275,
    "start_time": "2025-07-10T19:28:36.186Z"
   },
   {
    "duration": 118,
    "start_time": "2025-07-10T19:28:36.463Z"
   },
   {
    "duration": 22,
    "start_time": "2025-07-10T19:28:36.583Z"
   },
   {
    "duration": 143,
    "start_time": "2025-07-10T19:28:36.607Z"
   },
   {
    "duration": 53,
    "start_time": "2025-07-10T19:28:36.751Z"
   },
   {
    "duration": 49,
    "start_time": "2025-07-10T19:28:36.806Z"
   },
   {
    "duration": 12,
    "start_time": "2025-07-10T19:28:36.860Z"
   },
   {
    "duration": 230,
    "start_time": "2025-07-10T19:28:36.873Z"
   },
   {
    "duration": 0,
    "start_time": "2025-07-10T19:28:37.104Z"
   },
   {
    "duration": 0,
    "start_time": "2025-07-10T19:28:37.106Z"
   },
   {
    "duration": 8,
    "start_time": "2025-07-10T19:29:57.209Z"
   },
   {
    "duration": 6,
    "start_time": "2025-07-10T19:29:59.505Z"
   },
   {
    "duration": 9,
    "start_time": "2025-07-10T19:30:01.098Z"
   },
   {
    "duration": 6,
    "start_time": "2025-07-10T19:30:24.826Z"
   },
   {
    "duration": 13,
    "start_time": "2025-07-10T19:30:32.173Z"
   },
   {
    "duration": 18,
    "start_time": "2025-07-10T19:30:52.561Z"
   },
   {
    "duration": 5,
    "start_time": "2025-07-10T19:32:40.078Z"
   },
   {
    "duration": 12,
    "start_time": "2025-07-10T19:32:50.262Z"
   },
   {
    "duration": 1219,
    "start_time": "2025-07-10T19:32:57.366Z"
   },
   {
    "duration": 41,
    "start_time": "2025-07-10T19:32:58.587Z"
   },
   {
    "duration": 806,
    "start_time": "2025-07-10T19:32:58.629Z"
   },
   {
    "duration": 5,
    "start_time": "2025-07-10T19:32:59.437Z"
   },
   {
    "duration": 251,
    "start_time": "2025-07-10T19:32:59.444Z"
   },
   {
    "duration": 110,
    "start_time": "2025-07-10T19:32:59.696Z"
   },
   {
    "duration": 3,
    "start_time": "2025-07-10T19:32:59.808Z"
   },
   {
    "duration": 136,
    "start_time": "2025-07-10T19:32:59.813Z"
   },
   {
    "duration": 47,
    "start_time": "2025-07-10T19:32:59.951Z"
   },
   {
    "duration": 49,
    "start_time": "2025-07-10T19:33:00.000Z"
   },
   {
    "duration": 32,
    "start_time": "2025-07-10T19:33:00.051Z"
   },
   {
    "duration": 16,
    "start_time": "2025-07-10T19:33:00.084Z"
   },
   {
    "duration": 35,
    "start_time": "2025-07-10T19:33:00.102Z"
   },
   {
    "duration": 99,
    "start_time": "2025-07-10T19:33:22.408Z"
   },
   {
    "duration": 101,
    "start_time": "2025-07-10T19:35:25.504Z"
   },
   {
    "duration": 12,
    "start_time": "2025-07-10T19:35:57.059Z"
   },
   {
    "duration": 15,
    "start_time": "2025-07-10T19:36:28.357Z"
   },
   {
    "duration": 10,
    "start_time": "2025-07-10T19:38:27.986Z"
   },
   {
    "duration": 5,
    "start_time": "2025-07-10T19:38:42.948Z"
   },
   {
    "duration": 5,
    "start_time": "2025-07-10T19:38:49.590Z"
   },
   {
    "duration": 1234,
    "start_time": "2025-07-10T19:38:58.757Z"
   },
   {
    "duration": 44,
    "start_time": "2025-07-10T19:38:59.993Z"
   },
   {
    "duration": 873,
    "start_time": "2025-07-10T19:39:00.039Z"
   },
   {
    "duration": 5,
    "start_time": "2025-07-10T19:39:00.914Z"
   },
   {
    "duration": 59,
    "start_time": "2025-07-10T19:39:00.921Z"
   },
   {
    "duration": 266,
    "start_time": "2025-07-10T19:39:00.982Z"
   },
   {
    "duration": 122,
    "start_time": "2025-07-10T19:39:01.250Z"
   },
   {
    "duration": 4,
    "start_time": "2025-07-10T19:39:01.374Z"
   },
   {
    "duration": 168,
    "start_time": "2025-07-10T19:39:01.380Z"
   },
   {
    "duration": 53,
    "start_time": "2025-07-10T19:39:01.550Z"
   },
   {
    "duration": 49,
    "start_time": "2025-07-10T19:39:01.604Z"
   },
   {
    "duration": 11,
    "start_time": "2025-07-10T19:39:01.656Z"
   },
   {
    "duration": 142,
    "start_time": "2025-07-10T19:39:01.670Z"
   },
   {
    "duration": 1785,
    "start_time": "2025-07-10T19:39:01.815Z"
   },
   {
    "duration": 1684,
    "start_time": "2025-07-10T19:41:54.696Z"
   },
   {
    "duration": 15,
    "start_time": "2025-07-10T19:42:12.625Z"
   },
   {
    "duration": 4,
    "start_time": "2025-07-10T19:43:39.448Z"
   },
   {
    "duration": 6,
    "start_time": "2025-07-10T19:44:08.965Z"
   },
   {
    "duration": 14,
    "start_time": "2025-07-10T19:46:38.671Z"
   },
   {
    "duration": 15,
    "start_time": "2025-07-10T19:47:24.764Z"
   },
   {
    "duration": 53,
    "start_time": "2025-07-13T09:36:48.591Z"
   },
   {
    "duration": 11,
    "start_time": "2025-07-13T09:36:56.755Z"
   },
   {
    "duration": 12,
    "start_time": "2025-07-13T09:37:48.970Z"
   },
   {
    "duration": 8,
    "start_time": "2025-07-13T09:38:05.571Z"
   },
   {
    "duration": 1508,
    "start_time": "2025-07-13T09:38:17.897Z"
   },
   {
    "duration": 45,
    "start_time": "2025-07-13T09:38:19.408Z"
   },
   {
    "duration": 923,
    "start_time": "2025-07-13T09:38:19.455Z"
   },
   {
    "duration": 4,
    "start_time": "2025-07-13T09:38:20.380Z"
   },
   {
    "duration": 6,
    "start_time": "2025-07-13T09:38:20.386Z"
   },
   {
    "duration": 283,
    "start_time": "2025-07-13T09:38:20.394Z"
   },
   {
    "duration": 125,
    "start_time": "2025-07-13T09:38:20.679Z"
   },
   {
    "duration": 4,
    "start_time": "2025-07-13T09:38:20.806Z"
   },
   {
    "duration": 205,
    "start_time": "2025-07-13T09:38:20.811Z"
   },
   {
    "duration": 52,
    "start_time": "2025-07-13T09:38:21.017Z"
   },
   {
    "duration": 51,
    "start_time": "2025-07-13T09:38:21.071Z"
   },
   {
    "duration": 241,
    "start_time": "2025-07-13T09:38:21.123Z"
   },
   {
    "duration": 56,
    "start_time": "2025-07-13T09:38:29.280Z"
   },
   {
    "duration": 100,
    "start_time": "2025-07-13T09:38:48.045Z"
   },
   {
    "duration": 95,
    "start_time": "2025-07-13T09:39:15.966Z"
   },
   {
    "duration": 160,
    "start_time": "2025-07-13T09:41:18.278Z"
   },
   {
    "duration": 60,
    "start_time": "2025-07-13T09:41:24.669Z"
   },
   {
    "duration": 126,
    "start_time": "2025-07-13T09:41:29.394Z"
   },
   {
    "duration": 28,
    "start_time": "2025-07-13T09:41:51.973Z"
   },
   {
    "duration": 20,
    "start_time": "2025-07-13T09:46:16.516Z"
   },
   {
    "duration": 29,
    "start_time": "2025-07-13T09:47:30.229Z"
   },
   {
    "duration": 26,
    "start_time": "2025-07-13T09:47:56.847Z"
   },
   {
    "duration": 70,
    "start_time": "2025-07-13T09:50:39.817Z"
   },
   {
    "duration": 83,
    "start_time": "2025-07-13T09:50:54.802Z"
   },
   {
    "duration": 29,
    "start_time": "2025-07-13T09:52:17.986Z"
   },
   {
    "duration": 1739,
    "start_time": "2025-07-13T09:53:35.889Z"
   },
   {
    "duration": 84,
    "start_time": "2025-07-13T09:53:37.867Z"
   },
   {
    "duration": 21,
    "start_time": "2025-07-13T09:53:57.627Z"
   },
   {
    "duration": 135,
    "start_time": "2025-07-13T09:54:18.859Z"
   },
   {
    "duration": 86,
    "start_time": "2025-07-13T09:54:20.681Z"
   },
   {
    "duration": 45,
    "start_time": "2025-07-13T09:55:37.617Z"
   },
   {
    "duration": 25,
    "start_time": "2025-07-13T09:55:40.108Z"
   },
   {
    "duration": 81,
    "start_time": "2025-07-13T09:55:41.651Z"
   },
   {
    "duration": 115,
    "start_time": "2025-07-13T09:57:45.432Z"
   },
   {
    "duration": 70,
    "start_time": "2025-07-13T09:57:46.184Z"
   },
   {
    "duration": 17,
    "start_time": "2025-07-13T09:58:15.617Z"
   },
   {
    "duration": 66,
    "start_time": "2025-07-13T09:58:16.877Z"
   },
   {
    "duration": 5,
    "start_time": "2025-07-13T10:01:55.633Z"
   },
   {
    "duration": 7,
    "start_time": "2025-07-13T10:02:16.066Z"
   },
   {
    "duration": 6,
    "start_time": "2025-07-13T10:03:04.786Z"
   },
   {
    "duration": 11,
    "start_time": "2025-07-13T10:04:34.257Z"
   },
   {
    "duration": 54,
    "start_time": "2025-07-13T10:04:40.512Z"
   },
   {
    "duration": 13,
    "start_time": "2025-07-13T10:05:19.692Z"
   },
   {
    "duration": 10,
    "start_time": "2025-07-13T10:05:46.371Z"
   },
   {
    "duration": 9,
    "start_time": "2025-07-13T10:05:55.251Z"
   },
   {
    "duration": 9,
    "start_time": "2025-07-13T10:06:00.691Z"
   },
   {
    "duration": 19,
    "start_time": "2025-07-13T10:06:09.379Z"
   },
   {
    "duration": 4,
    "start_time": "2025-07-13T10:06:56.568Z"
   },
   {
    "duration": 24,
    "start_time": "2025-07-13T10:07:28.809Z"
   },
   {
    "duration": 11,
    "start_time": "2025-07-13T10:07:51.113Z"
   },
   {
    "duration": 9,
    "start_time": "2025-07-13T10:09:39.444Z"
   },
   {
    "duration": 9,
    "start_time": "2025-07-13T10:10:08.467Z"
   },
   {
    "duration": 1422,
    "start_time": "2025-07-13T10:26:14.809Z"
   },
   {
    "duration": 45,
    "start_time": "2025-07-13T10:26:16.234Z"
   },
   {
    "duration": 59,
    "start_time": "2025-07-13T10:26:16.282Z"
   },
   {
    "duration": 23,
    "start_time": "2025-07-13T10:26:16.343Z"
   },
   {
    "duration": 14,
    "start_time": "2025-07-13T10:26:16.368Z"
   },
   {
    "duration": 1045,
    "start_time": "2025-07-13T10:26:16.384Z"
   },
   {
    "duration": 5,
    "start_time": "2025-07-13T10:26:17.431Z"
   },
   {
    "duration": 281,
    "start_time": "2025-07-13T10:26:17.437Z"
   },
   {
    "duration": 160,
    "start_time": "2025-07-13T10:26:17.722Z"
   },
   {
    "duration": 4,
    "start_time": "2025-07-13T10:26:17.885Z"
   },
   {
    "duration": 196,
    "start_time": "2025-07-13T10:26:17.891Z"
   },
   {
    "duration": 57,
    "start_time": "2025-07-13T10:26:18.089Z"
   },
   {
    "duration": 53,
    "start_time": "2025-07-13T10:26:18.148Z"
   },
   {
    "duration": 59,
    "start_time": "2025-07-13T10:26:18.204Z"
   },
   {
    "duration": 228,
    "start_time": "2025-07-13T10:26:18.265Z"
   },
   {
    "duration": 166,
    "start_time": "2025-07-13T10:26:18.495Z"
   },
   {
    "duration": 65,
    "start_time": "2025-07-13T10:26:18.662Z"
   },
   {
    "duration": 53,
    "start_time": "2025-07-13T10:26:18.729Z"
   },
   {
    "duration": 1823,
    "start_time": "2025-07-13T10:29:03.827Z"
   },
   {
    "duration": 9,
    "start_time": "2025-07-13T10:29:11.112Z"
   },
   {
    "duration": 11,
    "start_time": "2025-07-13T10:31:27.277Z"
   },
   {
    "duration": 16,
    "start_time": "2025-07-13T10:31:52.013Z"
   },
   {
    "duration": 14,
    "start_time": "2025-07-13T10:32:40.090Z"
   },
   {
    "duration": 17,
    "start_time": "2025-07-13T10:32:58.662Z"
   },
   {
    "duration": 12,
    "start_time": "2025-07-13T10:33:02.434Z"
   },
   {
    "duration": 11,
    "start_time": "2025-07-13T10:33:24.647Z"
   },
   {
    "duration": 187,
    "start_time": "2025-07-13T10:37:04.743Z"
   },
   {
    "duration": 1308,
    "start_time": "2025-07-13T10:37:32.666Z"
   },
   {
    "duration": 44,
    "start_time": "2025-07-13T10:37:33.977Z"
   },
   {
    "duration": 67,
    "start_time": "2025-07-13T10:37:34.023Z"
   },
   {
    "duration": 9,
    "start_time": "2025-07-13T10:37:34.092Z"
   },
   {
    "duration": 21,
    "start_time": "2025-07-13T10:37:34.104Z"
   },
   {
    "duration": 927,
    "start_time": "2025-07-13T10:37:34.127Z"
   },
   {
    "duration": 252,
    "start_time": "2025-07-13T10:37:35.062Z"
   },
   {
    "duration": 5,
    "start_time": "2025-07-13T10:37:35.317Z"
   },
   {
    "duration": 324,
    "start_time": "2025-07-13T10:37:35.324Z"
   },
   {
    "duration": 160,
    "start_time": "2025-07-13T10:37:35.650Z"
   },
   {
    "duration": 6,
    "start_time": "2025-07-13T10:37:35.813Z"
   },
   {
    "duration": 186,
    "start_time": "2025-07-13T10:37:35.822Z"
   },
   {
    "duration": 57,
    "start_time": "2025-07-13T10:37:36.010Z"
   },
   {
    "duration": 48,
    "start_time": "2025-07-13T10:37:36.070Z"
   },
   {
    "duration": 45,
    "start_time": "2025-07-13T10:37:36.120Z"
   },
   {
    "duration": 201,
    "start_time": "2025-07-13T10:37:36.167Z"
   },
   {
    "duration": 156,
    "start_time": "2025-07-13T10:37:36.370Z"
   },
   {
    "duration": 75,
    "start_time": "2025-07-13T10:37:36.528Z"
   },
   {
    "duration": 30,
    "start_time": "2025-07-13T10:37:36.605Z"
   },
   {
    "duration": 20,
    "start_time": "2025-07-13T10:38:07.099Z"
   },
   {
    "duration": 148,
    "start_time": "2025-07-13T10:38:42.842Z"
   },
   {
    "duration": 86,
    "start_time": "2025-07-13T10:39:22.349Z"
   },
   {
    "duration": 13,
    "start_time": "2025-07-13T10:39:26.393Z"
   },
   {
    "duration": 5,
    "start_time": "2025-07-13T10:39:38.424Z"
   },
   {
    "duration": 1385,
    "start_time": "2025-07-13T10:39:55.661Z"
   },
   {
    "duration": 46,
    "start_time": "2025-07-13T10:39:57.048Z"
   },
   {
    "duration": 109,
    "start_time": "2025-07-13T10:39:57.097Z"
   },
   {
    "duration": 7,
    "start_time": "2025-07-13T10:39:57.209Z"
   },
   {
    "duration": 20,
    "start_time": "2025-07-13T10:39:57.218Z"
   },
   {
    "duration": 930,
    "start_time": "2025-07-13T10:39:57.240Z"
   },
   {
    "duration": 5,
    "start_time": "2025-07-13T10:39:58.171Z"
   },
   {
    "duration": 8,
    "start_time": "2025-07-13T10:39:58.178Z"
   },
   {
    "duration": 309,
    "start_time": "2025-07-13T10:39:58.188Z"
   },
   {
    "duration": 124,
    "start_time": "2025-07-13T10:39:58.500Z"
   },
   {
    "duration": 3,
    "start_time": "2025-07-13T10:39:58.626Z"
   },
   {
    "duration": 219,
    "start_time": "2025-07-13T10:39:58.631Z"
   },
   {
    "duration": 56,
    "start_time": "2025-07-13T10:39:58.852Z"
   },
   {
    "duration": 75,
    "start_time": "2025-07-13T10:39:58.911Z"
   },
   {
    "duration": 139,
    "start_time": "2025-07-13T10:39:58.989Z"
   },
   {
    "duration": 214,
    "start_time": "2025-07-13T10:39:59.130Z"
   },
   {
    "duration": 150,
    "start_time": "2025-07-13T10:39:59.346Z"
   },
   {
    "duration": 71,
    "start_time": "2025-07-13T10:39:59.498Z"
   },
   {
    "duration": 31,
    "start_time": "2025-07-13T10:39:59.571Z"
   },
   {
    "duration": 14,
    "start_time": "2025-07-13T10:42:38.181Z"
   },
   {
    "duration": 80,
    "start_time": "2025-07-13T10:42:54.937Z"
   },
   {
    "duration": 7,
    "start_time": "2025-07-13T10:43:42.005Z"
   },
   {
    "duration": 19,
    "start_time": "2025-07-13T10:43:56.349Z"
   },
   {
    "duration": 23,
    "start_time": "2025-07-13T10:44:34.315Z"
   },
   {
    "duration": 62,
    "start_time": "2025-07-13T11:52:49.893Z"
   },
   {
    "duration": 84,
    "start_time": "2025-07-13T11:54:53.474Z"
   },
   {
    "duration": 175,
    "start_time": "2025-07-13T11:55:53.871Z"
   },
   {
    "duration": 92,
    "start_time": "2025-07-13T11:57:48.310Z"
   },
   {
    "duration": 386,
    "start_time": "2025-07-13T11:59:31.751Z"
   },
   {
    "duration": 60,
    "start_time": "2025-07-13T12:09:22.239Z"
   },
   {
    "duration": 444,
    "start_time": "2025-07-13T12:09:43.995Z"
   },
   {
    "duration": 76,
    "start_time": "2025-07-13T12:10:00.025Z"
   },
   {
    "duration": 10,
    "start_time": "2025-07-13T12:11:00.134Z"
   },
   {
    "duration": 11,
    "start_time": "2025-07-13T12:11:23.988Z"
   },
   {
    "duration": 6,
    "start_time": "2025-07-13T12:12:41.816Z"
   },
   {
    "duration": 5,
    "start_time": "2025-07-13T12:46:42.520Z"
   },
   {
    "duration": 14,
    "start_time": "2025-07-13T13:03:44.958Z"
   },
   {
    "duration": 7,
    "start_time": "2025-07-13T13:03:58.708Z"
   },
   {
    "duration": 198,
    "start_time": "2025-07-13T13:05:55.209Z"
   },
   {
    "duration": 157,
    "start_time": "2025-07-13T13:06:26.639Z"
   },
   {
    "duration": 73,
    "start_time": "2025-07-13T13:12:52.706Z"
   },
   {
    "duration": 12,
    "start_time": "2025-07-13T13:13:53.653Z"
   },
   {
    "duration": 16,
    "start_time": "2025-07-13T13:16:07.411Z"
   },
   {
    "duration": 31,
    "start_time": "2025-07-13T13:16:12.983Z"
   },
   {
    "duration": 61,
    "start_time": "2025-07-13T13:16:21.153Z"
   },
   {
    "duration": 4,
    "start_time": "2025-07-13T13:16:46.922Z"
   },
   {
    "duration": 55,
    "start_time": "2025-07-13T13:16:48.429Z"
   },
   {
    "duration": 7,
    "start_time": "2025-07-13T13:19:55.507Z"
   },
   {
    "duration": 55,
    "start_time": "2025-07-13T13:36:09.937Z"
   },
   {
    "duration": 23,
    "start_time": "2025-07-13T13:51:52.117Z"
   },
   {
    "duration": 15,
    "start_time": "2025-07-13T13:52:07.918Z"
   },
   {
    "duration": 12,
    "start_time": "2025-07-13T13:52:17.047Z"
   },
   {
    "duration": 20,
    "start_time": "2025-07-13T13:53:10.093Z"
   },
   {
    "duration": 63,
    "start_time": "2025-07-13T13:53:41.190Z"
   },
   {
    "duration": 58,
    "start_time": "2025-07-13T13:54:57.495Z"
   },
   {
    "duration": 68,
    "start_time": "2025-07-13T13:56:59.397Z"
   },
   {
    "duration": 1321,
    "start_time": "2025-07-13T13:57:22.429Z"
   },
   {
    "duration": 44,
    "start_time": "2025-07-13T13:57:23.755Z"
   },
   {
    "duration": 61,
    "start_time": "2025-07-13T13:57:23.801Z"
   },
   {
    "duration": 13,
    "start_time": "2025-07-13T13:57:23.864Z"
   },
   {
    "duration": 14,
    "start_time": "2025-07-13T13:57:23.881Z"
   },
   {
    "duration": 938,
    "start_time": "2025-07-13T13:57:23.897Z"
   },
   {
    "duration": 5,
    "start_time": "2025-07-13T13:57:24.837Z"
   },
   {
    "duration": 21,
    "start_time": "2025-07-13T13:57:24.844Z"
   },
   {
    "duration": 204,
    "start_time": "2025-07-13T13:57:24.867Z"
   },
   {
    "duration": 76,
    "start_time": "2025-07-13T13:57:25.073Z"
   },
   {
    "duration": 61,
    "start_time": "2025-07-13T13:57:25.161Z"
   },
   {
    "duration": 448,
    "start_time": "2025-07-13T13:57:25.223Z"
   },
   {
    "duration": 13,
    "start_time": "2025-07-13T13:57:25.673Z"
   },
   {
    "duration": 321,
    "start_time": "2025-07-13T13:57:25.689Z"
   },
   {
    "duration": 6,
    "start_time": "2025-07-13T13:57:26.012Z"
   },
   {
    "duration": 130,
    "start_time": "2025-07-13T13:57:26.020Z"
   },
   {
    "duration": 12,
    "start_time": "2025-07-13T13:57:26.152Z"
   },
   {
    "duration": 277,
    "start_time": "2025-07-13T13:57:26.166Z"
   },
   {
    "duration": 134,
    "start_time": "2025-07-13T13:57:26.445Z"
   },
   {
    "duration": 0,
    "start_time": "2025-07-13T13:57:26.582Z"
   },
   {
    "duration": 0,
    "start_time": "2025-07-13T13:57:26.584Z"
   },
   {
    "duration": 0,
    "start_time": "2025-07-13T13:57:26.586Z"
   },
   {
    "duration": 0,
    "start_time": "2025-07-13T13:57:26.587Z"
   },
   {
    "duration": 0,
    "start_time": "2025-07-13T13:57:26.588Z"
   },
   {
    "duration": 110,
    "start_time": "2025-07-13T13:57:27.946Z"
   },
   {
    "duration": 85,
    "start_time": "2025-07-13T13:57:37.841Z"
   },
   {
    "duration": 66,
    "start_time": "2025-07-13T13:59:26.973Z"
   },
   {
    "duration": 84,
    "start_time": "2025-07-13T13:59:29.628Z"
   },
   {
    "duration": 63,
    "start_time": "2025-07-13T13:59:37.580Z"
   },
   {
    "duration": 1358,
    "start_time": "2025-07-13T13:59:46.432Z"
   },
   {
    "duration": 42,
    "start_time": "2025-07-13T13:59:47.793Z"
   },
   {
    "duration": 74,
    "start_time": "2025-07-13T13:59:47.837Z"
   },
   {
    "duration": 7,
    "start_time": "2025-07-13T13:59:47.913Z"
   },
   {
    "duration": 27,
    "start_time": "2025-07-13T13:59:47.922Z"
   },
   {
    "duration": 1085,
    "start_time": "2025-07-13T13:59:47.951Z"
   },
   {
    "duration": 5,
    "start_time": "2025-07-13T13:59:49.038Z"
   },
   {
    "duration": 6,
    "start_time": "2025-07-13T13:59:49.065Z"
   },
   {
    "duration": 194,
    "start_time": "2025-07-13T13:59:49.073Z"
   },
   {
    "duration": 92,
    "start_time": "2025-07-13T13:59:49.269Z"
   },
   {
    "duration": 65,
    "start_time": "2025-07-13T13:59:49.363Z"
   },
   {
    "duration": 490,
    "start_time": "2025-07-13T13:59:49.430Z"
   },
   {
    "duration": 10,
    "start_time": "2025-07-13T13:59:49.921Z"
   },
   {
    "duration": 291,
    "start_time": "2025-07-13T13:59:49.935Z"
   },
   {
    "duration": 6,
    "start_time": "2025-07-13T13:59:50.228Z"
   },
   {
    "duration": 185,
    "start_time": "2025-07-13T13:59:50.235Z"
   },
   {
    "duration": 3,
    "start_time": "2025-07-13T13:59:50.422Z"
   },
   {
    "duration": 194,
    "start_time": "2025-07-13T13:59:50.427Z"
   },
   {
    "duration": 143,
    "start_time": "2025-07-13T13:59:50.623Z"
   },
   {
    "duration": 1,
    "start_time": "2025-07-13T13:59:50.768Z"
   },
   {
    "duration": 0,
    "start_time": "2025-07-13T13:59:50.770Z"
   },
   {
    "duration": 1,
    "start_time": "2025-07-13T13:59:50.778Z"
   },
   {
    "duration": 0,
    "start_time": "2025-07-13T13:59:50.781Z"
   },
   {
    "duration": 0,
    "start_time": "2025-07-13T13:59:50.783Z"
   },
   {
    "duration": 0,
    "start_time": "2025-07-13T13:59:50.784Z"
   },
   {
    "duration": 26,
    "start_time": "2025-07-13T13:59:58.211Z"
   },
   {
    "duration": 21,
    "start_time": "2025-07-13T14:00:17.400Z"
   },
   {
    "duration": 103,
    "start_time": "2025-07-13T14:00:47.808Z"
   },
   {
    "duration": 68,
    "start_time": "2025-07-13T14:01:18.750Z"
   },
   {
    "duration": 1440,
    "start_time": "2025-07-13T14:01:30.730Z"
   },
   {
    "duration": 45,
    "start_time": "2025-07-13T14:01:32.173Z"
   },
   {
    "duration": 109,
    "start_time": "2025-07-13T14:01:32.220Z"
   },
   {
    "duration": 10,
    "start_time": "2025-07-13T14:01:32.331Z"
   },
   {
    "duration": 35,
    "start_time": "2025-07-13T14:01:32.343Z"
   },
   {
    "duration": 994,
    "start_time": "2025-07-13T14:01:32.381Z"
   },
   {
    "duration": 9,
    "start_time": "2025-07-13T14:01:33.377Z"
   },
   {
    "duration": 12,
    "start_time": "2025-07-13T14:01:33.389Z"
   },
   {
    "duration": 339,
    "start_time": "2025-07-13T14:01:33.403Z"
   },
   {
    "duration": 97,
    "start_time": "2025-07-13T14:01:33.744Z"
   },
   {
    "duration": 78,
    "start_time": "2025-07-13T14:01:33.843Z"
   },
   {
    "duration": 453,
    "start_time": "2025-07-13T14:01:33.923Z"
   },
   {
    "duration": 12,
    "start_time": "2025-07-13T14:01:34.378Z"
   },
   {
    "duration": 311,
    "start_time": "2025-07-13T14:01:34.394Z"
   },
   {
    "duration": 7,
    "start_time": "2025-07-13T14:01:34.706Z"
   },
   {
    "duration": 178,
    "start_time": "2025-07-13T14:01:34.715Z"
   },
   {
    "duration": 5,
    "start_time": "2025-07-13T14:01:34.895Z"
   },
   {
    "duration": 197,
    "start_time": "2025-07-13T14:01:34.902Z"
   },
   {
    "duration": 21,
    "start_time": "2025-07-13T14:01:35.101Z"
   },
   {
    "duration": 73,
    "start_time": "2025-07-13T14:01:35.124Z"
   },
   {
    "duration": 6,
    "start_time": "2025-07-13T14:01:35.199Z"
   },
   {
    "duration": 71,
    "start_time": "2025-07-13T14:01:35.207Z"
   },
   {
    "duration": 176,
    "start_time": "2025-07-13T14:01:35.285Z"
   },
   {
    "duration": 119,
    "start_time": "2025-07-13T14:01:35.466Z"
   },
   {
    "duration": 56,
    "start_time": "2025-07-13T14:01:35.588Z"
   },
   {
    "duration": 50,
    "start_time": "2025-07-13T15:42:04.942Z"
   },
   {
    "duration": 1427,
    "start_time": "2025-07-13T15:42:25.748Z"
   },
   {
    "duration": 43,
    "start_time": "2025-07-13T15:42:27.177Z"
   },
   {
    "duration": 53,
    "start_time": "2025-07-13T15:42:27.222Z"
   },
   {
    "duration": 6,
    "start_time": "2025-07-13T15:42:27.277Z"
   },
   {
    "duration": 13,
    "start_time": "2025-07-13T15:42:27.285Z"
   },
   {
    "duration": 832,
    "start_time": "2025-07-13T15:42:27.300Z"
   },
   {
    "duration": 4,
    "start_time": "2025-07-13T15:42:28.139Z"
   },
   {
    "duration": 10,
    "start_time": "2025-07-13T15:42:28.145Z"
   },
   {
    "duration": 204,
    "start_time": "2025-07-13T15:42:28.156Z"
   },
   {
    "duration": 65,
    "start_time": "2025-07-13T15:42:28.362Z"
   },
   {
    "duration": 60,
    "start_time": "2025-07-13T15:42:28.429Z"
   },
   {
    "duration": 375,
    "start_time": "2025-07-13T15:42:28.491Z"
   },
   {
    "duration": 11,
    "start_time": "2025-07-13T15:42:28.868Z"
   },
   {
    "duration": 264,
    "start_time": "2025-07-13T15:42:28.881Z"
   },
   {
    "duration": 5,
    "start_time": "2025-07-13T15:42:29.147Z"
   },
   {
    "duration": 103,
    "start_time": "2025-07-13T15:42:29.154Z"
   },
   {
    "duration": 3,
    "start_time": "2025-07-13T15:42:29.259Z"
   },
   {
    "duration": 211,
    "start_time": "2025-07-13T15:42:29.263Z"
   },
   {
    "duration": 65,
    "start_time": "2025-07-13T15:42:29.476Z"
   },
   {
    "duration": 86,
    "start_time": "2025-07-13T15:42:29.542Z"
   },
   {
    "duration": 5,
    "start_time": "2025-07-13T15:42:29.630Z"
   },
   {
    "duration": 44,
    "start_time": "2025-07-13T15:42:29.636Z"
   },
   {
    "duration": 150,
    "start_time": "2025-07-13T15:42:29.681Z"
   },
   {
    "duration": 68,
    "start_time": "2025-07-13T15:42:29.833Z"
   },
   {
    "duration": 367,
    "start_time": "2025-07-13T15:42:29.903Z"
   },
   {
    "duration": 276,
    "start_time": "2025-07-13T15:44:04.157Z"
   },
   {
    "duration": 285,
    "start_time": "2025-07-13T15:44:23.183Z"
   },
   {
    "duration": 274,
    "start_time": "2025-07-13T15:44:36.865Z"
   },
   {
    "duration": 4,
    "start_time": "2025-07-13T15:48:01.716Z"
   },
   {
    "duration": 1223,
    "start_time": "2025-07-13T15:48:08.744Z"
   },
   {
    "duration": 42,
    "start_time": "2025-07-13T15:48:09.969Z"
   },
   {
    "duration": 57,
    "start_time": "2025-07-13T15:48:10.012Z"
   },
   {
    "duration": 7,
    "start_time": "2025-07-13T15:48:10.070Z"
   },
   {
    "duration": 9,
    "start_time": "2025-07-13T15:48:10.079Z"
   },
   {
    "duration": 797,
    "start_time": "2025-07-13T15:48:10.090Z"
   },
   {
    "duration": 5,
    "start_time": "2025-07-13T15:48:10.889Z"
   },
   {
    "duration": 19,
    "start_time": "2025-07-13T15:48:10.896Z"
   },
   {
    "duration": 197,
    "start_time": "2025-07-13T15:48:10.917Z"
   },
   {
    "duration": 74,
    "start_time": "2025-07-13T15:48:11.116Z"
   },
   {
    "duration": 61,
    "start_time": "2025-07-13T15:48:11.192Z"
   },
   {
    "duration": 373,
    "start_time": "2025-07-13T15:48:11.254Z"
   },
   {
    "duration": 13,
    "start_time": "2025-07-13T15:48:11.629Z"
   },
   {
    "duration": 250,
    "start_time": "2025-07-13T15:48:11.644Z"
   },
   {
    "duration": 6,
    "start_time": "2025-07-13T15:48:11.895Z"
   },
   {
    "duration": 109,
    "start_time": "2025-07-13T15:48:11.903Z"
   },
   {
    "duration": 4,
    "start_time": "2025-07-13T15:48:12.014Z"
   },
   {
    "duration": 133,
    "start_time": "2025-07-13T15:48:12.020Z"
   },
   {
    "duration": 20,
    "start_time": "2025-07-13T15:48:12.155Z"
   },
   {
    "duration": 106,
    "start_time": "2025-07-13T15:48:12.176Z"
   },
   {
    "duration": 6,
    "start_time": "2025-07-13T15:48:12.283Z"
   },
   {
    "duration": 46,
    "start_time": "2025-07-13T15:48:12.290Z"
   },
   {
    "duration": 149,
    "start_time": "2025-07-13T15:48:12.338Z"
   },
   {
    "duration": 5,
    "start_time": "2025-07-13T15:48:12.488Z"
   },
   {
    "duration": 81,
    "start_time": "2025-07-13T15:48:12.495Z"
   },
   {
    "duration": 330,
    "start_time": "2025-07-13T15:48:12.578Z"
   },
   {
    "duration": 57,
    "start_time": "2025-07-13T15:48:31.387Z"
   },
   {
    "duration": 33,
    "start_time": "2025-07-13T15:48:46.488Z"
   },
   {
    "duration": 103,
    "start_time": "2025-07-13T15:49:49.790Z"
   },
   {
    "duration": 1227,
    "start_time": "2025-07-13T15:49:56.564Z"
   },
   {
    "duration": 40,
    "start_time": "2025-07-13T15:49:57.793Z"
   },
   {
    "duration": 50,
    "start_time": "2025-07-13T15:49:57.835Z"
   },
   {
    "duration": 7,
    "start_time": "2025-07-13T15:49:57.887Z"
   },
   {
    "duration": 29,
    "start_time": "2025-07-13T15:49:57.895Z"
   },
   {
    "duration": 814,
    "start_time": "2025-07-13T15:49:57.926Z"
   },
   {
    "duration": 5,
    "start_time": "2025-07-13T15:49:58.742Z"
   },
   {
    "duration": 6,
    "start_time": "2025-07-13T15:49:58.749Z"
   },
   {
    "duration": 194,
    "start_time": "2025-07-13T15:49:58.757Z"
   },
   {
    "duration": 67,
    "start_time": "2025-07-13T15:49:58.955Z"
   },
   {
    "duration": 61,
    "start_time": "2025-07-13T15:49:59.024Z"
   },
   {
    "duration": 379,
    "start_time": "2025-07-13T15:49:59.087Z"
   },
   {
    "duration": 9,
    "start_time": "2025-07-13T15:49:59.468Z"
   },
   {
    "duration": 311,
    "start_time": "2025-07-13T15:49:59.479Z"
   },
   {
    "duration": 8,
    "start_time": "2025-07-13T15:49:59.792Z"
   },
   {
    "duration": 108,
    "start_time": "2025-07-13T15:49:59.802Z"
   },
   {
    "duration": 3,
    "start_time": "2025-07-13T15:49:59.912Z"
   },
   {
    "duration": 136,
    "start_time": "2025-07-13T15:49:59.917Z"
   },
   {
    "duration": 27,
    "start_time": "2025-07-13T15:50:00.055Z"
   },
   {
    "duration": 97,
    "start_time": "2025-07-13T15:50:00.084Z"
   },
   {
    "duration": 34,
    "start_time": "2025-07-13T15:50:00.183Z"
   },
   {
    "duration": 243,
    "start_time": "2025-07-13T15:50:00.219Z"
   },
   {
    "duration": 172,
    "start_time": "2025-07-13T15:50:00.464Z"
   },
   {
    "duration": 3,
    "start_time": "2025-07-13T15:50:00.638Z"
   },
   {
    "duration": 115,
    "start_time": "2025-07-13T15:50:00.643Z"
   },
   {
    "duration": 0,
    "start_time": "2025-07-13T15:50:00.760Z"
   },
   {
    "duration": 54,
    "start_time": "2025-07-13T15:50:22.004Z"
   },
   {
    "duration": 4,
    "start_time": "2025-07-13T15:50:35.996Z"
   },
   {
    "duration": 1231,
    "start_time": "2025-07-13T15:50:44.275Z"
   },
   {
    "duration": 42,
    "start_time": "2025-07-13T15:50:45.508Z"
   },
   {
    "duration": 127,
    "start_time": "2025-07-13T15:50:45.552Z"
   },
   {
    "duration": 30,
    "start_time": "2025-07-13T15:50:45.681Z"
   },
   {
    "duration": 33,
    "start_time": "2025-07-13T15:50:45.715Z"
   },
   {
    "duration": 890,
    "start_time": "2025-07-13T15:50:45.750Z"
   },
   {
    "duration": 5,
    "start_time": "2025-07-13T15:50:46.642Z"
   },
   {
    "duration": 22,
    "start_time": "2025-07-13T15:50:46.648Z"
   },
   {
    "duration": 187,
    "start_time": "2025-07-13T15:50:46.672Z"
   },
   {
    "duration": 79,
    "start_time": "2025-07-13T15:50:46.862Z"
   },
   {
    "duration": 64,
    "start_time": "2025-07-13T15:50:46.943Z"
   },
   {
    "duration": 384,
    "start_time": "2025-07-13T15:50:47.009Z"
   },
   {
    "duration": 9,
    "start_time": "2025-07-13T15:50:47.395Z"
   },
   {
    "duration": 477,
    "start_time": "2025-07-13T15:50:47.405Z"
   },
   {
    "duration": 6,
    "start_time": "2025-07-13T15:50:47.884Z"
   },
   {
    "duration": 118,
    "start_time": "2025-07-13T15:50:47.892Z"
   },
   {
    "duration": 4,
    "start_time": "2025-07-13T15:50:48.011Z"
   },
   {
    "duration": 142,
    "start_time": "2025-07-13T15:50:48.016Z"
   },
   {
    "duration": 21,
    "start_time": "2025-07-13T15:50:48.159Z"
   },
   {
    "duration": 157,
    "start_time": "2025-07-13T15:50:48.182Z"
   },
   {
    "duration": 6,
    "start_time": "2025-07-13T15:50:48.341Z"
   },
   {
    "duration": 63,
    "start_time": "2025-07-13T15:50:48.348Z"
   },
   {
    "duration": 141,
    "start_time": "2025-07-13T15:50:48.412Z"
   },
   {
    "duration": 3,
    "start_time": "2025-07-13T15:50:48.555Z"
   },
   {
    "duration": 74,
    "start_time": "2025-07-13T15:50:48.560Z"
   },
   {
    "duration": 3,
    "start_time": "2025-07-13T15:50:48.636Z"
   },
   {
    "duration": 300,
    "start_time": "2025-07-13T15:50:48.641Z"
   },
   {
    "duration": 35,
    "start_time": "2025-07-13T15:52:08.550Z"
   },
   {
    "duration": 4,
    "start_time": "2025-07-13T15:52:13.304Z"
   },
   {
    "duration": 1227,
    "start_time": "2025-07-13T15:52:20.400Z"
   },
   {
    "duration": 61,
    "start_time": "2025-07-13T15:52:21.628Z"
   },
   {
    "duration": 64,
    "start_time": "2025-07-13T15:52:21.691Z"
   },
   {
    "duration": 7,
    "start_time": "2025-07-13T15:52:21.757Z"
   },
   {
    "duration": 31,
    "start_time": "2025-07-13T15:52:21.767Z"
   },
   {
    "duration": 901,
    "start_time": "2025-07-13T15:52:21.800Z"
   },
   {
    "duration": 5,
    "start_time": "2025-07-13T15:52:22.703Z"
   },
   {
    "duration": 10,
    "start_time": "2025-07-13T15:52:22.710Z"
   },
   {
    "duration": 172,
    "start_time": "2025-07-13T15:52:22.742Z"
   },
   {
    "duration": 85,
    "start_time": "2025-07-13T15:52:22.916Z"
   },
   {
    "duration": 67,
    "start_time": "2025-07-13T15:52:23.003Z"
   },
   {
    "duration": 399,
    "start_time": "2025-07-13T15:52:23.072Z"
   },
   {
    "duration": 11,
    "start_time": "2025-07-13T15:52:23.474Z"
   },
   {
    "duration": 273,
    "start_time": "2025-07-13T15:52:23.488Z"
   },
   {
    "duration": 6,
    "start_time": "2025-07-13T15:52:23.763Z"
   },
   {
    "duration": 175,
    "start_time": "2025-07-13T15:52:23.771Z"
   },
   {
    "duration": 8,
    "start_time": "2025-07-13T15:52:23.947Z"
   },
   {
    "duration": 138,
    "start_time": "2025-07-13T15:52:23.957Z"
   },
   {
    "duration": 19,
    "start_time": "2025-07-13T15:52:24.097Z"
   },
   {
    "duration": 136,
    "start_time": "2025-07-13T15:52:24.118Z"
   },
   {
    "duration": 6,
    "start_time": "2025-07-13T15:52:24.256Z"
   },
   {
    "duration": 59,
    "start_time": "2025-07-13T15:52:24.263Z"
   },
   {
    "duration": 162,
    "start_time": "2025-07-13T15:52:24.323Z"
   },
   {
    "duration": 4,
    "start_time": "2025-07-13T15:52:24.486Z"
   },
   {
    "duration": 105,
    "start_time": "2025-07-13T15:52:24.491Z"
   },
   {
    "duration": 3,
    "start_time": "2025-07-13T15:52:24.598Z"
   },
   {
    "duration": 482,
    "start_time": "2025-07-13T15:52:24.602Z"
   },
   {
    "duration": 50,
    "start_time": "2025-07-13T15:55:25.585Z"
   },
   {
    "duration": 3,
    "start_time": "2025-07-13T15:55:29.961Z"
   },
   {
    "duration": 45,
    "start_time": "2025-07-13T15:55:42.579Z"
   },
   {
    "duration": 223,
    "start_time": "2025-07-13T15:55:46.820Z"
   },
   {
    "duration": 304,
    "start_time": "2025-07-13T15:56:30.067Z"
   },
   {
    "duration": 335,
    "start_time": "2025-07-13T15:56:42.188Z"
   },
   {
    "duration": 328,
    "start_time": "2025-07-13T15:57:20.674Z"
   },
   {
    "duration": 11,
    "start_time": "2025-07-13T15:57:28.185Z"
   },
   {
    "duration": 1237,
    "start_time": "2025-07-13T15:57:36.341Z"
   },
   {
    "duration": 46,
    "start_time": "2025-07-13T15:57:37.580Z"
   },
   {
    "duration": 56,
    "start_time": "2025-07-13T15:57:37.627Z"
   },
   {
    "duration": 9,
    "start_time": "2025-07-13T15:57:37.686Z"
   },
   {
    "duration": 11,
    "start_time": "2025-07-13T15:57:37.696Z"
   },
   {
    "duration": 788,
    "start_time": "2025-07-13T15:57:37.709Z"
   },
   {
    "duration": 4,
    "start_time": "2025-07-13T15:57:38.498Z"
   },
   {
    "duration": 14,
    "start_time": "2025-07-13T15:57:38.504Z"
   },
   {
    "duration": 186,
    "start_time": "2025-07-13T15:57:38.519Z"
   },
   {
    "duration": 75,
    "start_time": "2025-07-13T15:57:38.707Z"
   },
   {
    "duration": 68,
    "start_time": "2025-07-13T15:57:38.784Z"
   },
   {
    "duration": 363,
    "start_time": "2025-07-13T15:57:38.854Z"
   },
   {
    "duration": 8,
    "start_time": "2025-07-13T15:57:39.219Z"
   },
   {
    "duration": 252,
    "start_time": "2025-07-13T15:57:39.229Z"
   },
   {
    "duration": 6,
    "start_time": "2025-07-13T15:57:39.482Z"
   },
   {
    "duration": 123,
    "start_time": "2025-07-13T15:57:39.490Z"
   },
   {
    "duration": 4,
    "start_time": "2025-07-13T15:57:39.615Z"
   },
   {
    "duration": 155,
    "start_time": "2025-07-13T15:57:39.620Z"
   },
   {
    "duration": 20,
    "start_time": "2025-07-13T15:57:39.777Z"
   },
   {
    "duration": 54,
    "start_time": "2025-07-13T15:57:39.799Z"
   },
   {
    "duration": 6,
    "start_time": "2025-07-13T15:57:39.855Z"
   },
   {
    "duration": 50,
    "start_time": "2025-07-13T15:57:39.863Z"
   },
   {
    "duration": 145,
    "start_time": "2025-07-13T15:57:39.915Z"
   },
   {
    "duration": 4,
    "start_time": "2025-07-13T15:57:40.061Z"
   },
   {
    "duration": 63,
    "start_time": "2025-07-13T15:57:40.067Z"
   },
   {
    "duration": 322,
    "start_time": "2025-07-13T15:57:40.132Z"
   },
   {
    "duration": 11,
    "start_time": "2025-07-13T16:04:37.080Z"
   },
   {
    "duration": 13,
    "start_time": "2025-07-13T16:04:45.811Z"
   },
   {
    "duration": 121,
    "start_time": "2025-07-13T16:10:52.524Z"
   },
   {
    "duration": 148,
    "start_time": "2025-07-13T16:14:37.465Z"
   },
   {
    "duration": 119,
    "start_time": "2025-07-13T16:14:56.530Z"
   },
   {
    "duration": 109,
    "start_time": "2025-07-13T16:15:02.796Z"
   },
   {
    "duration": 1687,
    "start_time": "2025-07-13T16:19:29.749Z"
   },
   {
    "duration": 1644,
    "start_time": "2025-07-13T16:19:57.961Z"
   },
   {
    "duration": 1548,
    "start_time": "2025-07-13T16:20:52.968Z"
   },
   {
    "duration": 1859,
    "start_time": "2025-07-13T16:21:17.037Z"
   },
   {
    "duration": 530,
    "start_time": "2025-07-13T16:22:06.579Z"
   },
   {
    "duration": 1533,
    "start_time": "2025-07-13T16:23:22.396Z"
   },
   {
    "duration": 172,
    "start_time": "2025-07-13T16:23:32.171Z"
   },
   {
    "duration": 14,
    "start_time": "2025-07-13T16:24:20.149Z"
   },
   {
    "duration": 177,
    "start_time": "2025-07-13T16:29:45.363Z"
   },
   {
    "duration": 170,
    "start_time": "2025-07-13T16:29:59.328Z"
   },
   {
    "duration": 177,
    "start_time": "2025-07-13T16:30:28.574Z"
   },
   {
    "duration": 201,
    "start_time": "2025-07-13T16:30:43.365Z"
   },
   {
    "duration": 174,
    "start_time": "2025-07-13T16:31:32.302Z"
   },
   {
    "duration": 174,
    "start_time": "2025-07-13T16:31:39.666Z"
   },
   {
    "duration": 510,
    "start_time": "2025-07-13T16:33:43.669Z"
   },
   {
    "duration": 193,
    "start_time": "2025-07-13T16:37:34.636Z"
   },
   {
    "duration": 43,
    "start_time": "2025-07-13T16:53:11.456Z"
   },
   {
    "duration": 20,
    "start_time": "2025-07-13T16:53:22.197Z"
   },
   {
    "duration": 20,
    "start_time": "2025-07-13T16:53:38.508Z"
   },
   {
    "duration": 18,
    "start_time": "2025-07-13T16:53:48.655Z"
   },
   {
    "duration": 38,
    "start_time": "2025-07-13T16:58:05.488Z"
   },
   {
    "duration": 69,
    "start_time": "2025-07-13T16:58:55.434Z"
   },
   {
    "duration": 88,
    "start_time": "2025-07-13T17:01:47.681Z"
   },
   {
    "duration": 91,
    "start_time": "2025-07-13T17:02:27.443Z"
   },
   {
    "duration": 89,
    "start_time": "2025-07-13T17:02:42.850Z"
   },
   {
    "duration": 127,
    "start_time": "2025-07-13T17:06:30.552Z"
   },
   {
    "duration": 137,
    "start_time": "2025-07-13T17:07:11.584Z"
   },
   {
    "duration": 90,
    "start_time": "2025-07-13T17:07:41.014Z"
   },
   {
    "duration": 52,
    "start_time": "2025-07-13T17:08:32.873Z"
   },
   {
    "duration": 48,
    "start_time": "2025-07-13T17:11:29.331Z"
   },
   {
    "duration": 12167,
    "start_time": "2025-07-13T17:15:08.796Z"
   },
   {
    "duration": 12643,
    "start_time": "2025-07-13T17:15:25.839Z"
   },
   {
    "duration": 37472,
    "start_time": "2025-07-13T17:18:42.762Z"
   },
   {
    "duration": 38597,
    "start_time": "2025-07-13T17:19:32.564Z"
   },
   {
    "duration": 38353,
    "start_time": "2025-07-13T17:20:59.348Z"
   },
   {
    "duration": 1208,
    "start_time": "2025-07-13T17:54:05.813Z"
   },
   {
    "duration": 73,
    "start_time": "2025-07-13T17:54:07.023Z"
   },
   {
    "duration": 51,
    "start_time": "2025-07-13T17:54:07.097Z"
   },
   {
    "duration": 6,
    "start_time": "2025-07-13T17:54:07.149Z"
   },
   {
    "duration": 9,
    "start_time": "2025-07-13T17:54:07.158Z"
   },
   {
    "duration": 801,
    "start_time": "2025-07-13T17:54:07.168Z"
   },
   {
    "duration": 4,
    "start_time": "2025-07-13T17:54:07.971Z"
   },
   {
    "duration": 23,
    "start_time": "2025-07-13T17:54:07.977Z"
   },
   {
    "duration": 179,
    "start_time": "2025-07-13T17:54:08.002Z"
   },
   {
    "duration": 80,
    "start_time": "2025-07-13T17:54:08.183Z"
   },
   {
    "duration": 4100,
    "start_time": "2025-07-13T17:54:08.266Z"
   },
   {
    "duration": 71,
    "start_time": "2025-07-13T17:54:12.368Z"
   },
   {
    "duration": 398,
    "start_time": "2025-07-13T17:54:12.441Z"
   },
   {
    "duration": 9,
    "start_time": "2025-07-13T17:54:12.842Z"
   },
   {
    "duration": 319,
    "start_time": "2025-07-13T17:54:12.852Z"
   },
   {
    "duration": 6,
    "start_time": "2025-07-13T17:54:13.172Z"
   },
   {
    "duration": 111,
    "start_time": "2025-07-13T17:54:13.180Z"
   },
   {
    "duration": 6,
    "start_time": "2025-07-13T17:54:13.293Z"
   },
   {
    "duration": 145,
    "start_time": "2025-07-13T17:54:13.301Z"
   },
   {
    "duration": 21,
    "start_time": "2025-07-13T17:54:13.448Z"
   },
   {
    "duration": 189,
    "start_time": "2025-07-13T17:54:13.471Z"
   },
   {
    "duration": 5,
    "start_time": "2025-07-13T17:54:13.661Z"
   },
   {
    "duration": 44,
    "start_time": "2025-07-13T17:54:13.668Z"
   },
   {
    "duration": 161,
    "start_time": "2025-07-13T17:54:13.714Z"
   },
   {
    "duration": 4,
    "start_time": "2025-07-13T17:54:13.876Z"
   },
   {
    "duration": 82,
    "start_time": "2025-07-13T17:54:13.881Z"
   },
   {
    "duration": 49,
    "start_time": "2025-07-13T17:54:13.964Z"
   },
   {
    "duration": 389,
    "start_time": "2025-07-13T17:54:14.015Z"
   },
   {
    "duration": 230,
    "start_time": "2025-07-13T17:54:14.405Z"
   },
   {
    "duration": 141,
    "start_time": "2025-07-13T17:54:14.636Z"
   },
   {
    "duration": 8473,
    "start_time": "2025-07-13T17:54:14.780Z"
   },
   {
    "duration": 66,
    "start_time": "2025-07-13T17:54:23.255Z"
   },
   {
    "duration": 40561,
    "start_time": "2025-07-13T17:54:23.322Z"
   },
   {
    "duration": 31,
    "start_time": "2025-07-13T17:55:03.884Z"
   },
   {
    "duration": 4404,
    "start_time": "2025-07-13T18:06:21.184Z"
   },
   {
    "duration": 4874,
    "start_time": "2025-07-13T18:08:50.533Z"
   },
   {
    "duration": 4810,
    "start_time": "2025-07-13T18:09:38.688Z"
   },
   {
    "duration": 65,
    "start_time": "2025-07-13T18:13:30.606Z"
   },
   {
    "duration": 13,
    "start_time": "2025-07-13T18:15:48.991Z"
   },
   {
    "duration": 5,
    "start_time": "2025-07-13T18:15:59.518Z"
   },
   {
    "duration": 53,
    "start_time": "2025-07-13T18:16:31.269Z"
   },
   {
    "duration": 54,
    "start_time": "2025-07-13T18:19:04.140Z"
   },
   {
    "duration": 1260,
    "start_time": "2025-07-13T18:19:29.614Z"
   },
   {
    "duration": 57,
    "start_time": "2025-07-13T18:19:30.876Z"
   },
   {
    "duration": 89,
    "start_time": "2025-07-13T18:19:30.935Z"
   },
   {
    "duration": 7,
    "start_time": "2025-07-13T18:19:31.026Z"
   },
   {
    "duration": 13,
    "start_time": "2025-07-13T18:19:31.035Z"
   },
   {
    "duration": 907,
    "start_time": "2025-07-13T18:19:31.051Z"
   },
   {
    "duration": 5,
    "start_time": "2025-07-13T18:19:31.960Z"
   },
   {
    "duration": 17,
    "start_time": "2025-07-13T18:19:31.967Z"
   },
   {
    "duration": 193,
    "start_time": "2025-07-13T18:19:31.986Z"
   },
   {
    "duration": 4726,
    "start_time": "2025-07-13T18:19:32.182Z"
   },
   {
    "duration": 3358,
    "start_time": "2025-07-13T18:19:36.910Z"
   },
   {
    "duration": 6,
    "start_time": "2025-07-13T18:19:40.269Z"
   },
   {
    "duration": 97,
    "start_time": "2025-07-13T18:19:40.277Z"
   },
   {
    "duration": 52,
    "start_time": "2025-07-13T18:19:40.376Z"
   },
   {
    "duration": 406,
    "start_time": "2025-07-13T18:19:40.429Z"
   },
   {
    "duration": 17,
    "start_time": "2025-07-13T18:19:40.843Z"
   },
   {
    "duration": 295,
    "start_time": "2025-07-13T18:19:40.861Z"
   },
   {
    "duration": 7,
    "start_time": "2025-07-13T18:19:41.158Z"
   },
   {
    "duration": 117,
    "start_time": "2025-07-13T18:19:41.166Z"
   },
   {
    "duration": 3,
    "start_time": "2025-07-13T18:19:41.285Z"
   },
   {
    "duration": 131,
    "start_time": "2025-07-13T18:19:41.290Z"
   },
   {
    "duration": 41,
    "start_time": "2025-07-13T18:19:41.422Z"
   },
   {
    "duration": 48,
    "start_time": "2025-07-13T18:19:41.465Z"
   },
   {
    "duration": 5,
    "start_time": "2025-07-13T18:19:41.515Z"
   },
   {
    "duration": 88,
    "start_time": "2025-07-13T18:19:41.521Z"
   },
   {
    "duration": 162,
    "start_time": "2025-07-13T18:19:41.610Z"
   },
   {
    "duration": 3,
    "start_time": "2025-07-13T18:19:41.774Z"
   },
   {
    "duration": 63,
    "start_time": "2025-07-13T18:19:41.781Z"
   },
   {
    "duration": 341,
    "start_time": "2025-07-13T18:19:41.846Z"
   },
   {
    "duration": 226,
    "start_time": "2025-07-13T18:19:42.189Z"
   },
   {
    "duration": 136,
    "start_time": "2025-07-13T18:19:42.417Z"
   },
   {
    "duration": 9013,
    "start_time": "2025-07-13T18:19:42.555Z"
   },
   {
    "duration": 80,
    "start_time": "2025-07-13T18:19:51.571Z"
   },
   {
    "duration": 40820,
    "start_time": "2025-07-13T18:19:51.654Z"
   },
   {
    "duration": 23,
    "start_time": "2025-07-13T18:20:32.476Z"
   },
   {
    "duration": 7,
    "start_time": "2025-07-13T18:31:37.370Z"
   },
   {
    "duration": 5,
    "start_time": "2025-07-13T18:32:00.325Z"
   },
   {
    "duration": 55,
    "start_time": "2025-07-13T18:32:09.874Z"
   },
   {
    "duration": 1365,
    "start_time": "2025-07-13T18:32:21.193Z"
   },
   {
    "duration": 43,
    "start_time": "2025-07-13T18:32:22.561Z"
   },
   {
    "duration": 64,
    "start_time": "2025-07-13T18:32:22.605Z"
   },
   {
    "duration": 8,
    "start_time": "2025-07-13T18:32:22.673Z"
   },
   {
    "duration": 14,
    "start_time": "2025-07-13T18:32:22.683Z"
   },
   {
    "duration": 982,
    "start_time": "2025-07-13T18:32:22.699Z"
   },
   {
    "duration": 5,
    "start_time": "2025-07-13T18:32:23.683Z"
   },
   {
    "duration": 23,
    "start_time": "2025-07-13T18:32:23.690Z"
   },
   {
    "duration": 207,
    "start_time": "2025-07-13T18:32:23.715Z"
   },
   {
    "duration": 4778,
    "start_time": "2025-07-13T18:32:23.926Z"
   },
   {
    "duration": 3674,
    "start_time": "2025-07-13T18:32:28.706Z"
   },
   {
    "duration": 6,
    "start_time": "2025-07-13T18:32:32.382Z"
   },
   {
    "duration": 138,
    "start_time": "2025-07-13T18:32:32.389Z"
   },
   {
    "duration": 72,
    "start_time": "2025-07-13T18:32:32.529Z"
   },
   {
    "duration": 435,
    "start_time": "2025-07-13T18:32:32.602Z"
   },
   {
    "duration": 22,
    "start_time": "2025-07-13T18:32:33.042Z"
   },
   {
    "duration": 307,
    "start_time": "2025-07-13T18:32:33.066Z"
   },
   {
    "duration": 6,
    "start_time": "2025-07-13T18:32:33.375Z"
   },
   {
    "duration": 149,
    "start_time": "2025-07-13T18:32:33.382Z"
   },
   {
    "duration": 3,
    "start_time": "2025-07-13T18:32:33.533Z"
   },
   {
    "duration": 229,
    "start_time": "2025-07-13T18:32:33.541Z"
   },
   {
    "duration": 19,
    "start_time": "2025-07-13T18:32:33.772Z"
   },
   {
    "duration": 71,
    "start_time": "2025-07-13T18:32:33.793Z"
   },
   {
    "duration": 6,
    "start_time": "2025-07-13T18:32:33.871Z"
   },
   {
    "duration": 56,
    "start_time": "2025-07-13T18:32:33.879Z"
   },
   {
    "duration": 180,
    "start_time": "2025-07-13T18:32:33.937Z"
   },
   {
    "duration": 5,
    "start_time": "2025-07-13T18:32:34.119Z"
   },
   {
    "duration": 57,
    "start_time": "2025-07-13T18:32:34.140Z"
   },
   {
    "duration": 361,
    "start_time": "2025-07-13T18:32:34.198Z"
   },
   {
    "duration": 247,
    "start_time": "2025-07-13T18:32:34.564Z"
   },
   {
    "duration": 132,
    "start_time": "2025-07-13T18:32:34.814Z"
   },
   {
    "duration": 3083,
    "start_time": "2025-07-13T18:32:34.955Z"
   },
   {
    "duration": 76,
    "start_time": "2025-07-13T18:32:38.044Z"
   },
   {
    "duration": 45587,
    "start_time": "2025-07-13T18:32:38.122Z"
   },
   {
    "duration": 43,
    "start_time": "2025-07-13T18:33:23.711Z"
   },
   {
    "duration": 49,
    "start_time": "2025-07-14T06:40:21.695Z"
   },
   {
    "duration": 10,
    "start_time": "2025-07-14T06:40:39.359Z"
   },
   {
    "duration": 1465,
    "start_time": "2025-07-14T06:40:46.165Z"
   },
   {
    "duration": 57,
    "start_time": "2025-07-14T06:40:47.632Z"
   },
   {
    "duration": 75,
    "start_time": "2025-07-14T06:40:47.691Z"
   },
   {
    "duration": 10,
    "start_time": "2025-07-14T06:40:47.768Z"
   },
   {
    "duration": 9,
    "start_time": "2025-07-14T06:40:47.781Z"
   },
   {
    "duration": 952,
    "start_time": "2025-07-14T06:40:47.791Z"
   },
   {
    "duration": 6,
    "start_time": "2025-07-14T06:40:48.745Z"
   },
   {
    "duration": 9,
    "start_time": "2025-07-14T06:40:48.754Z"
   },
   {
    "duration": 216,
    "start_time": "2025-07-14T06:40:48.766Z"
   },
   {
    "duration": 5414,
    "start_time": "2025-07-14T06:40:48.984Z"
   },
   {
    "duration": 3607,
    "start_time": "2025-07-14T06:40:54.400Z"
   },
   {
    "duration": 9,
    "start_time": "2025-07-14T06:40:58.009Z"
   },
   {
    "duration": 107,
    "start_time": "2025-07-14T06:40:58.020Z"
   },
   {
    "duration": 84,
    "start_time": "2025-07-14T06:40:58.130Z"
   },
   {
    "duration": 429,
    "start_time": "2025-07-14T06:40:58.216Z"
   },
   {
    "duration": 15,
    "start_time": "2025-07-14T06:40:58.650Z"
   },
   {
    "duration": 339,
    "start_time": "2025-07-14T06:40:58.667Z"
   },
   {
    "duration": 6,
    "start_time": "2025-07-14T06:40:59.007Z"
   },
   {
    "duration": 158,
    "start_time": "2025-07-14T06:40:59.015Z"
   },
   {
    "duration": 3,
    "start_time": "2025-07-14T06:40:59.176Z"
   },
   {
    "duration": 147,
    "start_time": "2025-07-14T06:40:59.181Z"
   },
   {
    "duration": 22,
    "start_time": "2025-07-14T06:40:59.329Z"
   },
   {
    "duration": 90,
    "start_time": "2025-07-14T06:40:59.353Z"
   },
   {
    "duration": 6,
    "start_time": "2025-07-14T06:40:59.445Z"
   },
   {
    "duration": 113,
    "start_time": "2025-07-14T06:40:59.453Z"
   },
   {
    "duration": 163,
    "start_time": "2025-07-14T06:40:59.569Z"
   },
   {
    "duration": 3,
    "start_time": "2025-07-14T06:40:59.734Z"
   },
   {
    "duration": 60,
    "start_time": "2025-07-14T06:40:59.739Z"
   },
   {
    "duration": 384,
    "start_time": "2025-07-14T06:40:59.801Z"
   },
   {
    "duration": 243,
    "start_time": "2025-07-14T06:41:00.186Z"
   },
   {
    "duration": 127,
    "start_time": "2025-07-14T06:41:00.431Z"
   },
   {
    "duration": 9682,
    "start_time": "2025-07-14T06:41:00.560Z"
   },
   {
    "duration": 76,
    "start_time": "2025-07-14T06:41:10.244Z"
   },
   {
    "duration": 43737,
    "start_time": "2025-07-14T06:41:10.322Z"
   },
   {
    "duration": 29,
    "start_time": "2025-07-14T06:41:54.062Z"
   },
   {
    "duration": 8,
    "start_time": "2025-07-14T06:41:54.096Z"
   },
   {
    "duration": 103,
    "start_time": "2025-07-14T06:41:54.105Z"
   },
   {
    "duration": 116,
    "start_time": "2025-07-14T06:49:59.370Z"
   },
   {
    "duration": 10,
    "start_time": "2025-07-14T06:50:07.741Z"
   },
   {
    "duration": 67,
    "start_time": "2025-07-14T06:50:09.220Z"
   },
   {
    "duration": 2974,
    "start_time": "2025-07-14T07:14:24.606Z"
   },
   {
    "duration": 2930,
    "start_time": "2025-07-14T07:15:33.183Z"
   },
   {
    "duration": 3274,
    "start_time": "2025-07-14T07:15:54.556Z"
   },
   {
    "duration": 383,
    "start_time": "2025-07-14T07:18:33.480Z"
   },
   {
    "duration": 11,
    "start_time": "2025-07-14T07:20:51.787Z"
   },
   {
    "duration": 37,
    "start_time": "2025-07-14T07:20:58.293Z"
   },
   {
    "duration": 51,
    "start_time": "2025-07-14T07:21:28.167Z"
   },
   {
    "duration": 47,
    "start_time": "2025-07-14T07:21:50.193Z"
   },
   {
    "duration": 53,
    "start_time": "2025-07-14T07:22:29.838Z"
   },
   {
    "duration": 154,
    "start_time": "2025-07-14T07:22:43.558Z"
   },
   {
    "duration": 146,
    "start_time": "2025-07-14T07:23:23.555Z"
   },
   {
    "duration": 410,
    "start_time": "2025-07-14T07:23:32.418Z"
   },
   {
    "duration": 403,
    "start_time": "2025-07-14T07:25:09.208Z"
   },
   {
    "duration": 12,
    "start_time": "2025-07-14T07:38:04.941Z"
   },
   {
    "duration": 11,
    "start_time": "2025-07-14T07:38:09.403Z"
   },
   {
    "duration": 411,
    "start_time": "2025-07-14T07:38:11.723Z"
   },
   {
    "duration": 12,
    "start_time": "2025-07-14T07:38:29.790Z"
   },
   {
    "duration": 11,
    "start_time": "2025-07-14T07:38:33.306Z"
   },
   {
    "duration": 42,
    "start_time": "2025-07-14T07:38:40.446Z"
   },
   {
    "duration": 38,
    "start_time": "2025-07-14T07:38:47.167Z"
   },
   {
    "duration": 51,
    "start_time": "2025-07-14T07:39:26.288Z"
   },
   {
    "duration": 52,
    "start_time": "2025-07-14T07:39:30.371Z"
   },
   {
    "duration": 99,
    "start_time": "2025-07-14T07:40:24.545Z"
   },
   {
    "duration": 46,
    "start_time": "2025-07-14T07:47:49.009Z"
   },
   {
    "duration": 16,
    "start_time": "2025-07-14T07:48:24.261Z"
   },
   {
    "duration": 218,
    "start_time": "2025-07-14T07:49:07.755Z"
   },
   {
    "duration": 40,
    "start_time": "2025-07-14T07:49:09.193Z"
   },
   {
    "duration": 12,
    "start_time": "2025-07-14T07:53:04.795Z"
   },
   {
    "duration": 513,
    "start_time": "2025-07-14T07:53:35.984Z"
   },
   {
    "duration": 43,
    "start_time": "2025-07-14T07:53:36.978Z"
   },
   {
    "duration": 99,
    "start_time": "2025-07-14T07:54:43.715Z"
   },
   {
    "duration": 59,
    "start_time": "2025-07-14T07:54:46.854Z"
   },
   {
    "duration": 1260,
    "start_time": "2025-07-14T07:54:55.210Z"
   },
   {
    "duration": 66,
    "start_time": "2025-07-14T07:54:56.472Z"
   },
   {
    "duration": 72,
    "start_time": "2025-07-14T07:54:56.542Z"
   },
   {
    "duration": 7,
    "start_time": "2025-07-14T07:54:56.616Z"
   },
   {
    "duration": 25,
    "start_time": "2025-07-14T07:54:56.626Z"
   },
   {
    "duration": 833,
    "start_time": "2025-07-14T07:54:56.653Z"
   },
   {
    "duration": 4,
    "start_time": "2025-07-14T07:54:57.487Z"
   },
   {
    "duration": 22,
    "start_time": "2025-07-14T07:54:57.493Z"
   },
   {
    "duration": 193,
    "start_time": "2025-07-14T07:54:57.517Z"
   },
   {
    "duration": 4698,
    "start_time": "2025-07-14T07:54:57.712Z"
   },
   {
    "duration": 3585,
    "start_time": "2025-07-14T07:55:02.413Z"
   },
   {
    "duration": 13,
    "start_time": "2025-07-14T07:55:06.000Z"
   },
   {
    "duration": 108,
    "start_time": "2025-07-14T07:55:06.014Z"
   },
   {
    "duration": 391,
    "start_time": "2025-07-14T07:55:06.125Z"
   },
   {
    "duration": 18,
    "start_time": "2025-07-14T07:55:06.519Z"
   },
   {
    "duration": 358,
    "start_time": "2025-07-14T07:55:06.552Z"
   },
   {
    "duration": 6,
    "start_time": "2025-07-14T07:55:06.912Z"
   },
   {
    "duration": 153,
    "start_time": "2025-07-14T07:55:06.919Z"
   },
   {
    "duration": 4,
    "start_time": "2025-07-14T07:55:07.074Z"
   },
   {
    "duration": 162,
    "start_time": "2025-07-14T07:55:07.079Z"
   },
   {
    "duration": 29,
    "start_time": "2025-07-14T07:55:07.242Z"
   },
   {
    "duration": 396,
    "start_time": "2025-07-14T07:55:07.275Z"
   },
   {
    "duration": 45,
    "start_time": "2025-07-14T07:55:07.673Z"
   },
   {
    "duration": 355,
    "start_time": "2025-07-14T07:55:07.720Z"
   },
   {
    "duration": 0,
    "start_time": "2025-07-14T07:55:08.079Z"
   },
   {
    "duration": 0,
    "start_time": "2025-07-14T07:55:08.080Z"
   },
   {
    "duration": 0,
    "start_time": "2025-07-14T07:55:08.081Z"
   },
   {
    "duration": 0,
    "start_time": "2025-07-14T07:55:08.083Z"
   },
   {
    "duration": 0,
    "start_time": "2025-07-14T07:55:08.083Z"
   },
   {
    "duration": 0,
    "start_time": "2025-07-14T07:55:08.084Z"
   },
   {
    "duration": 0,
    "start_time": "2025-07-14T07:55:08.085Z"
   },
   {
    "duration": 0,
    "start_time": "2025-07-14T07:55:08.086Z"
   },
   {
    "duration": 0,
    "start_time": "2025-07-14T07:55:08.087Z"
   },
   {
    "duration": 0,
    "start_time": "2025-07-14T07:55:08.089Z"
   },
   {
    "duration": 0,
    "start_time": "2025-07-14T07:55:08.090Z"
   },
   {
    "duration": 0,
    "start_time": "2025-07-14T07:55:08.091Z"
   },
   {
    "duration": 0,
    "start_time": "2025-07-14T07:55:08.093Z"
   },
   {
    "duration": 11,
    "start_time": "2025-07-14T07:55:25.815Z"
   },
   {
    "duration": 73,
    "start_time": "2025-07-14T08:00:11.850Z"
   },
   {
    "duration": 10,
    "start_time": "2025-07-14T08:00:13.702Z"
   },
   {
    "duration": 1276,
    "start_time": "2025-07-14T08:00:21.153Z"
   },
   {
    "duration": 55,
    "start_time": "2025-07-14T08:00:22.431Z"
   },
   {
    "duration": 65,
    "start_time": "2025-07-14T08:00:22.487Z"
   },
   {
    "duration": 10,
    "start_time": "2025-07-14T08:00:22.555Z"
   },
   {
    "duration": 111,
    "start_time": "2025-07-14T08:00:22.569Z"
   },
   {
    "duration": 886,
    "start_time": "2025-07-14T08:00:22.682Z"
   },
   {
    "duration": 5,
    "start_time": "2025-07-14T08:00:23.571Z"
   },
   {
    "duration": 6,
    "start_time": "2025-07-14T08:00:23.577Z"
   },
   {
    "duration": 219,
    "start_time": "2025-07-14T08:00:23.585Z"
   },
   {
    "duration": 4736,
    "start_time": "2025-07-14T08:00:23.806Z"
   },
   {
    "duration": 4266,
    "start_time": "2025-07-14T08:00:28.545Z"
   },
   {
    "duration": 13,
    "start_time": "2025-07-14T08:00:32.813Z"
   },
   {
    "duration": 145,
    "start_time": "2025-07-14T08:00:32.828Z"
   },
   {
    "duration": 517,
    "start_time": "2025-07-14T08:00:32.978Z"
   },
   {
    "duration": 10,
    "start_time": "2025-07-14T08:00:33.497Z"
   },
   {
    "duration": 297,
    "start_time": "2025-07-14T08:00:33.509Z"
   },
   {
    "duration": 7,
    "start_time": "2025-07-14T08:00:33.809Z"
   },
   {
    "duration": 135,
    "start_time": "2025-07-14T08:00:33.818Z"
   },
   {
    "duration": 6,
    "start_time": "2025-07-14T08:00:33.956Z"
   },
   {
    "duration": 243,
    "start_time": "2025-07-14T08:00:33.964Z"
   },
   {
    "duration": 21,
    "start_time": "2025-07-14T08:00:34.209Z"
   },
   {
    "duration": 105,
    "start_time": "2025-07-14T08:00:34.232Z"
   },
   {
    "duration": 59,
    "start_time": "2025-07-14T08:00:34.339Z"
   },
   {
    "duration": 398,
    "start_time": "2025-07-14T08:00:34.400Z"
   },
   {
    "duration": 0,
    "start_time": "2025-07-14T08:00:34.800Z"
   },
   {
    "duration": 0,
    "start_time": "2025-07-14T08:00:34.801Z"
   },
   {
    "duration": 0,
    "start_time": "2025-07-14T08:00:34.802Z"
   },
   {
    "duration": 0,
    "start_time": "2025-07-14T08:00:34.804Z"
   },
   {
    "duration": 0,
    "start_time": "2025-07-14T08:00:34.805Z"
   },
   {
    "duration": 0,
    "start_time": "2025-07-14T08:00:34.806Z"
   },
   {
    "duration": 0,
    "start_time": "2025-07-14T08:00:34.807Z"
   },
   {
    "duration": 0,
    "start_time": "2025-07-14T08:00:34.808Z"
   },
   {
    "duration": 0,
    "start_time": "2025-07-14T08:00:34.809Z"
   },
   {
    "duration": 0,
    "start_time": "2025-07-14T08:00:34.810Z"
   },
   {
    "duration": 0,
    "start_time": "2025-07-14T08:00:34.811Z"
   },
   {
    "duration": 0,
    "start_time": "2025-07-14T08:00:34.813Z"
   },
   {
    "duration": 0,
    "start_time": "2025-07-14T08:00:34.814Z"
   },
   {
    "duration": 77,
    "start_time": "2025-07-14T08:00:43.259Z"
   },
   {
    "duration": 10,
    "start_time": "2025-07-14T08:00:44.229Z"
   },
   {
    "duration": 82,
    "start_time": "2025-07-14T08:00:50.679Z"
   },
   {
    "duration": 12,
    "start_time": "2025-07-14T08:00:51.142Z"
   },
   {
    "duration": 6,
    "start_time": "2025-07-14T08:01:38.391Z"
   },
   {
    "duration": 28,
    "start_time": "2025-07-14T08:01:47.848Z"
   },
   {
    "duration": 89,
    "start_time": "2025-07-14T08:02:18.398Z"
   },
   {
    "duration": 15,
    "start_time": "2025-07-14T08:02:19.774Z"
   },
   {
    "duration": 9,
    "start_time": "2025-07-14T08:03:43.299Z"
   },
   {
    "duration": 10,
    "start_time": "2025-07-14T08:03:49.407Z"
   },
   {
    "duration": 95,
    "start_time": "2025-07-14T08:04:59.995Z"
   },
   {
    "duration": 130,
    "start_time": "2025-07-14T08:05:16.494Z"
   },
   {
    "duration": 10,
    "start_time": "2025-07-14T08:05:30.834Z"
   },
   {
    "duration": 57,
    "start_time": "2025-07-14T08:05:39.626Z"
   },
   {
    "duration": 1438,
    "start_time": "2025-07-14T08:05:49.778Z"
   },
   {
    "duration": 50,
    "start_time": "2025-07-14T08:05:51.218Z"
   },
   {
    "duration": 55,
    "start_time": "2025-07-14T08:05:51.272Z"
   },
   {
    "duration": 21,
    "start_time": "2025-07-14T08:05:51.328Z"
   },
   {
    "duration": 50,
    "start_time": "2025-07-14T08:05:51.352Z"
   },
   {
    "duration": 915,
    "start_time": "2025-07-14T08:05:51.404Z"
   },
   {
    "duration": 5,
    "start_time": "2025-07-14T08:05:52.321Z"
   },
   {
    "duration": 63,
    "start_time": "2025-07-14T08:05:52.328Z"
   },
   {
    "duration": 200,
    "start_time": "2025-07-14T08:05:52.392Z"
   },
   {
    "duration": 5025,
    "start_time": "2025-07-14T08:05:52.593Z"
   },
   {
    "duration": 3706,
    "start_time": "2025-07-14T08:05:57.620Z"
   },
   {
    "duration": 24,
    "start_time": "2025-07-14T08:06:01.328Z"
   },
   {
    "duration": 85,
    "start_time": "2025-07-14T08:06:01.354Z"
   },
   {
    "duration": 449,
    "start_time": "2025-07-14T08:06:01.443Z"
   },
   {
    "duration": 10,
    "start_time": "2025-07-14T08:06:01.894Z"
   },
   {
    "duration": 429,
    "start_time": "2025-07-14T08:06:01.905Z"
   },
   {
    "duration": 18,
    "start_time": "2025-07-14T08:06:02.336Z"
   },
   {
    "duration": 165,
    "start_time": "2025-07-14T08:06:02.356Z"
   },
   {
    "duration": 3,
    "start_time": "2025-07-14T08:06:02.522Z"
   },
   {
    "duration": 289,
    "start_time": "2025-07-14T08:06:02.527Z"
   },
   {
    "duration": 21,
    "start_time": "2025-07-14T08:06:02.817Z"
   },
   {
    "duration": 135,
    "start_time": "2025-07-14T08:06:02.850Z"
   },
   {
    "duration": 42,
    "start_time": "2025-07-14T08:06:02.987Z"
   },
   {
    "duration": 340,
    "start_time": "2025-07-14T08:06:03.030Z"
   },
   {
    "duration": 0,
    "start_time": "2025-07-14T08:06:03.372Z"
   },
   {
    "duration": 0,
    "start_time": "2025-07-14T08:06:03.374Z"
   },
   {
    "duration": 0,
    "start_time": "2025-07-14T08:06:03.375Z"
   },
   {
    "duration": 0,
    "start_time": "2025-07-14T08:06:03.377Z"
   },
   {
    "duration": 0,
    "start_time": "2025-07-14T08:06:03.378Z"
   },
   {
    "duration": 0,
    "start_time": "2025-07-14T08:06:03.379Z"
   },
   {
    "duration": 0,
    "start_time": "2025-07-14T08:06:03.381Z"
   },
   {
    "duration": 0,
    "start_time": "2025-07-14T08:06:03.382Z"
   },
   {
    "duration": 0,
    "start_time": "2025-07-14T08:06:03.383Z"
   },
   {
    "duration": 0,
    "start_time": "2025-07-14T08:06:03.384Z"
   },
   {
    "duration": 0,
    "start_time": "2025-07-14T08:06:03.386Z"
   },
   {
    "duration": 0,
    "start_time": "2025-07-14T08:06:03.387Z"
   },
   {
    "duration": 0,
    "start_time": "2025-07-14T08:06:03.388Z"
   },
   {
    "duration": 340,
    "start_time": "2025-07-14T08:06:54.319Z"
   },
   {
    "duration": 329,
    "start_time": "2025-07-14T08:07:44.793Z"
   },
   {
    "duration": 21,
    "start_time": "2025-07-14T08:08:20.653Z"
   },
   {
    "duration": 17,
    "start_time": "2025-07-14T08:08:38.390Z"
   },
   {
    "duration": 798,
    "start_time": "2025-07-14T08:09:20.642Z"
   },
   {
    "duration": 14,
    "start_time": "2025-07-14T08:33:56.895Z"
   },
   {
    "duration": 113,
    "start_time": "2025-07-14T08:38:21.451Z"
   },
   {
    "duration": 12,
    "start_time": "2025-07-14T08:38:34.242Z"
   },
   {
    "duration": 52,
    "start_time": "2025-07-14T08:39:03.826Z"
   },
   {
    "duration": 199,
    "start_time": "2025-07-14T08:40:52.480Z"
   },
   {
    "duration": 4,
    "start_time": "2025-07-14T08:40:54.534Z"
   },
   {
    "duration": 12,
    "start_time": "2025-07-14T08:41:10.209Z"
   },
   {
    "duration": 104,
    "start_time": "2025-07-14T08:41:56.551Z"
   },
   {
    "duration": 13,
    "start_time": "2025-07-14T08:41:58.110Z"
   },
   {
    "duration": 1349,
    "start_time": "2025-07-14T08:42:07.071Z"
   },
   {
    "duration": 67,
    "start_time": "2025-07-14T08:42:08.422Z"
   },
   {
    "duration": 53,
    "start_time": "2025-07-14T08:42:08.490Z"
   },
   {
    "duration": 18,
    "start_time": "2025-07-14T08:42:08.550Z"
   },
   {
    "duration": 9,
    "start_time": "2025-07-14T08:42:08.570Z"
   },
   {
    "duration": 862,
    "start_time": "2025-07-14T08:42:08.581Z"
   },
   {
    "duration": 4,
    "start_time": "2025-07-14T08:42:09.449Z"
   },
   {
    "duration": 20,
    "start_time": "2025-07-14T08:42:09.456Z"
   },
   {
    "duration": 182,
    "start_time": "2025-07-14T08:42:09.478Z"
   },
   {
    "duration": 4582,
    "start_time": "2025-07-14T08:42:09.664Z"
   },
   {
    "duration": 3560,
    "start_time": "2025-07-14T08:42:14.248Z"
   },
   {
    "duration": 11,
    "start_time": "2025-07-14T08:42:17.810Z"
   },
   {
    "duration": 81,
    "start_time": "2025-07-14T08:42:17.823Z"
   },
   {
    "duration": 488,
    "start_time": "2025-07-14T08:42:17.906Z"
   },
   {
    "duration": 9,
    "start_time": "2025-07-14T08:42:18.395Z"
   },
   {
    "duration": 302,
    "start_time": "2025-07-14T08:42:18.406Z"
   },
   {
    "duration": 6,
    "start_time": "2025-07-14T08:42:18.710Z"
   },
   {
    "duration": 217,
    "start_time": "2025-07-14T08:42:18.718Z"
   },
   {
    "duration": 4,
    "start_time": "2025-07-14T08:42:18.937Z"
   },
   {
    "duration": 171,
    "start_time": "2025-07-14T08:42:18.949Z"
   },
   {
    "duration": 19,
    "start_time": "2025-07-14T08:42:19.121Z"
   },
   {
    "duration": 645,
    "start_time": "2025-07-14T08:42:19.142Z"
   },
   {
    "duration": 49,
    "start_time": "2025-07-14T08:42:19.789Z"
   },
   {
    "duration": 21,
    "start_time": "2025-07-14T08:42:19.840Z"
   },
   {
    "duration": 49,
    "start_time": "2025-07-14T08:42:19.863Z"
   },
   {
    "duration": 208,
    "start_time": "2025-07-14T08:42:19.914Z"
   },
   {
    "duration": 11,
    "start_time": "2025-07-14T08:42:20.124Z"
   },
   {
    "duration": 142,
    "start_time": "2025-07-14T08:42:20.149Z"
   },
   {
    "duration": 472,
    "start_time": "2025-07-14T08:42:20.294Z"
   },
   {
    "duration": 258,
    "start_time": "2025-07-14T08:42:20.769Z"
   },
   {
    "duration": 130,
    "start_time": "2025-07-14T08:42:21.029Z"
   },
   {
    "duration": 2863,
    "start_time": "2025-07-14T08:42:21.161Z"
   },
   {
    "duration": 67,
    "start_time": "2025-07-14T08:42:24.026Z"
   },
   {
    "duration": 45256,
    "start_time": "2025-07-14T08:42:24.095Z"
   },
   {
    "duration": 29,
    "start_time": "2025-07-14T08:43:09.353Z"
   },
   {
    "duration": 50,
    "start_time": "2025-07-14T08:43:16.854Z"
   },
   {
    "duration": 45,
    "start_time": "2025-07-14T08:44:42.201Z"
   },
   {
    "duration": 54,
    "start_time": "2025-07-14T08:44:49.869Z"
   },
   {
    "duration": 16,
    "start_time": "2025-07-14T08:44:56.964Z"
   },
   {
    "duration": 17,
    "start_time": "2025-07-14T08:45:03.623Z"
   },
   {
    "duration": 373,
    "start_time": "2025-07-14T08:46:27.234Z"
   },
   {
    "duration": 422,
    "start_time": "2025-07-14T08:52:19.441Z"
   },
   {
    "duration": 1227,
    "start_time": "2025-07-14T09:44:56.582Z"
   },
   {
    "duration": 45,
    "start_time": "2025-07-14T09:44:57.811Z"
   },
   {
    "duration": 61,
    "start_time": "2025-07-14T09:44:57.859Z"
   },
   {
    "duration": 33,
    "start_time": "2025-07-14T09:44:57.922Z"
   },
   {
    "duration": 58,
    "start_time": "2025-07-14T09:44:57.959Z"
   },
   {
    "duration": 926,
    "start_time": "2025-07-14T09:44:58.019Z"
   },
   {
    "duration": 7,
    "start_time": "2025-07-14T09:44:58.951Z"
   },
   {
    "duration": 9,
    "start_time": "2025-07-14T09:44:58.962Z"
   },
   {
    "duration": 208,
    "start_time": "2025-07-14T09:44:58.973Z"
   },
   {
    "duration": 4855,
    "start_time": "2025-07-14T09:44:59.183Z"
   },
   {
    "duration": 3729,
    "start_time": "2025-07-14T09:45:04.040Z"
   },
   {
    "duration": 11,
    "start_time": "2025-07-14T09:45:07.773Z"
   },
   {
    "duration": 80,
    "start_time": "2025-07-14T09:45:07.786Z"
   },
   {
    "duration": 438,
    "start_time": "2025-07-14T09:45:07.869Z"
   },
   {
    "duration": 10,
    "start_time": "2025-07-14T09:45:08.308Z"
   },
   {
    "duration": 305,
    "start_time": "2025-07-14T09:45:08.321Z"
   },
   {
    "duration": 6,
    "start_time": "2025-07-14T09:45:08.630Z"
   },
   {
    "duration": 130,
    "start_time": "2025-07-14T09:45:08.638Z"
   },
   {
    "duration": 4,
    "start_time": "2025-07-14T09:45:08.772Z"
   },
   {
    "duration": 226,
    "start_time": "2025-07-14T09:45:08.778Z"
   },
   {
    "duration": 21,
    "start_time": "2025-07-14T09:45:09.005Z"
   },
   {
    "duration": 665,
    "start_time": "2025-07-14T09:45:09.027Z"
   },
   {
    "duration": 51,
    "start_time": "2025-07-14T09:45:09.694Z"
   },
   {
    "duration": 12,
    "start_time": "2025-07-14T09:45:09.750Z"
   },
   {
    "duration": 50,
    "start_time": "2025-07-14T09:45:09.766Z"
   },
   {
    "duration": 162,
    "start_time": "2025-07-14T09:45:09.818Z"
   },
   {
    "duration": 45,
    "start_time": "2025-07-14T09:45:09.982Z"
   },
   {
    "duration": 790,
    "start_time": "2025-07-14T09:45:10.029Z"
   },
   {
    "duration": 365,
    "start_time": "2025-07-14T09:45:10.821Z"
   },
   {
    "duration": 125,
    "start_time": "2025-07-14T09:45:11.188Z"
   },
   {
    "duration": 2939,
    "start_time": "2025-07-14T09:45:11.315Z"
   },
   {
    "duration": 69,
    "start_time": "2025-07-14T09:45:14.256Z"
   },
   {
    "duration": 44308,
    "start_time": "2025-07-14T09:45:14.326Z"
   },
   {
    "duration": 38,
    "start_time": "2025-07-14T09:45:58.636Z"
   },
   {
    "duration": 496,
    "start_time": "2025-07-14T09:51:32.062Z"
   },
   {
    "duration": 366,
    "start_time": "2025-07-14T09:52:07.077Z"
   },
   {
    "duration": 487,
    "start_time": "2025-07-14T09:53:59.416Z"
   },
   {
    "duration": 517,
    "start_time": "2025-07-14T09:54:08.798Z"
   },
   {
    "duration": 559,
    "start_time": "2025-07-14T09:54:16.341Z"
   },
   {
    "duration": 503,
    "start_time": "2025-07-14T09:55:43.108Z"
   },
   {
    "duration": 622,
    "start_time": "2025-07-14T09:55:49.076Z"
   },
   {
    "duration": 464,
    "start_time": "2025-07-14T09:56:00.436Z"
   },
   {
    "duration": 286,
    "start_time": "2025-07-14T09:58:03.055Z"
   },
   {
    "duration": 125,
    "start_time": "2025-07-14T10:00:22.687Z"
   },
   {
    "duration": 174,
    "start_time": "2025-07-14T10:00:36.598Z"
   },
   {
    "duration": 213,
    "start_time": "2025-07-14T10:00:42.380Z"
   },
   {
    "duration": 71,
    "start_time": "2025-07-14T10:02:25.395Z"
   },
   {
    "duration": 213,
    "start_time": "2025-07-14T10:02:31.700Z"
   },
   {
    "duration": 141,
    "start_time": "2025-07-14T10:03:05.393Z"
   },
   {
    "duration": 103,
    "start_time": "2025-07-14T10:04:11.205Z"
   },
   {
    "duration": 464,
    "start_time": "2025-07-14T11:01:26.466Z"
   },
   {
    "duration": 390,
    "start_time": "2025-07-14T11:01:46.028Z"
   },
   {
    "duration": 62,
    "start_time": "2025-07-14T11:04:30.184Z"
   },
   {
    "duration": 15,
    "start_time": "2025-07-14T11:05:47.400Z"
   },
   {
    "duration": 97,
    "start_time": "2025-07-14T11:06:07.453Z"
   },
   {
    "duration": 89,
    "start_time": "2025-07-14T11:06:19.232Z"
   },
   {
    "duration": 88,
    "start_time": "2025-07-14T11:06:33.390Z"
   },
   {
    "duration": 81,
    "start_time": "2025-07-14T11:08:11.532Z"
   },
   {
    "duration": 84,
    "start_time": "2025-07-14T11:16:12.636Z"
   },
   {
    "duration": 1316,
    "start_time": "2025-07-14T11:17:19.848Z"
   },
   {
    "duration": 55,
    "start_time": "2025-07-14T11:17:21.167Z"
   },
   {
    "duration": 119,
    "start_time": "2025-07-14T11:17:21.225Z"
   },
   {
    "duration": 8,
    "start_time": "2025-07-14T11:17:21.346Z"
   },
   {
    "duration": 12,
    "start_time": "2025-07-14T11:17:21.356Z"
   },
   {
    "duration": 954,
    "start_time": "2025-07-14T11:17:21.371Z"
   },
   {
    "duration": 5,
    "start_time": "2025-07-14T11:17:22.326Z"
   },
   {
    "duration": 5,
    "start_time": "2025-07-14T11:17:22.350Z"
   },
   {
    "duration": 217,
    "start_time": "2025-07-14T11:17:22.357Z"
   },
   {
    "duration": 5163,
    "start_time": "2025-07-14T11:17:22.575Z"
   },
   {
    "duration": 3664,
    "start_time": "2025-07-14T11:17:27.740Z"
   },
   {
    "duration": 14,
    "start_time": "2025-07-14T11:17:31.407Z"
   },
   {
    "duration": 76,
    "start_time": "2025-07-14T11:17:31.423Z"
   },
   {
    "duration": 447,
    "start_time": "2025-07-14T11:17:31.503Z"
   },
   {
    "duration": 19,
    "start_time": "2025-07-14T11:17:31.953Z"
   },
   {
    "duration": 301,
    "start_time": "2025-07-14T11:17:31.974Z"
   },
   {
    "duration": 7,
    "start_time": "2025-07-14T11:17:32.278Z"
   },
   {
    "duration": 190,
    "start_time": "2025-07-14T11:17:32.286Z"
   },
   {
    "duration": 4,
    "start_time": "2025-07-14T11:17:32.478Z"
   },
   {
    "duration": 166,
    "start_time": "2025-07-14T11:17:32.483Z"
   },
   {
    "duration": 30,
    "start_time": "2025-07-14T11:17:32.652Z"
   },
   {
    "duration": 633,
    "start_time": "2025-07-14T11:17:32.684Z"
   },
   {
    "duration": 55,
    "start_time": "2025-07-14T11:17:33.319Z"
   },
   {
    "duration": 6,
    "start_time": "2025-07-14T11:17:33.376Z"
   },
   {
    "duration": 46,
    "start_time": "2025-07-14T11:17:33.383Z"
   },
   {
    "duration": 182,
    "start_time": "2025-07-14T11:17:33.431Z"
   },
   {
    "duration": 54,
    "start_time": "2025-07-14T11:17:33.615Z"
   },
   {
    "duration": 506,
    "start_time": "2025-07-14T11:17:33.671Z"
   },
   {
    "duration": 343,
    "start_time": "2025-07-14T11:17:34.179Z"
   },
   {
    "duration": 148,
    "start_time": "2025-07-14T11:17:34.524Z"
   },
   {
    "duration": 125,
    "start_time": "2025-07-14T11:17:34.675Z"
   },
   {
    "duration": 3070,
    "start_time": "2025-07-14T11:17:34.801Z"
   },
   {
    "duration": 64,
    "start_time": "2025-07-14T11:17:37.873Z"
   },
   {
    "duration": 46280,
    "start_time": "2025-07-14T11:17:37.939Z"
   },
   {
    "duration": 459,
    "start_time": "2025-07-14T11:18:24.221Z"
   },
   {
    "duration": 91,
    "start_time": "2025-07-14T11:18:24.888Z"
   },
   {
    "duration": 73,
    "start_time": "2025-07-14T11:18:36.755Z"
   },
   {
    "duration": 59,
    "start_time": "2025-07-14T11:19:02.571Z"
   },
   {
    "duration": 82,
    "start_time": "2025-07-14T11:20:00.504Z"
   },
   {
    "duration": 15,
    "start_time": "2025-07-14T11:20:07.327Z"
   },
   {
    "duration": 85,
    "start_time": "2025-07-14T11:20:20.365Z"
   },
   {
    "duration": 50,
    "start_time": "2025-07-14T18:26:47.708Z"
   },
   {
    "duration": 10,
    "start_time": "2025-07-14T18:27:06.662Z"
   },
   {
    "duration": 1427,
    "start_time": "2025-07-14T18:27:18.731Z"
   },
   {
    "duration": 163,
    "start_time": "2025-07-14T18:27:20.160Z"
   },
   {
    "duration": 64,
    "start_time": "2025-07-14T18:27:20.324Z"
   },
   {
    "duration": 7,
    "start_time": "2025-07-14T18:27:20.391Z"
   },
   {
    "duration": 14,
    "start_time": "2025-07-14T18:27:20.401Z"
   },
   {
    "duration": 2005,
    "start_time": "2025-07-14T18:27:20.417Z"
   },
   {
    "duration": 5,
    "start_time": "2025-07-14T18:27:22.424Z"
   },
   {
    "duration": 12,
    "start_time": "2025-07-14T18:27:22.431Z"
   },
   {
    "duration": 192,
    "start_time": "2025-07-14T18:27:22.445Z"
   },
   {
    "duration": 5489,
    "start_time": "2025-07-14T18:27:22.639Z"
   },
   {
    "duration": 3608,
    "start_time": "2025-07-14T18:27:28.131Z"
   },
   {
    "duration": 11,
    "start_time": "2025-07-14T18:27:31.741Z"
   },
   {
    "duration": 57,
    "start_time": "2025-07-14T18:27:31.754Z"
   },
   {
    "duration": 454,
    "start_time": "2025-07-14T18:27:31.814Z"
   },
   {
    "duration": 19,
    "start_time": "2025-07-14T18:27:32.271Z"
   },
   {
    "duration": 698,
    "start_time": "2025-07-14T18:27:32.292Z"
   },
   {
    "duration": 6,
    "start_time": "2025-07-14T18:27:32.992Z"
   },
   {
    "duration": 511,
    "start_time": "2025-07-14T18:27:33.000Z"
   },
   {
    "duration": 3,
    "start_time": "2025-07-14T18:27:33.513Z"
   },
   {
    "duration": 525,
    "start_time": "2025-07-14T18:27:33.518Z"
   },
   {
    "duration": 20,
    "start_time": "2025-07-14T18:27:34.044Z"
   },
   {
    "duration": 127,
    "start_time": "2025-07-14T18:27:34.065Z"
   },
   {
    "duration": 0,
    "start_time": "2025-07-14T18:27:34.194Z"
   },
   {
    "duration": 0,
    "start_time": "2025-07-14T18:27:34.195Z"
   },
   {
    "duration": 0,
    "start_time": "2025-07-14T18:27:34.196Z"
   },
   {
    "duration": 0,
    "start_time": "2025-07-14T18:27:34.197Z"
   },
   {
    "duration": 0,
    "start_time": "2025-07-14T18:27:34.198Z"
   },
   {
    "duration": 0,
    "start_time": "2025-07-14T18:27:34.199Z"
   },
   {
    "duration": 0,
    "start_time": "2025-07-14T18:27:34.200Z"
   },
   {
    "duration": 0,
    "start_time": "2025-07-14T18:27:34.202Z"
   },
   {
    "duration": 0,
    "start_time": "2025-07-14T18:27:34.203Z"
   },
   {
    "duration": 0,
    "start_time": "2025-07-14T18:27:34.204Z"
   },
   {
    "duration": 0,
    "start_time": "2025-07-14T18:27:34.205Z"
   },
   {
    "duration": 0,
    "start_time": "2025-07-14T18:27:34.206Z"
   },
   {
    "duration": 0,
    "start_time": "2025-07-14T18:27:34.207Z"
   },
   {
    "duration": 0,
    "start_time": "2025-07-14T18:27:34.209Z"
   },
   {
    "duration": 0,
    "start_time": "2025-07-14T18:27:34.210Z"
   },
   {
    "duration": 79,
    "start_time": "2025-07-14T18:27:39.024Z"
   },
   {
    "duration": 144,
    "start_time": "2025-07-14T18:27:48.886Z"
   },
   {
    "duration": 67,
    "start_time": "2025-07-14T18:27:56.349Z"
   },
   {
    "duration": 15,
    "start_time": "2025-07-14T18:29:02.731Z"
   },
   {
    "duration": 14,
    "start_time": "2025-07-14T18:29:45.627Z"
   },
   {
    "duration": 14,
    "start_time": "2025-07-14T18:29:58.584Z"
   },
   {
    "duration": 19,
    "start_time": "2025-07-14T18:30:51.473Z"
   },
   {
    "duration": 20,
    "start_time": "2025-07-14T18:30:54.409Z"
   },
   {
    "duration": 43,
    "start_time": "2025-07-14T18:31:08.913Z"
   },
   {
    "duration": 110,
    "start_time": "2025-07-14T18:31:46.037Z"
   },
   {
    "duration": 24,
    "start_time": "2025-07-14T18:31:52.616Z"
   },
   {
    "duration": 53,
    "start_time": "2025-07-14T18:32:11.048Z"
   },
   {
    "duration": 35,
    "start_time": "2025-07-14T18:32:27.875Z"
   },
   {
    "duration": 34,
    "start_time": "2025-07-14T18:33:05.574Z"
   },
   {
    "duration": 25,
    "start_time": "2025-07-14T18:33:09.233Z"
   },
   {
    "duration": 155,
    "start_time": "2025-07-14T18:33:13.086Z"
   },
   {
    "duration": 22,
    "start_time": "2025-07-14T18:33:24.535Z"
   },
   {
    "duration": 41,
    "start_time": "2025-07-14T18:34:29.917Z"
   },
   {
    "duration": 51,
    "start_time": "2025-07-14T18:34:40.345Z"
   },
   {
    "duration": 65,
    "start_time": "2025-07-14T18:35:13.394Z"
   },
   {
    "duration": 39,
    "start_time": "2025-07-14T18:35:54.148Z"
   },
   {
    "duration": 40,
    "start_time": "2025-07-14T18:36:09.284Z"
   },
   {
    "duration": 41,
    "start_time": "2025-07-14T18:37:35.710Z"
   },
   {
    "duration": 54,
    "start_time": "2025-07-14T18:38:11.290Z"
   },
   {
    "duration": 20,
    "start_time": "2025-07-14T18:42:14.865Z"
   },
   {
    "duration": 915,
    "start_time": "2025-07-14T18:46:16.946Z"
   },
   {
    "duration": 204,
    "start_time": "2025-07-14T18:50:17.794Z"
   },
   {
    "duration": 283,
    "start_time": "2025-07-14T18:50:45.118Z"
   },
   {
    "duration": 364,
    "start_time": "2025-07-14T18:50:52.538Z"
   },
   {
    "duration": 272,
    "start_time": "2025-07-14T18:50:58.741Z"
   },
   {
    "duration": 22,
    "start_time": "2025-07-14T18:51:15.949Z"
   },
   {
    "duration": 224,
    "start_time": "2025-07-14T18:51:21.197Z"
   },
   {
    "duration": 243,
    "start_time": "2025-07-14T18:53:10.992Z"
   },
   {
    "duration": 276,
    "start_time": "2025-07-14T18:55:18.624Z"
   },
   {
    "duration": 14,
    "start_time": "2025-07-14T18:58:22.476Z"
   },
   {
    "duration": 13,
    "start_time": "2025-07-14T19:00:53.142Z"
   },
   {
    "duration": 10,
    "start_time": "2025-07-14T19:01:17.603Z"
   },
   {
    "duration": 108,
    "start_time": "2025-07-14T19:02:14.663Z"
   },
   {
    "duration": 354,
    "start_time": "2025-07-14T19:03:50.219Z"
   },
   {
    "duration": 418,
    "start_time": "2025-07-14T19:07:12.195Z"
   },
   {
    "duration": 9,
    "start_time": "2025-07-14T19:10:41.869Z"
   },
   {
    "duration": 6,
    "start_time": "2025-07-14T19:10:47.174Z"
   },
   {
    "duration": 51,
    "start_time": "2025-07-14T19:21:14.869Z"
   },
   {
    "duration": 39,
    "start_time": "2025-07-14T19:21:24.723Z"
   },
   {
    "duration": 44,
    "start_time": "2025-07-14T19:21:29.963Z"
   },
   {
    "duration": 49,
    "start_time": "2025-07-14T19:22:12.698Z"
   },
   {
    "duration": 50,
    "start_time": "2025-07-14T19:22:48.563Z"
   },
   {
    "duration": 10,
    "start_time": "2025-07-14T19:48:28.703Z"
   },
   {
    "duration": 108,
    "start_time": "2025-07-14T19:48:39.332Z"
   },
   {
    "duration": 100,
    "start_time": "2025-07-14T19:50:59.527Z"
   },
   {
    "duration": 124,
    "start_time": "2025-07-14T19:56:20.758Z"
   },
   {
    "duration": 114,
    "start_time": "2025-07-14T19:56:28.518Z"
   },
   {
    "duration": 114,
    "start_time": "2025-07-14T19:56:39.313Z"
   },
   {
    "duration": 127,
    "start_time": "2025-07-14T19:56:43.354Z"
   },
   {
    "duration": 334,
    "start_time": "2025-07-14T20:07:24.898Z"
   },
   {
    "duration": 136,
    "start_time": "2025-07-14T20:08:10.355Z"
   },
   {
    "duration": 213,
    "start_time": "2025-07-14T20:08:13.674Z"
   },
   {
    "duration": 44,
    "start_time": "2025-07-14T20:08:16.475Z"
   },
   {
    "duration": 45,
    "start_time": "2025-07-14T20:08:32.659Z"
   },
   {
    "duration": 289,
    "start_time": "2025-07-14T20:08:40.187Z"
   },
   {
    "duration": 41,
    "start_time": "2025-07-14T20:08:46.953Z"
   },
   {
    "duration": 323,
    "start_time": "2025-07-14T20:09:23.109Z"
   },
   {
    "duration": 290,
    "start_time": "2025-07-14T20:09:40.557Z"
   },
   {
    "duration": 1413,
    "start_time": "2025-07-15T06:19:24.746Z"
   },
   {
    "duration": 57,
    "start_time": "2025-07-15T06:19:26.162Z"
   },
   {
    "duration": 63,
    "start_time": "2025-07-15T06:19:26.221Z"
   },
   {
    "duration": 8,
    "start_time": "2025-07-15T06:19:26.286Z"
   },
   {
    "duration": 11,
    "start_time": "2025-07-15T06:19:26.296Z"
   },
   {
    "duration": 857,
    "start_time": "2025-07-15T06:19:26.308Z"
   },
   {
    "duration": 14,
    "start_time": "2025-07-15T06:19:27.172Z"
   },
   {
    "duration": 5,
    "start_time": "2025-07-15T06:19:27.187Z"
   },
   {
    "duration": 189,
    "start_time": "2025-07-15T06:19:27.194Z"
   },
   {
    "duration": 5443,
    "start_time": "2025-07-15T06:19:27.385Z"
   },
   {
    "duration": 3387,
    "start_time": "2025-07-15T06:19:32.830Z"
   },
   {
    "duration": 12,
    "start_time": "2025-07-15T06:19:36.219Z"
   },
   {
    "duration": 77,
    "start_time": "2025-07-15T06:19:36.233Z"
   },
   {
    "duration": 424,
    "start_time": "2025-07-15T06:19:36.314Z"
   },
   {
    "duration": 8,
    "start_time": "2025-07-15T06:19:36.740Z"
   },
   {
    "duration": 290,
    "start_time": "2025-07-15T06:19:36.750Z"
   },
   {
    "duration": 7,
    "start_time": "2025-07-15T06:19:37.042Z"
   },
   {
    "duration": 134,
    "start_time": "2025-07-15T06:19:37.051Z"
   },
   {
    "duration": 4,
    "start_time": "2025-07-15T06:19:37.186Z"
   },
   {
    "duration": 137,
    "start_time": "2025-07-15T06:19:37.192Z"
   },
   {
    "duration": 20,
    "start_time": "2025-07-15T06:19:37.331Z"
   },
   {
    "duration": 133,
    "start_time": "2025-07-15T06:19:37.353Z"
   },
   {
    "duration": 0,
    "start_time": "2025-07-15T06:19:37.487Z"
   },
   {
    "duration": 1,
    "start_time": "2025-07-15T06:19:37.488Z"
   },
   {
    "duration": 0,
    "start_time": "2025-07-15T06:19:37.489Z"
   },
   {
    "duration": 0,
    "start_time": "2025-07-15T06:19:37.491Z"
   },
   {
    "duration": 0,
    "start_time": "2025-07-15T06:19:37.492Z"
   },
   {
    "duration": 0,
    "start_time": "2025-07-15T06:19:37.493Z"
   },
   {
    "duration": 0,
    "start_time": "2025-07-15T06:19:37.494Z"
   },
   {
    "duration": 0,
    "start_time": "2025-07-15T06:19:37.495Z"
   },
   {
    "duration": 0,
    "start_time": "2025-07-15T06:19:37.496Z"
   },
   {
    "duration": 0,
    "start_time": "2025-07-15T06:19:37.498Z"
   },
   {
    "duration": 1,
    "start_time": "2025-07-15T06:19:37.498Z"
   },
   {
    "duration": 0,
    "start_time": "2025-07-15T06:19:37.500Z"
   },
   {
    "duration": 0,
    "start_time": "2025-07-15T06:19:37.501Z"
   },
   {
    "duration": 0,
    "start_time": "2025-07-15T06:19:37.502Z"
   },
   {
    "duration": 0,
    "start_time": "2025-07-15T06:19:37.503Z"
   },
   {
    "duration": 0,
    "start_time": "2025-07-15T06:19:37.504Z"
   },
   {
    "duration": 0,
    "start_time": "2025-07-15T06:19:37.505Z"
   },
   {
    "duration": 0,
    "start_time": "2025-07-15T06:19:37.506Z"
   },
   {
    "duration": 0,
    "start_time": "2025-07-15T06:19:37.507Z"
   },
   {
    "duration": 0,
    "start_time": "2025-07-15T06:19:37.508Z"
   },
   {
    "duration": 204,
    "start_time": "2025-07-15T06:21:59.985Z"
   },
   {
    "duration": 1286,
    "start_time": "2025-07-15T06:22:08.055Z"
   },
   {
    "duration": 62,
    "start_time": "2025-07-15T06:22:09.343Z"
   },
   {
    "duration": 53,
    "start_time": "2025-07-15T06:22:09.406Z"
   },
   {
    "duration": 29,
    "start_time": "2025-07-15T06:22:09.461Z"
   },
   {
    "duration": 19,
    "start_time": "2025-07-15T06:22:09.492Z"
   },
   {
    "duration": 878,
    "start_time": "2025-07-15T06:22:09.512Z"
   },
   {
    "duration": 5,
    "start_time": "2025-07-15T06:22:10.392Z"
   },
   {
    "duration": 8,
    "start_time": "2025-07-15T06:22:10.398Z"
   },
   {
    "duration": 198,
    "start_time": "2025-07-15T06:22:10.407Z"
   },
   {
    "duration": 4513,
    "start_time": "2025-07-15T06:22:10.607Z"
   },
   {
    "duration": 3390,
    "start_time": "2025-07-15T06:22:15.122Z"
   },
   {
    "duration": 12,
    "start_time": "2025-07-15T06:22:18.513Z"
   },
   {
    "duration": 78,
    "start_time": "2025-07-15T06:22:18.526Z"
   },
   {
    "duration": 416,
    "start_time": "2025-07-15T06:22:18.606Z"
   },
   {
    "duration": 9,
    "start_time": "2025-07-15T06:22:19.024Z"
   },
   {
    "duration": 277,
    "start_time": "2025-07-15T06:22:19.035Z"
   },
   {
    "duration": 6,
    "start_time": "2025-07-15T06:22:19.314Z"
   },
   {
    "duration": 123,
    "start_time": "2025-07-15T06:22:19.322Z"
   },
   {
    "duration": 3,
    "start_time": "2025-07-15T06:22:19.447Z"
   },
   {
    "duration": 157,
    "start_time": "2025-07-15T06:22:19.452Z"
   },
   {
    "duration": 19,
    "start_time": "2025-07-15T06:22:19.611Z"
   },
   {
    "duration": 122,
    "start_time": "2025-07-15T06:22:19.632Z"
   },
   {
    "duration": 0,
    "start_time": "2025-07-15T06:22:19.756Z"
   },
   {
    "duration": 0,
    "start_time": "2025-07-15T06:22:19.757Z"
   },
   {
    "duration": 0,
    "start_time": "2025-07-15T06:22:19.759Z"
   },
   {
    "duration": 0,
    "start_time": "2025-07-15T06:22:19.759Z"
   },
   {
    "duration": 0,
    "start_time": "2025-07-15T06:22:19.771Z"
   },
   {
    "duration": 0,
    "start_time": "2025-07-15T06:22:19.772Z"
   },
   {
    "duration": 0,
    "start_time": "2025-07-15T06:22:19.775Z"
   },
   {
    "duration": 1,
    "start_time": "2025-07-15T06:22:19.775Z"
   },
   {
    "duration": 0,
    "start_time": "2025-07-15T06:22:19.776Z"
   },
   {
    "duration": 0,
    "start_time": "2025-07-15T06:22:19.782Z"
   },
   {
    "duration": 0,
    "start_time": "2025-07-15T06:22:19.784Z"
   },
   {
    "duration": 0,
    "start_time": "2025-07-15T06:22:19.786Z"
   },
   {
    "duration": 0,
    "start_time": "2025-07-15T06:22:19.787Z"
   },
   {
    "duration": 0,
    "start_time": "2025-07-15T06:22:19.789Z"
   },
   {
    "duration": 0,
    "start_time": "2025-07-15T06:22:19.791Z"
   },
   {
    "duration": 0,
    "start_time": "2025-07-15T06:22:19.792Z"
   },
   {
    "duration": 0,
    "start_time": "2025-07-15T06:22:19.794Z"
   },
   {
    "duration": 1,
    "start_time": "2025-07-15T06:22:19.795Z"
   },
   {
    "duration": 0,
    "start_time": "2025-07-15T06:22:19.797Z"
   },
   {
    "duration": 0,
    "start_time": "2025-07-15T06:22:19.799Z"
   },
   {
    "duration": 15,
    "start_time": "2025-07-15T06:24:45.840Z"
   },
   {
    "duration": 1223,
    "start_time": "2025-07-15T06:25:10.290Z"
   },
   {
    "duration": 42,
    "start_time": "2025-07-15T06:25:11.515Z"
   },
   {
    "duration": 56,
    "start_time": "2025-07-15T06:25:11.558Z"
   },
   {
    "duration": 11,
    "start_time": "2025-07-15T06:25:11.616Z"
   },
   {
    "duration": 32,
    "start_time": "2025-07-15T06:25:11.629Z"
   },
   {
    "duration": 847,
    "start_time": "2025-07-15T06:25:11.663Z"
   },
   {
    "duration": 5,
    "start_time": "2025-07-15T06:25:12.512Z"
   },
   {
    "duration": 36,
    "start_time": "2025-07-15T06:25:12.519Z"
   },
   {
    "duration": 183,
    "start_time": "2025-07-15T06:25:12.557Z"
   },
   {
    "duration": 4469,
    "start_time": "2025-07-15T06:25:12.743Z"
   },
   {
    "duration": 3379,
    "start_time": "2025-07-15T06:25:17.215Z"
   },
   {
    "duration": 11,
    "start_time": "2025-07-15T06:25:20.596Z"
   },
   {
    "duration": 75,
    "start_time": "2025-07-15T06:25:20.609Z"
   },
   {
    "duration": 403,
    "start_time": "2025-07-15T06:25:20.686Z"
   },
   {
    "duration": 8,
    "start_time": "2025-07-15T06:25:21.091Z"
   },
   {
    "duration": 263,
    "start_time": "2025-07-15T06:25:21.101Z"
   },
   {
    "duration": 12,
    "start_time": "2025-07-15T06:25:21.374Z"
   },
   {
    "duration": 110,
    "start_time": "2025-07-15T06:25:21.388Z"
   },
   {
    "duration": 3,
    "start_time": "2025-07-15T06:25:21.499Z"
   },
   {
    "duration": 139,
    "start_time": "2025-07-15T06:25:21.504Z"
   },
   {
    "duration": 20,
    "start_time": "2025-07-15T06:25:21.644Z"
   },
   {
    "duration": 130,
    "start_time": "2025-07-15T06:25:21.666Z"
   },
   {
    "duration": 0,
    "start_time": "2025-07-15T06:25:21.798Z"
   },
   {
    "duration": 0,
    "start_time": "2025-07-15T06:25:21.799Z"
   },
   {
    "duration": 0,
    "start_time": "2025-07-15T06:25:21.800Z"
   },
   {
    "duration": 0,
    "start_time": "2025-07-15T06:25:21.802Z"
   },
   {
    "duration": 0,
    "start_time": "2025-07-15T06:25:21.803Z"
   },
   {
    "duration": 0,
    "start_time": "2025-07-15T06:25:21.803Z"
   },
   {
    "duration": 0,
    "start_time": "2025-07-15T06:25:21.805Z"
   },
   {
    "duration": 0,
    "start_time": "2025-07-15T06:25:21.806Z"
   },
   {
    "duration": 0,
    "start_time": "2025-07-15T06:25:21.807Z"
   },
   {
    "duration": 0,
    "start_time": "2025-07-15T06:25:21.808Z"
   },
   {
    "duration": 0,
    "start_time": "2025-07-15T06:25:21.809Z"
   },
   {
    "duration": 0,
    "start_time": "2025-07-15T06:25:21.810Z"
   },
   {
    "duration": 0,
    "start_time": "2025-07-15T06:25:21.811Z"
   },
   {
    "duration": 0,
    "start_time": "2025-07-15T06:25:21.812Z"
   },
   {
    "duration": 0,
    "start_time": "2025-07-15T06:25:21.814Z"
   },
   {
    "duration": 0,
    "start_time": "2025-07-15T06:25:21.815Z"
   },
   {
    "duration": 0,
    "start_time": "2025-07-15T06:25:21.816Z"
   },
   {
    "duration": 0,
    "start_time": "2025-07-15T06:25:21.817Z"
   },
   {
    "duration": 0,
    "start_time": "2025-07-15T06:25:21.818Z"
   },
   {
    "duration": 0,
    "start_time": "2025-07-15T06:25:21.819Z"
   },
   {
    "duration": 8735,
    "start_time": "2025-07-15T06:25:59.608Z"
   },
   {
    "duration": 3184,
    "start_time": "2025-07-15T06:26:22.720Z"
   },
   {
    "duration": 174,
    "start_time": "2025-07-15T06:26:31.383Z"
   },
   {
    "duration": 6,
    "start_time": "2025-07-15T06:26:34.360Z"
   },
   {
    "duration": 215,
    "start_time": "2025-07-15T06:26:35.439Z"
   },
   {
    "duration": 167,
    "start_time": "2025-07-15T06:26:38.550Z"
   },
   {
    "duration": 50,
    "start_time": "2025-07-15T06:26:41.261Z"
   },
   {
    "duration": 501,
    "start_time": "2025-07-15T06:26:41.828Z"
   },
   {
    "duration": 345,
    "start_time": "2025-07-15T06:26:44.670Z"
   },
   {
    "duration": 135,
    "start_time": "2025-07-15T06:26:46.929Z"
   },
   {
    "duration": 103,
    "start_time": "2025-07-15T06:26:49.538Z"
   },
   {
    "duration": 2860,
    "start_time": "2025-07-15T06:26:51.940Z"
   },
   {
    "duration": 71,
    "start_time": "2025-07-15T06:26:57.560Z"
   },
   {
    "duration": 40126,
    "start_time": "2025-07-15T06:26:58.360Z"
   },
   {
    "duration": 398,
    "start_time": "2025-07-15T06:27:38.488Z"
   },
   {
    "duration": 91,
    "start_time": "2025-07-15T06:27:38.887Z"
   },
   {
    "duration": 39,
    "start_time": "2025-07-15T06:27:38.986Z"
   },
   {
    "duration": 11,
    "start_time": "2025-07-15T06:28:35.510Z"
   },
   {
    "duration": 423,
    "start_time": "2025-07-15T06:28:36.568Z"
   },
   {
    "duration": 41,
    "start_time": "2025-07-15T06:28:58.511Z"
   },
   {
    "duration": 45,
    "start_time": "2025-07-15T06:31:59.377Z"
   },
   {
    "duration": 39,
    "start_time": "2025-07-15T06:34:29.438Z"
   },
   {
    "duration": 46,
    "start_time": "2025-07-15T06:35:10.596Z"
   },
   {
    "duration": 39,
    "start_time": "2025-07-15T06:35:23.115Z"
   },
   {
    "duration": 13,
    "start_time": "2025-07-15T06:42:01.093Z"
   },
   {
    "duration": 19,
    "start_time": "2025-07-15T06:42:17.332Z"
   },
   {
    "duration": 101,
    "start_time": "2025-07-15T06:43:35.631Z"
   },
   {
    "duration": 258,
    "start_time": "2025-07-15T06:48:40.469Z"
   },
   {
    "duration": 45,
    "start_time": "2025-07-15T07:52:25.259Z"
   },
   {
    "duration": 4715,
    "start_time": "2025-07-27T18:34:05.417Z"
   },
   {
    "duration": 1203,
    "start_time": "2025-07-27T18:34:23.698Z"
   },
   {
    "duration": 53,
    "start_time": "2025-07-27T18:34:24.903Z"
   },
   {
    "duration": 65,
    "start_time": "2025-07-27T18:34:24.958Z"
   },
   {
    "duration": 7,
    "start_time": "2025-07-27T18:34:25.025Z"
   },
   {
    "duration": 13,
    "start_time": "2025-07-27T18:34:25.033Z"
   },
   {
    "duration": 831,
    "start_time": "2025-07-27T18:34:25.048Z"
   },
   {
    "duration": 4,
    "start_time": "2025-07-27T18:34:25.880Z"
   },
   {
    "duration": 5,
    "start_time": "2025-07-27T18:34:25.886Z"
   },
   {
    "duration": 191,
    "start_time": "2025-07-27T18:34:25.892Z"
   },
   {
    "duration": 4095,
    "start_time": "2025-07-27T18:34:26.086Z"
   },
   {
    "duration": 3293,
    "start_time": "2025-07-27T18:34:30.183Z"
   },
   {
    "duration": 11,
    "start_time": "2025-07-27T18:34:33.478Z"
   },
   {
    "duration": 51,
    "start_time": "2025-07-27T18:34:33.491Z"
   },
   {
    "duration": 376,
    "start_time": "2025-07-27T18:34:33.544Z"
   },
   {
    "duration": 10,
    "start_time": "2025-07-27T18:34:33.923Z"
   },
   {
    "duration": 253,
    "start_time": "2025-07-27T18:34:33.935Z"
   },
   {
    "duration": 7,
    "start_time": "2025-07-27T18:34:34.190Z"
   },
   {
    "duration": 133,
    "start_time": "2025-07-27T18:34:34.199Z"
   },
   {
    "duration": 4,
    "start_time": "2025-07-27T18:34:34.334Z"
   },
   {
    "duration": 133,
    "start_time": "2025-07-27T18:34:34.340Z"
   },
   {
    "duration": 21,
    "start_time": "2025-07-27T18:34:34.475Z"
   },
   {
    "duration": 8560,
    "start_time": "2025-07-27T18:34:34.498Z"
   },
   {
    "duration": 49,
    "start_time": "2025-07-27T18:34:43.060Z"
   },
   {
    "duration": 5,
    "start_time": "2025-07-27T18:34:43.111Z"
   },
   {
    "duration": 51,
    "start_time": "2025-07-27T18:34:43.118Z"
   },
   {
    "duration": 154,
    "start_time": "2025-07-27T18:34:43.171Z"
   },
   {
    "duration": 57,
    "start_time": "2025-07-27T18:34:43.326Z"
   },
   {
    "duration": 512,
    "start_time": "2025-07-27T18:34:43.388Z"
   },
   {
    "duration": 315,
    "start_time": "2025-07-27T18:34:43.902Z"
   },
   {
    "duration": 134,
    "start_time": "2025-07-27T18:34:44.219Z"
   },
   {
    "duration": 116,
    "start_time": "2025-07-27T18:34:44.355Z"
   },
   {
    "duration": 2673,
    "start_time": "2025-07-27T18:34:44.473Z"
   },
   {
    "duration": 66,
    "start_time": "2025-07-27T18:34:47.148Z"
   },
   {
    "duration": 37458,
    "start_time": "2025-07-27T18:34:47.215Z"
   },
   {
    "duration": 373,
    "start_time": "2025-07-27T18:35:24.674Z"
   },
   {
    "duration": 76,
    "start_time": "2025-07-27T18:35:25.049Z"
   },
   {
    "duration": 52,
    "start_time": "2025-07-27T18:35:25.127Z"
   },
   {
    "duration": 12,
    "start_time": "2025-07-27T18:35:25.181Z"
   },
   {
    "duration": 443,
    "start_time": "2025-07-27T18:35:25.194Z"
   },
   {
    "duration": 145,
    "start_time": "2025-07-27T18:35:25.639Z"
   },
   {
    "duration": 0,
    "start_time": "2025-07-27T18:35:25.786Z"
   },
   {
    "duration": 0,
    "start_time": "2025-07-27T18:35:25.787Z"
   },
   {
    "duration": 2683,
    "start_time": "2025-07-27T18:35:58.026Z"
   },
   {
    "duration": 58,
    "start_time": "2025-07-27T18:36:58.906Z"
   }
  ],
  "colab": {
   "provenance": []
  },
  "kernelspec": {
   "display_name": "Python 3 (ipykernel)",
   "language": "python",
   "name": "python3"
  },
  "language_info": {
   "codemirror_mode": {
    "name": "ipython",
    "version": 3
   },
   "file_extension": ".py",
   "mimetype": "text/x-python",
   "name": "python",
   "nbconvert_exporter": "python",
   "pygments_lexer": "ipython3",
   "version": "3.9.5"
  },
  "toc": {
   "base_numbering": 1,
   "nav_menu": {},
   "number_sections": true,
   "sideBar": true,
   "skip_h1_title": true,
   "title_cell": "Table of Contents",
   "title_sidebar": "Contents",
   "toc_cell": false,
   "toc_position": {},
   "toc_section_display": true,
   "toc_window_display": false
  }
 },
 "nbformat": 4,
 "nbformat_minor": 1
}
